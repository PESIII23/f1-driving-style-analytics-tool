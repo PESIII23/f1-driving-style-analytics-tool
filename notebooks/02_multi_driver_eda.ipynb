{
 "cells": [
  {
   "cell_type": "markdown",
   "id": "752128ae",
   "metadata": {},
   "source": [
    "Multi-Driver Exploratory Data Analysis\n",
    "\n",
    "This notebook engineers telemetry data from the Fast-F1 API for telemetry dataframes for multiple drivers. It utilizes a structured workflow for data acquisition, preparation, and further exploration prior applying machine learning models to multi-driver behavior analysis results. Descriptive statistics and visualization functions provide dynamic insights into the data to identify patterns or anomalies, and guide subsequent feature engineering and modeling decisions.\n",
    "\n",
    "NOTE: This notebook will not compile as standalone. Please pull down the project from GitHub (git clone https://github.com/yourusername/f1-driving-style-analytics-tool.git) and install the necessary dependencies. Further instruction is included in the README.md"
   ]
  },
  {
   "cell_type": "markdown",
   "id": "3e20a0c0",
   "metadata": {},
   "source": [
    "The code below adds the parent directory to Python’s module search path and configures logging to suppress all FastF1 logs below the warning level. This will enable subsequent code blocks that use imports to work seamlessly and keep my resulting code compilations clean and easy to read."
   ]
  },
  {
   "cell_type": "code",
   "execution_count": 1,
   "id": "706a7d6d",
   "metadata": {},
   "outputs": [],
   "source": [
    "import sys\n",
    "import os\n",
    "import logging\n",
    "\n",
    "root = os.path.abspath(\"..\")\n",
    "sys.path.append(root)\n",
    "\n",
    "logging.getLogger('fastf1').setLevel(logging.WARNING)"
   ]
  },
  {
   "cell_type": "markdown",
   "id": "67fb729b",
   "metadata": {},
   "source": [
    "In this section, I import Python libraries for data visualization, numerical analysis, and working with Pandas dataframes that the FastF1 API is primarily structured with. I also import custom functions and modules for preprocessing F1 data and constants. To support full visibility into the datasets without truncation, I configure Pandas display options to show all rows and columns."
   ]
  },
  {
   "cell_type": "code",
   "execution_count": 2,
   "id": "33c3b78c",
   "metadata": {},
   "outputs": [],
   "source": [
    "from src.data import f1_data\n",
    "from src.utils import f1_constants, f1_pandas_helpers\n",
    "from src.preprocessing import telemetry_cleaning, feature_engineering\n",
    "from src.viz import plots\n",
    "\n",
    "import pandas as pd\n",
    "import seaborn as sns\n",
    "import matplotlib.pyplot as plt\n",
    "\n",
    "pd.set_option('display.max_rows', None)  # reset_option to compact dataframe view\n",
    "pd.set_option('display.max_columns', None)\n"
   ]
  },
  {
   "cell_type": "markdown",
   "id": "b78f67a9",
   "metadata": {},
   "source": [
    "The following code initializes a single F1 race session by defining parameters such as year, location, and session type. These values are passed into the custom F1Session class (from f1_data.py), which creates a session object built on top of Fast-F1. This object provides access to race data as well as custom functions I’ve implemented.\n",
    "\n",
    "The session parameters were chosen to best match Tier 1 control qualities:\n",
    "\n",
    "- Weather: Abu Dhabi (clear, dry conditions)\n",
    "- Max Speed: C5 Ultra Soft Tires\n",
    "- Minimize Outliers: Qualifying Sessions (Q3 & Q2)\n",
    "- Traffic: Avoid tow laps to avoid slipstream bias"
   ]
  },
  {
   "cell_type": "code",
   "execution_count": 3,
   "id": "087da416",
   "metadata": {},
   "outputs": [
    {
     "name": "stderr",
     "output_type": "stream",
     "text": [
      "req         WARNING \tDEFAULT CACHE ENABLED! (716.91 MB) /Users/phillipsmith/Library/Caches/fastf1\n",
      "core           INFO \tLoading data for Abu Dhabi Grand Prix - Qualifying [v3.6.0]\n",
      "req            INFO \tUsing cached data for session_info\n",
      "req            INFO \tUsing cached data for driver_info\n",
      "req            INFO \tUsing cached data for session_status_data\n",
      "req            INFO \tUsing cached data for track_status_data\n",
      "req            INFO \tUsing cached data for _extended_timing_data\n",
      "req            INFO \tUsing cached data for timing_app_data\n",
      "core           INFO \tProcessing timing data...\n",
      "req            INFO \tUsing cached data for car_data\n",
      "req            INFO \tUsing cached data for position_data\n",
      "req            INFO \tUsing cached data for weather_data\n",
      "req            INFO \tUsing cached data for race_control_messages\n",
      "core           INFO \tFinished loading data for 20 drivers: ['4', '81', '55', '27', '1', '10', '63', '14', '77', '11', '22', '30', '18', '16', '20', '23', '24', '44', '43', '61']\n"
     ]
    }
   ],
   "source": [
    "year = 2024\n",
    "grand_prix = f1_constants.F1Constants.LOCATIONS[\"Abu Dhabi\"]\n",
    "session_type = f1_constants.F1Constants.SESSIONS[\"Q\"]\n",
    "\n",
    "session = f1_data.F1Session(year, grand_prix, session_type)"
   ]
  },
  {
   "cell_type": "markdown",
   "id": "b18ca600",
   "metadata": {},
   "source": [
    "All drivers who participated in the specific location's Q2 and Q3 sessions will be analyzed and assigned variables to be identified by their three-letter name code. Q3 data will be used for each driver whenever available; otherwise, Q2 data will be selected.\n",
    "\n",
    "Constants for telemetry data is also initialized as variables for ease of use during visualization."
   ]
  },
  {
   "cell_type": "code",
   "execution_count": 4,
   "id": "d96e96e8",
   "metadata": {},
   "outputs": [],
   "source": [
    "# driver constants\n",
    "norris = f1_constants.F1Constants.DRIVERS[\"Lando Norris\"]\n",
    "piastri = f1_constants.F1Constants.DRIVERS[\"Oscar Piastri\"]\n",
    "verstappen = f1_constants.F1Constants.DRIVERS[\"Max Verstappen\"]\n",
    "perez = f1_constants.F1Constants.DRIVERS[\"Sergio Perez\"]\n",
    "sainz = f1_constants.F1Constants.DRIVERS[\"Carlos Sainz\"]\n",
    "leclerc = f1_constants.F1Constants.DRIVERS[\"Charles Leclerc\"]\n",
    "bottas = f1_constants.F1Constants.DRIVERS[\"Valtteri Bottas\"]\n",
    "alonso = f1_constants.F1Constants.DRIVERS[\"Fernando Alonso\"]\n",
    "stroll = f1_constants.F1Constants.DRIVERS[\"Lance Stroll\"]\n",
    "gasly = f1_constants.F1Constants.DRIVERS[\"Pierre Gasly\"]\n",
    "hulkenberg = f1_constants.F1Constants.DRIVERS[\"Nico Hulkenberg\"]\n",
    "magnussen = f1_constants.F1Constants.DRIVERS[\"Kevin Magnussen\"]\n",
    "lawson = f1_constants.F1Constants.DRIVERS[\"Liam Lawson\"]\n",
    "tsunoda = f1_constants.F1Constants.DRIVERS[\"Yuki Tsunoda\"]\n",
    "russell = f1_constants.F1Constants.DRIVERS[\"George Russell\"]\n",
    "\n",
    "# telemetry constants\n",
    "speed = f1_constants.F1Constants.TELEMETRY_COLUMNS[\"Speed (m/s)\"]\n",
    "acceleration = f1_constants.F1Constants.TELEMETRY_COLUMNS[\"Acceleration (m/s²)\"]\n",
    "jerk = f1_constants.F1Constants.TELEMETRY_COLUMNS[\"Jerk (m/s³)\"]\n",
    "rpm = f1_constants.F1Constants.TELEMETRY_COLUMNS[\"RPM\"]\n",
    "g_force = f1_constants.F1Constants.TELEMETRY_COLUMNS[\"G-force (g)\"]\n",
    "gear = f1_constants.F1Constants.TELEMETRY_COLUMNS[\"nGear\"]\n",
    "throttle = f1_constants.F1Constants.TELEMETRY_COLUMNS[\"Throttle (%)\"]\n",
    "brakes = f1_constants.F1Constants.TELEMETRY_COLUMNS[\"BrakesApplied\"]"
   ]
  },
  {
   "cell_type": "markdown",
   "id": "9387c5d8",
   "metadata": {},
   "source": [
    "The code extracts circuit information for the session’s corners. The `critical_turn` array identifies corners where driver behavior is especially important for sector and overall lap performance. Adjusting the `radius` value controls how much telemetry around each turn is included, allowing you to visualize throttle and braking traces at the desired level of detail."
   ]
  },
  {
   "cell_type": "code",
   "execution_count": 5,
   "id": "7f8b12b4",
   "metadata": {},
   "outputs": [],
   "source": [
    "corner_position = session.get_circuit_info().corners\n",
    "corner_position_cleaned = telemetry_cleaning.clean_circuit_corner_data(corner_position)\n",
    "\n",
    "# 16 --> 2500, 12 --> 1500\n",
    "critical_turn = [16]\n",
    "radius = 2500"
   ]
  },
  {
   "cell_type": "markdown",
   "id": "be4db11a",
   "metadata": {},
   "source": [
    "For each driver, the telemetry from their fastest qualifying lap is isolated by filtering based on sector timestamps. These sector datasets are then cleaned, enriched with derived features, and filtered by turn to focus on the segments most informative for analyzing driver behavior and responses in complex areas."
   ]
  },
  {
   "cell_type": "markdown",
   "id": "58121ca6",
   "metadata": {},
   "source": [
    "Q3 data for Lando Norris, McLaren"
   ]
  },
  {
   "cell_type": "code",
   "execution_count": 6,
   "id": "ff591efe",
   "metadata": {},
   "outputs": [],
   "source": [
    "q1, q2, q3 = session.get_laps(norris).split_qualifying_sessions()\n",
    "norris_q3_telemetry = session.get_telemetry(q3)\n",
    "\n",
    "sector_1_start = str(f1_pandas_helpers.get_fastest_lap_details(q3)[0])\n",
    "sector_1_end = str(f1_pandas_helpers.get_fastest_lap_details(q3)[1])\n",
    "sector_2_end = str(f1_pandas_helpers.get_fastest_lap_details(q3)[2])\n",
    "sector_3_end = str(f1_pandas_helpers.get_fastest_lap_details(q3)[3])\n",
    "\n",
    "norris_sector1_telemetry = f1_pandas_helpers.filter_timestamp_range(norris_q3_telemetry, start=sector_1_start, end=sector_1_end)\n",
    "norris_sector1_telemetry_cleaned = telemetry_cleaning.clean_driver_sector_telemetry(norris_sector1_telemetry, norris)\n",
    "\n",
    "norris_sector2_telemetry = f1_pandas_helpers.filter_timestamp_range(norris_q3_telemetry, start=sector_1_end, end=sector_2_end)\n",
    "norris_sector2_telemetry_cleaned = telemetry_cleaning.clean_driver_sector_telemetry(norris_sector2_telemetry, norris)\n",
    "\n",
    "norris_sector3_telemetry = f1_pandas_helpers.filter_timestamp_range(norris_q3_telemetry, start=sector_2_end, end=sector_3_end)\n",
    "norris_sector3_telemetry_cleaned = telemetry_cleaning.clean_driver_sector_telemetry(norris_sector3_telemetry, norris)\n",
    "norris_sector3_telemetry_features = feature_engineering.TelemetryFeatures(norris_sector3_telemetry_cleaned).acceleration().jerk().g_force().get_features_df()\n",
    "\n",
    "norris_corner_telemetry = telemetry_cleaning.filter_corner_telemetry(norris_sector3_telemetry_features, corner_position_cleaned, critical_turn[0], radius)"
   ]
  },
  {
   "cell_type": "markdown",
   "id": "7b47f9e9",
   "metadata": {},
   "source": [
    "Descriptive Statistics — Lando Norris - The code below concatenates descriptive statistics for the driver at each turn in the critical_turn list into a single DataFrame."
   ]
  },
  {
   "cell_type": "code",
   "execution_count": 7,
   "id": "f49c4e76",
   "metadata": {},
   "outputs": [],
   "source": [
    "norris_turn_dfs = [(turn, telemetry_cleaning.filter_corner_telemetry(norris_sector3_telemetry_features, corner_position_cleaned, turn, radius)) for turn in critical_turn]\n",
    "norris_eda_summary = f1_pandas_helpers.get_driver_eda_multiple_turns(norris, norris_turn_dfs)"
   ]
  },
  {
   "cell_type": "markdown",
   "id": "1f378105",
   "metadata": {},
   "source": [
    "Q3 data for Oscar Piastri, McLaren"
   ]
  },
  {
   "cell_type": "code",
   "execution_count": 8,
   "id": "80e2ab9e",
   "metadata": {},
   "outputs": [],
   "source": [
    "q1, q2, q3 = session.get_laps(piastri).split_qualifying_sessions()\n",
    "piastri_q3_telemetry = session.get_telemetry(q3)\n",
    "\n",
    "sector_1_start = str(f1_pandas_helpers.get_fastest_lap_details(q3)[0])\n",
    "sector_1_end = str(f1_pandas_helpers.get_fastest_lap_details(q3)[1])\n",
    "sector_2_end = str(f1_pandas_helpers.get_fastest_lap_details(q3)[2])\n",
    "sector_3_end = str(f1_pandas_helpers.get_fastest_lap_details(q3)[3])\n",
    "\n",
    "piastri_sector1_telemetry = f1_pandas_helpers.filter_timestamp_range(piastri_q3_telemetry, start=sector_1_start, end=sector_1_end)\n",
    "piastri_sector1_telemetry_cleaned = telemetry_cleaning.clean_driver_sector_telemetry(piastri_sector1_telemetry, piastri)\n",
    "\n",
    "piastri_sector2_telemetry = f1_pandas_helpers.filter_timestamp_range(piastri_q3_telemetry, start=sector_1_end, end=sector_2_end)\n",
    "piastri_sector2_telemetry_cleaned = telemetry_cleaning.clean_driver_sector_telemetry(piastri_sector2_telemetry, piastri)\n",
    "\n",
    "piastri_sector3_telemetry = f1_pandas_helpers.filter_timestamp_range(piastri_q3_telemetry, start=sector_2_end, end=sector_3_end)\n",
    "piastri_sector3_telemetry_cleaned = telemetry_cleaning.clean_driver_sector_telemetry(piastri_sector3_telemetry, piastri)\n",
    "piastri_sector3_telemetry_features = feature_engineering.TelemetryFeatures(piastri_sector3_telemetry_cleaned).acceleration().jerk().g_force().get_features_df()\n",
    "\n",
    "piastri_corner_telemetry = telemetry_cleaning.filter_corner_telemetry(piastri_sector3_telemetry_features, corner_position_cleaned, critical_turn[0], radius)"
   ]
  },
  {
   "cell_type": "markdown",
   "id": "04b59fa6",
   "metadata": {},
   "source": [
    "Descriptive Statistics - Oscar Piastri - The code below concatenates descriptive statistics for the driver at each turn in the critical_turn list into a single DataFrame."
   ]
  },
  {
   "cell_type": "code",
   "execution_count": 9,
   "id": "78212380",
   "metadata": {},
   "outputs": [],
   "source": [
    "piastri_turn_dfs = [(turn, telemetry_cleaning.filter_corner_telemetry(piastri_sector3_telemetry_features, corner_position_cleaned, turn, radius)) for turn in critical_turn]\n",
    "piastri_eda_summary = f1_pandas_helpers.get_driver_eda_multiple_turns(piastri, piastri_turn_dfs)"
   ]
  },
  {
   "cell_type": "markdown",
   "id": "8dfa40b9",
   "metadata": {},
   "source": [
    "Q3 data for Max Verstappen, Red Bull"
   ]
  },
  {
   "cell_type": "code",
   "execution_count": 10,
   "id": "a97aaa65",
   "metadata": {},
   "outputs": [],
   "source": [
    "q1, q2, q3 = session.get_laps(verstappen).split_qualifying_sessions()\n",
    "verstappen_q3_telemetry = session.get_telemetry(q3)\n",
    "\n",
    "sector_1_start = str(f1_pandas_helpers.get_fastest_lap_details(q3)[0])\n",
    "sector_1_end = str(f1_pandas_helpers.get_fastest_lap_details(q3)[1])\n",
    "sector_2_end = str(f1_pandas_helpers.get_fastest_lap_details(q3)[2])\n",
    "sector_3_end = str(f1_pandas_helpers.get_fastest_lap_details(q3)[3])\n",
    "\n",
    "verstappen_sector1_telemetry = f1_pandas_helpers.filter_timestamp_range(verstappen_q3_telemetry, start=sector_1_start, end=sector_1_end)\n",
    "verstappen_sector1_telemetry_cleaned = telemetry_cleaning.clean_driver_sector_telemetry(verstappen_sector1_telemetry, verstappen)\n",
    "\n",
    "verstappen_sector2_telemetry = f1_pandas_helpers.filter_timestamp_range(verstappen_q3_telemetry, start=sector_1_end, end=sector_2_end)\n",
    "verstappen_sector2_telemetry_cleaned = telemetry_cleaning.clean_driver_sector_telemetry(verstappen_sector2_telemetry, verstappen)\n",
    "\n",
    "verstappen_sector3_telemetry = f1_pandas_helpers.filter_timestamp_range(verstappen_q3_telemetry, start=sector_2_end, end=sector_3_end)\n",
    "verstappen_sector3_telemetry_cleaned = telemetry_cleaning.clean_driver_sector_telemetry(verstappen_sector3_telemetry, verstappen)\n",
    "verstappen_sector3_telemetry_features = feature_engineering.TelemetryFeatures(verstappen_sector3_telemetry_cleaned).acceleration().jerk().g_force().get_features_df()\n",
    "\n",
    "verstappen_corner_telemetry = telemetry_cleaning.filter_corner_telemetry(verstappen_sector3_telemetry_features, corner_position_cleaned, critical_turn[0], radius)\n"
   ]
  },
  {
   "cell_type": "markdown",
   "id": "98d69aeb",
   "metadata": {},
   "source": [
    "Descriptive Statistics - Max Verstappen - The code below concatenates descriptive statistics for the driver at each turn in the critical_turn list into a single DataFrame."
   ]
  },
  {
   "cell_type": "code",
   "execution_count": 11,
   "id": "56866b54",
   "metadata": {},
   "outputs": [],
   "source": [
    "verstappen_turn_dfs = [(turn, telemetry_cleaning.filter_corner_telemetry(verstappen_sector3_telemetry_features, corner_position_cleaned, turn, radius)) for turn in critical_turn]\n",
    "verstappen_eda_summary = f1_pandas_helpers.get_driver_eda_multiple_turns(verstappen, verstappen_turn_dfs)"
   ]
  },
  {
   "cell_type": "markdown",
   "id": "2d2a2e86",
   "metadata": {},
   "source": [
    "Q3 data for Sergio Perez, Red Bull"
   ]
  },
  {
   "cell_type": "code",
   "execution_count": 12,
   "id": "2dece56f",
   "metadata": {},
   "outputs": [],
   "source": [
    "q1, q2, q3 = session.get_laps(perez).split_qualifying_sessions()\n",
    "perez_q3_telemetry = session.get_telemetry(q3)\n",
    "\n",
    "sector_1_start = str(f1_pandas_helpers.get_fastest_lap_details(q3)[0])\n",
    "sector_1_end = str(f1_pandas_helpers.get_fastest_lap_details(q3)[1])\n",
    "sector_2_end = str(f1_pandas_helpers.get_fastest_lap_details(q3)[2])\n",
    "sector_3_end = str(f1_pandas_helpers.get_fastest_lap_details(q3)[3])\n",
    "\n",
    "perez_sector1_telemetry = f1_pandas_helpers.filter_timestamp_range(perez_q3_telemetry, start=sector_1_start, end=sector_1_end)\n",
    "perez_sector1_telemetry_cleaned = telemetry_cleaning.clean_driver_sector_telemetry(perez_sector1_telemetry, perez)\n",
    "\n",
    "perez_sector2_telemetry = f1_pandas_helpers.filter_timestamp_range(perez_q3_telemetry, start=sector_1_end, end=sector_2_end)\n",
    "perez_sector2_telemetry_cleaned = telemetry_cleaning.clean_driver_sector_telemetry(perez_sector2_telemetry, perez)\n",
    "\n",
    "perez_sector3_telemetry = f1_pandas_helpers.filter_timestamp_range(perez_q3_telemetry, start=sector_2_end, end=sector_3_end)\n",
    "perez_sector3_telemetry_cleaned = telemetry_cleaning.clean_driver_sector_telemetry(perez_sector3_telemetry, perez)\n",
    "perez_sector3_telemetry_features = feature_engineering.TelemetryFeatures(perez_sector3_telemetry_cleaned).acceleration().jerk().g_force().get_features_df()\n",
    "\n",
    "perez_corner_telemetry = telemetry_cleaning.filter_corner_telemetry(perez_sector3_telemetry_features, corner_position_cleaned, critical_turn[0], radius)"
   ]
  },
  {
   "cell_type": "markdown",
   "id": "620fdcb4",
   "metadata": {},
   "source": [
    "Descriptive Statistics - Sergio Perez - The code below concatenates descriptive statistics for the driver at each turn in the critical_turn list into a single DataFrame."
   ]
  },
  {
   "cell_type": "code",
   "execution_count": 13,
   "id": "dafff830",
   "metadata": {},
   "outputs": [],
   "source": [
    "perez_turn_dfs = [(turn, telemetry_cleaning.filter_corner_telemetry(perez_sector3_telemetry_features, corner_position_cleaned, turn, radius)) for turn in critical_turn]\n",
    "perez_eda_summary = f1_pandas_helpers.get_driver_eda_multiple_turns(perez, perez_turn_dfs)"
   ]
  },
  {
   "cell_type": "markdown",
   "id": "e8ecfd30",
   "metadata": {},
   "source": [
    "Q3 data for Carlos Sainz, Ferrari"
   ]
  },
  {
   "cell_type": "code",
   "execution_count": 14,
   "id": "42e9f037",
   "metadata": {},
   "outputs": [],
   "source": [
    "q1, q2, q3 = session.get_laps(sainz).split_qualifying_sessions()\n",
    "sainz_q3_telemetry = session.get_telemetry(q3)\n",
    "\n",
    "sector_1_start = str(f1_pandas_helpers.get_fastest_lap_details(q3)[0])\n",
    "sector_1_end = str(f1_pandas_helpers.get_fastest_lap_details(q3)[1])\n",
    "sector_2_end = str(f1_pandas_helpers.get_fastest_lap_details(q3)[2])\n",
    "sector_3_end = str(f1_pandas_helpers.get_fastest_lap_details(q3)[3])\n",
    "\n",
    "sainz_sector1_telemetry = f1_pandas_helpers.filter_timestamp_range(sainz_q3_telemetry, start=sector_1_start, end=sector_1_end)\n",
    "sainz_sector1_telemetry_cleaned = telemetry_cleaning.clean_driver_sector_telemetry(sainz_sector1_telemetry, sainz)\n",
    "\n",
    "sainz_sector2_telemetry = f1_pandas_helpers.filter_timestamp_range(sainz_q3_telemetry, start=sector_1_end, end=sector_2_end)\n",
    "sainz_sector2_telemetry_cleaned = telemetry_cleaning.clean_driver_sector_telemetry(sainz_sector2_telemetry, sainz)\n",
    "\n",
    "sainz_sector3_telemetry = f1_pandas_helpers.filter_timestamp_range(sainz_q3_telemetry, start=sector_2_end, end=sector_3_end)\n",
    "sainz_sector3_telemetry_cleaned = telemetry_cleaning.clean_driver_sector_telemetry(sainz_sector3_telemetry, sainz)\n",
    "sainz_sector3_telemetry_features = feature_engineering.TelemetryFeatures(sainz_sector3_telemetry_cleaned).acceleration().jerk().g_force().get_features_df()\n",
    "\n",
    "sainz_corner_telemetry = telemetry_cleaning.filter_corner_telemetry(sainz_sector3_telemetry_features, corner_position_cleaned, critical_turn[0], radius)"
   ]
  },
  {
   "cell_type": "markdown",
   "id": "5e4cbed4",
   "metadata": {},
   "source": [
    "Descriptive Statistics - Carlos Sainz - The code below concatenates descriptive statistics for the driver at each turn in the critical_turn list into a single DataFrame."
   ]
  },
  {
   "cell_type": "code",
   "execution_count": 15,
   "id": "2613feb4",
   "metadata": {},
   "outputs": [],
   "source": [
    "sainz_turn_dfs = [(turn, telemetry_cleaning.filter_corner_telemetry(sainz_sector3_telemetry_features, corner_position_cleaned, turn, radius)) for turn in critical_turn]\n",
    "sainz_eda_summary = f1_pandas_helpers.get_driver_eda_multiple_turns(sainz, sainz_turn_dfs)"
   ]
  },
  {
   "cell_type": "markdown",
   "id": "5d836600",
   "metadata": {},
   "source": [
    "Q2 data for Charles Leclerc, Ferrari"
   ]
  },
  {
   "cell_type": "code",
   "execution_count": 16,
   "id": "4cb92159",
   "metadata": {},
   "outputs": [],
   "source": [
    "q1, q2, q3 = session.get_laps(leclerc).split_qualifying_sessions()\n",
    "leclerc_q2_telemetry = session.get_telemetry(q2)\n",
    "\n",
    "sector_1_start = str(f1_pandas_helpers.get_fastest_lap_details(q2)[0])\n",
    "sector_1_end = str(f1_pandas_helpers.get_fastest_lap_details(q2)[1])\n",
    "sector_2_end = str(f1_pandas_helpers.get_fastest_lap_details(q2)[2])\n",
    "sector_3_end = str(f1_pandas_helpers.get_fastest_lap_details(q2)[3])\n",
    "\n",
    "leclerc_sector1_telemetry = f1_pandas_helpers.filter_timestamp_range(leclerc_q2_telemetry, start=sector_1_start, end=sector_1_end)\n",
    "leclerc_sector1_telemetry_cleaned = telemetry_cleaning.clean_driver_sector_telemetry(leclerc_sector1_telemetry, leclerc)\n",
    "\n",
    "leclerc_sector2_telemetry = f1_pandas_helpers.filter_timestamp_range(leclerc_q2_telemetry, start=sector_1_end, end=sector_2_end)\n",
    "leclerc_sector2_telemetry_cleaned = telemetry_cleaning.clean_driver_sector_telemetry(leclerc_sector2_telemetry, leclerc)\n",
    "\n",
    "leclerc_sector3_telemetry = f1_pandas_helpers.filter_timestamp_range(leclerc_q2_telemetry, start=sector_2_end, end=sector_3_end)\n",
    "leclerc_sector3_telemetry_cleaned = telemetry_cleaning.clean_driver_sector_telemetry(leclerc_sector3_telemetry, leclerc)\n",
    "leclerc_sector3_telemetry_features = feature_engineering.TelemetryFeatures(leclerc_sector3_telemetry_cleaned).acceleration().jerk().g_force().get_features_df()\n",
    "\n",
    "leclerc_corner_telemetry = telemetry_cleaning.filter_corner_telemetry(leclerc_sector3_telemetry_features, corner_position_cleaned, critical_turn[0], radius)"
   ]
  },
  {
   "cell_type": "markdown",
   "id": "186538d6",
   "metadata": {},
   "source": [
    "Descriptive Statistics - Charles Leclerc - The code below concatenates descriptive statistics for the driver at each turn in the critical_turn list into a single DataFrame."
   ]
  },
  {
   "cell_type": "code",
   "execution_count": 17,
   "id": "873b8a40",
   "metadata": {},
   "outputs": [],
   "source": [
    "leclerc_turn_dfs = [(turn, telemetry_cleaning.filter_corner_telemetry(leclerc_sector3_telemetry_features, corner_position_cleaned, turn, radius)) for turn in critical_turn]\n",
    "leclerc_eda_summary = f1_pandas_helpers.get_driver_eda_multiple_turns(leclerc, leclerc_turn_dfs)"
   ]
  },
  {
   "cell_type": "markdown",
   "id": "24a0c44f",
   "metadata": {},
   "source": [
    "Q3 data for Valtteri Bottas, Alfa Romeo"
   ]
  },
  {
   "cell_type": "code",
   "execution_count": 18,
   "id": "1551aed8",
   "metadata": {},
   "outputs": [],
   "source": [
    "q1, q2, q3 = session.get_laps(bottas).split_qualifying_sessions()\n",
    "bottas_q3_telemetry = session.get_telemetry(q3)\n",
    "\n",
    "sector_1_start = str(f1_pandas_helpers.get_fastest_lap_details(q3)[0])\n",
    "sector_1_end = str(f1_pandas_helpers.get_fastest_lap_details(q3)[1])\n",
    "sector_2_end = str(f1_pandas_helpers.get_fastest_lap_details(q3)[2])\n",
    "sector_3_end = str(f1_pandas_helpers.get_fastest_lap_details(q3)[3])\n",
    "\n",
    "bottas_sector1_telemetry = f1_pandas_helpers.filter_timestamp_range(bottas_q3_telemetry, start=sector_1_start, end=sector_1_end)\n",
    "bottas_sector1_telemetry_cleaned = telemetry_cleaning.clean_driver_sector_telemetry(bottas_sector1_telemetry, bottas)\n",
    "\n",
    "bottas_sector2_telemetry = f1_pandas_helpers.filter_timestamp_range(bottas_q3_telemetry, start=sector_1_end, end=sector_2_end)\n",
    "bottas_sector2_telemetry_cleaned = telemetry_cleaning.clean_driver_sector_telemetry(bottas_sector2_telemetry, bottas)\n",
    "\n",
    "bottas_sector3_telemetry = f1_pandas_helpers.filter_timestamp_range(bottas_q3_telemetry, start=sector_2_end, end=sector_3_end)\n",
    "bottas_sector3_telemetry_cleaned = telemetry_cleaning.clean_driver_sector_telemetry(bottas_sector3_telemetry, bottas)\n",
    "bottas_sector3_telemetry_features = feature_engineering.TelemetryFeatures(bottas_sector3_telemetry_cleaned).acceleration().jerk().g_force().get_features_df()\n",
    "\n",
    "bottas_corner_telemetry = telemetry_cleaning.filter_corner_telemetry(bottas_sector3_telemetry_features, corner_position_cleaned, critical_turn[0], radius)"
   ]
  },
  {
   "cell_type": "markdown",
   "id": "04846182",
   "metadata": {},
   "source": [
    "Descriptive Statistics - Valtteri Bottas - The code below concatenates descriptive statistics for the driver at each turn in the critical_turn list into a single DataFrame."
   ]
  },
  {
   "cell_type": "code",
   "execution_count": 19,
   "id": "bd1bda22",
   "metadata": {},
   "outputs": [],
   "source": [
    "bottas_turn_dfs = [(turn, telemetry_cleaning.filter_corner_telemetry(bottas_sector3_telemetry_features, corner_position_cleaned, turn, radius)) for turn in critical_turn]\n",
    "bottas_eda_summary = f1_pandas_helpers.get_driver_eda_multiple_turns(bottas, bottas_turn_dfs)"
   ]
  },
  {
   "cell_type": "markdown",
   "id": "83a19945",
   "metadata": {},
   "source": [
    "Q3 data for Fernando Alonso, Aston Martin"
   ]
  },
  {
   "cell_type": "code",
   "execution_count": 20,
   "id": "4fef75ad",
   "metadata": {},
   "outputs": [],
   "source": [
    "q1, q2, q3 = session.get_laps(alonso).split_qualifying_sessions()\n",
    "alonso_q3_telemetry = session.get_telemetry(q3)\n",
    "\n",
    "sector_1_start = str(f1_pandas_helpers.get_fastest_lap_details(q3)[0])\n",
    "sector_1_end = str(f1_pandas_helpers.get_fastest_lap_details(q3)[1])\n",
    "sector_2_end = str(f1_pandas_helpers.get_fastest_lap_details(q3)[2])\n",
    "sector_3_end = str(f1_pandas_helpers.get_fastest_lap_details(q3)[3])\n",
    "\n",
    "alonso_sector1_telemetry = f1_pandas_helpers.filter_timestamp_range(alonso_q3_telemetry, start=sector_1_start, end=sector_1_end)\n",
    "alonso_sector1_telemetry_cleaned = telemetry_cleaning.clean_driver_sector_telemetry(alonso_sector1_telemetry, alonso)\n",
    "\n",
    "alonso_sector2_telemetry = f1_pandas_helpers.filter_timestamp_range(alonso_q3_telemetry, start=sector_1_end, end=sector_2_end)\n",
    "alonso_sector2_telemetry_cleaned = telemetry_cleaning.clean_driver_sector_telemetry(alonso_sector2_telemetry, alonso)\n",
    "\n",
    "alonso_sector3_telemetry = f1_pandas_helpers.filter_timestamp_range(alonso_q3_telemetry, start=sector_2_end, end=sector_3_end)\n",
    "alonso_sector3_telemetry_cleaned = telemetry_cleaning.clean_driver_sector_telemetry(alonso_sector3_telemetry, alonso)\n",
    "alonso_sector3_telemetry_features = feature_engineering.TelemetryFeatures(alonso_sector3_telemetry_cleaned).acceleration().jerk().g_force().get_features_df()\n",
    "\n",
    "alonso_corner_telemetry = telemetry_cleaning.filter_corner_telemetry(alonso_sector3_telemetry_features, corner_position_cleaned, critical_turn[0], radius)"
   ]
  },
  {
   "cell_type": "markdown",
   "id": "dae5425a",
   "metadata": {},
   "source": [
    "Descriptive Statistics - Fernando Alonso - The code below concatenates descriptive statistics for the driver at each turn in the critical_turn list into a single DataFrame."
   ]
  },
  {
   "cell_type": "code",
   "execution_count": 21,
   "id": "d63dca0c",
   "metadata": {},
   "outputs": [],
   "source": [
    "alonso_turn_dfs = [(turn, telemetry_cleaning.filter_corner_telemetry(alonso_sector3_telemetry_features, corner_position_cleaned, turn, radius)) for turn in critical_turn]\n",
    "alonso_eda_summary = f1_pandas_helpers.get_driver_eda_multiple_turns(alonso, alonso_turn_dfs)"
   ]
  },
  {
   "cell_type": "markdown",
   "id": "6dd5b6c3",
   "metadata": {},
   "source": [
    "Q2 data for Lance Stroll, Aston Martin"
   ]
  },
  {
   "cell_type": "code",
   "execution_count": 22,
   "id": "a93b9cc4",
   "metadata": {},
   "outputs": [],
   "source": [
    "q1, q2, q3 = session.get_laps(stroll).split_qualifying_sessions()\n",
    "stroll_q2_telemetry = session.get_telemetry(q2)\n",
    "\n",
    "sector_1_start = str(f1_pandas_helpers.get_fastest_lap_details(q2)[0])\n",
    "sector_1_end = str(f1_pandas_helpers.get_fastest_lap_details(q2)[1])\n",
    "sector_2_end = str(f1_pandas_helpers.get_fastest_lap_details(q2)[2])\n",
    "sector_3_end = str(f1_pandas_helpers.get_fastest_lap_details(q2)[3])\n",
    "\n",
    "stroll_sector1_telemetry = f1_pandas_helpers.filter_timestamp_range(stroll_q2_telemetry, start=sector_1_start, end=sector_1_end)\n",
    "stroll_sector1_telemetry_cleaned = telemetry_cleaning.clean_driver_sector_telemetry(stroll_sector1_telemetry, stroll)\n",
    "\n",
    "stroll_sector2_telemetry = f1_pandas_helpers.filter_timestamp_range(stroll_q2_telemetry, start=sector_1_end, end=sector_2_end)\n",
    "stroll_sector2_telemetry_cleaned = telemetry_cleaning.clean_driver_sector_telemetry(stroll_sector2_telemetry, stroll)\n",
    "\n",
    "stroll_sector3_telemetry = f1_pandas_helpers.filter_timestamp_range(stroll_q2_telemetry, start=sector_2_end, end=sector_3_end)\n",
    "stroll_sector3_telemetry_cleaned = telemetry_cleaning.clean_driver_sector_telemetry(stroll_sector3_telemetry, stroll)\n",
    "stroll_sector3_telemetry_features = feature_engineering.TelemetryFeatures(stroll_sector3_telemetry_cleaned).acceleration().jerk().g_force().get_features_df()\n",
    "\n",
    "stroll_corner_telemetry = telemetry_cleaning.filter_corner_telemetry(stroll_sector3_telemetry_features, corner_position_cleaned, critical_turn[0], radius)"
   ]
  },
  {
   "cell_type": "markdown",
   "id": "bdeb83c1",
   "metadata": {},
   "source": [
    "Descriptive Statistics - Lance Stroll - The code below concatenates descriptive statistics for the driver at each turn in the critical_turn list into a single DataFrame."
   ]
  },
  {
   "cell_type": "code",
   "execution_count": 23,
   "id": "97c9ae6a",
   "metadata": {},
   "outputs": [],
   "source": [
    "stroll_turn_dfs = [(turn, telemetry_cleaning.filter_corner_telemetry(stroll_sector3_telemetry_features, corner_position_cleaned, turn, radius)) for turn in critical_turn]\n",
    "stroll_eda_summary = f1_pandas_helpers.get_driver_eda_multiple_turns(stroll, stroll_turn_dfs)"
   ]
  },
  {
   "cell_type": "markdown",
   "id": "e37f4964",
   "metadata": {},
   "source": [
    "Q3 data for Pierre Gasly, Alpine"
   ]
  },
  {
   "cell_type": "code",
   "execution_count": 24,
   "id": "8fab997d",
   "metadata": {},
   "outputs": [],
   "source": [
    "q1, q2, q3 = session.get_laps(gasly).split_qualifying_sessions()\n",
    "gasly_q3_telemetry = session.get_telemetry(q3)\n",
    "\n",
    "sector_1_start = str(f1_pandas_helpers.get_fastest_lap_details(q3)[0])\n",
    "sector_1_end = str(f1_pandas_helpers.get_fastest_lap_details(q3)[1])\n",
    "sector_2_end = str(f1_pandas_helpers.get_fastest_lap_details(q3)[2])\n",
    "sector_3_end = str(f1_pandas_helpers.get_fastest_lap_details(q3)[3])\n",
    "\n",
    "gasly_sector1_telemetry = f1_pandas_helpers.filter_timestamp_range(gasly_q3_telemetry, start=sector_1_start, end=sector_1_end)\n",
    "gasly_sector1_telemetry_cleaned = telemetry_cleaning.clean_driver_sector_telemetry(gasly_sector1_telemetry, gasly)\n",
    "\n",
    "gasly_sector2_telemetry = f1_pandas_helpers.filter_timestamp_range(gasly_q3_telemetry, start=sector_1_end, end=sector_2_end)\n",
    "gasly_sector2_telemetry_cleaned = telemetry_cleaning.clean_driver_sector_telemetry(gasly_sector2_telemetry, gasly)\n",
    "\n",
    "gasly_sector3_telemetry = f1_pandas_helpers.filter_timestamp_range(gasly_q3_telemetry, start=sector_2_end, end=sector_3_end)\n",
    "gasly_sector3_telemetry_cleaned = telemetry_cleaning.clean_driver_sector_telemetry(gasly_sector3_telemetry, gasly)\n",
    "gasly_sector3_telemetry_features = feature_engineering.TelemetryFeatures(gasly_sector3_telemetry_cleaned).acceleration().jerk().g_force().get_features_df()\n",
    "\n",
    "gasly_corner_telemetry = telemetry_cleaning.filter_corner_telemetry(gasly_sector3_telemetry_features, corner_position_cleaned, critical_turn[0], radius)"
   ]
  },
  {
   "cell_type": "markdown",
   "id": "0cf663f5",
   "metadata": {},
   "source": [
    "Descriptive Statistics - Pierre Gasly - The code below concatenates descriptive statistics for the driver at each turn in the critical_turn list into a single DataFrame."
   ]
  },
  {
   "cell_type": "code",
   "execution_count": 25,
   "id": "f513938e",
   "metadata": {},
   "outputs": [],
   "source": [
    "gasly_turn_dfs = [(turn, telemetry_cleaning.filter_corner_telemetry(gasly_sector3_telemetry_features, corner_position_cleaned, turn, radius)) for turn in critical_turn]\n",
    "gasly_eda_summary = f1_pandas_helpers.get_driver_eda_multiple_turns(gasly, gasly_turn_dfs)"
   ]
  },
  {
   "cell_type": "markdown",
   "id": "294ab1ca",
   "metadata": {},
   "source": [
    "Q3 data for Nico Hulkenberg, Haas"
   ]
  },
  {
   "cell_type": "code",
   "execution_count": 26,
   "id": "a39ad74a",
   "metadata": {},
   "outputs": [],
   "source": [
    "q1, q2, q3 = session.get_laps(hulkenberg).split_qualifying_sessions()\n",
    "hulkenberg_q3_telemetry = session.get_telemetry(q3)\n",
    "\n",
    "sector_1_start = str(f1_pandas_helpers.get_fastest_lap_details(q3)[0])\n",
    "sector_1_end = str(f1_pandas_helpers.get_fastest_lap_details(q3)[1])\n",
    "sector_2_end = str(f1_pandas_helpers.get_fastest_lap_details(q3)[2])\n",
    "sector_3_end = str(f1_pandas_helpers.get_fastest_lap_details(q3)[3])\n",
    "\n",
    "hulkenberg_sector1_telemetry = f1_pandas_helpers.filter_timestamp_range(hulkenberg_q3_telemetry, start=sector_1_start, end=sector_1_end)\n",
    "hulkenberg_sector1_telemetry_cleaned = telemetry_cleaning.clean_driver_sector_telemetry(hulkenberg_sector1_telemetry, hulkenberg)\n",
    "\n",
    "hulkenberg_sector2_telemetry = f1_pandas_helpers.filter_timestamp_range(hulkenberg_q3_telemetry, start=sector_1_end, end=sector_2_end)\n",
    "hulkenberg_sector2_telemetry_cleaned = telemetry_cleaning.clean_driver_sector_telemetry(hulkenberg_sector2_telemetry, hulkenberg)\n",
    "\n",
    "hulkenberg_sector3_telemetry = f1_pandas_helpers.filter_timestamp_range(hulkenberg_q3_telemetry, start=sector_2_end, end=sector_3_end)\n",
    "hulkenberg_sector3_telemetry_cleaned = telemetry_cleaning.clean_driver_sector_telemetry(hulkenberg_sector3_telemetry, hulkenberg)\n",
    "hulkenberg_sector3_telemetry_features = feature_engineering.TelemetryFeatures(hulkenberg_sector3_telemetry_cleaned).acceleration().jerk().g_force().get_features_df()\n",
    "\n",
    "hulkenberg_corner_telemetry = telemetry_cleaning.filter_corner_telemetry(hulkenberg_sector3_telemetry_features, corner_position_cleaned, critical_turn[0], radius)"
   ]
  },
  {
   "cell_type": "markdown",
   "id": "d1808692",
   "metadata": {},
   "source": [
    "Descriptive Statistics - Nico Hulkenberg - The code below concatenates descriptive statistics for the driver at each turn in the critical_turn list into a single DataFrame."
   ]
  },
  {
   "cell_type": "code",
   "execution_count": 27,
   "id": "a444cc45",
   "metadata": {},
   "outputs": [],
   "source": [
    "hulkenberg_turn_dfs = [(turn, telemetry_cleaning.filter_corner_telemetry(hulkenberg_sector3_telemetry_features, corner_position_cleaned, turn, radius)) for turn in critical_turn]\n",
    "hulkenberg_eda_summary = f1_pandas_helpers.get_driver_eda_multiple_turns(hulkenberg, hulkenberg_turn_dfs)"
   ]
  },
  {
   "cell_type": "markdown",
   "id": "ec91949e",
   "metadata": {},
   "source": [
    "Q2 data for Kevin Magnussen, Haas"
   ]
  },
  {
   "cell_type": "code",
   "execution_count": 28,
   "id": "c6e0bd74",
   "metadata": {},
   "outputs": [],
   "source": [
    "q1, q2, q3 = session.get_laps(magnussen).split_qualifying_sessions()\n",
    "magnussen_q2_telemetry = session.get_telemetry(q2)\n",
    "\n",
    "sector_1_start = str(f1_pandas_helpers.get_fastest_lap_details(q2)[0])\n",
    "sector_1_end = str(f1_pandas_helpers.get_fastest_lap_details(q2)[1])\n",
    "sector_2_end = str(f1_pandas_helpers.get_fastest_lap_details(q2)[2])\n",
    "sector_3_end = str(f1_pandas_helpers.get_fastest_lap_details(q2)[3])\n",
    "\n",
    "magnussen_sector1_telemetry = f1_pandas_helpers.filter_timestamp_range(magnussen_q2_telemetry, start=sector_1_start, end=sector_1_end)\n",
    "magnussen_sector1_telemetry_cleaned = telemetry_cleaning.clean_driver_sector_telemetry(magnussen_sector1_telemetry, magnussen)\n",
    "\n",
    "magnussen_sector2_telemetry = f1_pandas_helpers.filter_timestamp_range(magnussen_q2_telemetry, start=sector_1_end, end=sector_2_end)\n",
    "magnussen_sector2_telemetry_cleaned = telemetry_cleaning.clean_driver_sector_telemetry(magnussen_sector2_telemetry, magnussen)\n",
    "\n",
    "magnussen_sector3_telemetry = f1_pandas_helpers.filter_timestamp_range(magnussen_q2_telemetry, start=sector_2_end, end=sector_3_end)\n",
    "magnussen_sector3_telemetry_cleaned = telemetry_cleaning.clean_driver_sector_telemetry(magnussen_sector3_telemetry, magnussen)\n",
    "magnussen_sector3_telemetry_features = feature_engineering.TelemetryFeatures(magnussen_sector3_telemetry_cleaned).acceleration().jerk().g_force().get_features_df()\n",
    "\n",
    "magnussen_corner_telemetry = telemetry_cleaning.filter_corner_telemetry(magnussen_sector3_telemetry_features, corner_position_cleaned, critical_turn[0], radius)"
   ]
  },
  {
   "cell_type": "markdown",
   "id": "97d330d5",
   "metadata": {},
   "source": [
    "Descriptive Statistics - Kevin Magnussen - The code below concatenates descriptive statistics for the driver at each turn in the critical_turn list into a single DataFrame."
   ]
  },
  {
   "cell_type": "code",
   "execution_count": 29,
   "id": "a8725ea6",
   "metadata": {},
   "outputs": [],
   "source": [
    "magnussen_turn_dfs = [(turn, telemetry_cleaning.filter_corner_telemetry(magnussen_sector3_telemetry_features, corner_position_cleaned, turn, radius)) for turn in critical_turn]\n",
    "magnussen_eda_summary = f1_pandas_helpers.get_driver_eda_multiple_turns(magnussen, magnussen_turn_dfs)"
   ]
  },
  {
   "cell_type": "markdown",
   "id": "b5b3b5b8",
   "metadata": {},
   "source": [
    "Q2 data for Liam Lawson, Visa CashApp"
   ]
  },
  {
   "cell_type": "code",
   "execution_count": 30,
   "id": "2d23d359",
   "metadata": {},
   "outputs": [],
   "source": [
    "q1, q2, q3 = session.get_laps(lawson).split_qualifying_sessions()\n",
    "lawson_q2_telemetry = session.get_telemetry(q2)\n",
    "\n",
    "sector_1_start = str(f1_pandas_helpers.get_fastest_lap_details(q2)[0])\n",
    "sector_1_end = str(f1_pandas_helpers.get_fastest_lap_details(q2)[1])\n",
    "sector_2_end = str(f1_pandas_helpers.get_fastest_lap_details(q2)[2])\n",
    "sector_3_end = str(f1_pandas_helpers.get_fastest_lap_details(q2)[3])\n",
    "\n",
    "lawson_sector1_telemetry = f1_pandas_helpers.filter_timestamp_range(lawson_q2_telemetry, start=sector_1_start, end=sector_1_end)\n",
    "lawson_sector1_telemetry_cleaned = telemetry_cleaning.clean_driver_sector_telemetry(lawson_sector1_telemetry, lawson)\n",
    "\n",
    "lawson_sector2_telemetry = f1_pandas_helpers.filter_timestamp_range(lawson_q2_telemetry, start=sector_1_end, end=sector_2_end)\n",
    "lawson_sector2_telemetry_cleaned = telemetry_cleaning.clean_driver_sector_telemetry(lawson_sector2_telemetry, lawson)\n",
    "\n",
    "lawson_sector3_telemetry = f1_pandas_helpers.filter_timestamp_range(lawson_q2_telemetry, start=sector_2_end, end=sector_3_end)\n",
    "lawson_sector3_telemetry_cleaned = telemetry_cleaning.clean_driver_sector_telemetry(lawson_sector3_telemetry, lawson)\n",
    "lawson_sector3_telemetry_features = feature_engineering.TelemetryFeatures(lawson_sector3_telemetry_cleaned).acceleration().jerk().g_force().get_features_df()\n",
    "\n",
    "lawson_corner_telemetry = telemetry_cleaning.filter_corner_telemetry(lawson_sector3_telemetry_features, corner_position_cleaned, critical_turn[0], radius)"
   ]
  },
  {
   "cell_type": "markdown",
   "id": "ec95066d",
   "metadata": {},
   "source": [
    "Descriptive Statistics - Liam Lawson - The code below concatenates descriptive statistics for the driver at each turn in the critical_turn list into a single DataFrame."
   ]
  },
  {
   "cell_type": "code",
   "execution_count": 31,
   "id": "1410910e",
   "metadata": {},
   "outputs": [],
   "source": [
    "lawson_turn_dfs = [(turn, telemetry_cleaning.filter_corner_telemetry(lawson_sector3_telemetry_features, corner_position_cleaned, turn, radius)) for turn in critical_turn]\n",
    "lawson_eda_summary = f1_pandas_helpers.get_driver_eda_multiple_turns(lawson, lawson_turn_dfs)"
   ]
  },
  {
   "cell_type": "markdown",
   "id": "3722c76e",
   "metadata": {},
   "source": [
    "Q2 data for Yuki Tsunoda, Visa CashApp"
   ]
  },
  {
   "cell_type": "code",
   "execution_count": 32,
   "id": "826b8750",
   "metadata": {},
   "outputs": [],
   "source": [
    "q1, q2, q3 = session.get_laps(tsunoda).split_qualifying_sessions()\n",
    "tsunoda_q2_telemetry = session.get_telemetry(q2)\n",
    "\n",
    "sector_1_start = str(f1_pandas_helpers.get_fastest_lap_details(q2)[0])\n",
    "sector_1_end = str(f1_pandas_helpers.get_fastest_lap_details(q2)[1])\n",
    "sector_2_end = str(f1_pandas_helpers.get_fastest_lap_details(q2)[2])\n",
    "sector_3_end = str(f1_pandas_helpers.get_fastest_lap_details(q2)[3])\n",
    "\n",
    "tsunoda_sector1_telemetry = f1_pandas_helpers.filter_timestamp_range(tsunoda_q2_telemetry, start=sector_1_start, end=sector_1_end)\n",
    "tsunoda_sector1_telemetry_cleaned = telemetry_cleaning.clean_driver_sector_telemetry(tsunoda_sector1_telemetry, tsunoda)\n",
    "\n",
    "tsunoda_sector2_telemetry = f1_pandas_helpers.filter_timestamp_range(tsunoda_q2_telemetry, start=sector_1_end, end=sector_2_end)\n",
    "tsunoda_sector2_telemetry_cleaned = telemetry_cleaning.clean_driver_sector_telemetry(tsunoda_sector2_telemetry, tsunoda)\n",
    "\n",
    "tsunoda_sector3_telemetry = f1_pandas_helpers.filter_timestamp_range(tsunoda_q2_telemetry, start=sector_2_end, end=sector_3_end)\n",
    "tsunoda_sector3_telemetry_cleaned = telemetry_cleaning.clean_driver_sector_telemetry(tsunoda_sector3_telemetry, tsunoda)\n",
    "tsunoda_sector3_telemetry_features = feature_engineering.TelemetryFeatures(tsunoda_sector3_telemetry_cleaned).acceleration().jerk().g_force().get_features_df()\n",
    "\n",
    "tsunoda_corner_telemetry = telemetry_cleaning.filter_corner_telemetry(tsunoda_sector3_telemetry_features, corner_position_cleaned, critical_turn[0], radius)"
   ]
  },
  {
   "cell_type": "markdown",
   "id": "f3716b46",
   "metadata": {},
   "source": [
    "Descriptive Statistics - Yuki Tsunoda - The code below concatenates descriptive statistics for the driver at each turn in the critical_turn list into a single DataFrame."
   ]
  },
  {
   "cell_type": "code",
   "execution_count": 33,
   "id": "bf560083",
   "metadata": {},
   "outputs": [],
   "source": [
    "tsunoda_turn_dfs = [(turn, telemetry_cleaning.filter_corner_telemetry(tsunoda_sector3_telemetry_features, corner_position_cleaned, turn, radius)) for turn in critical_turn]\n",
    "tsunoda_eda_summary = f1_pandas_helpers.get_driver_eda_multiple_turns(tsunoda, tsunoda_turn_dfs)"
   ]
  },
  {
   "cell_type": "markdown",
   "id": "e789a3d9",
   "metadata": {},
   "source": [
    "Q3 data for George Russell, Mercedes"
   ]
  },
  {
   "cell_type": "code",
   "execution_count": 34,
   "id": "90bf1fe1",
   "metadata": {},
   "outputs": [],
   "source": [
    "q1, q2, q3 = session.get_laps(russell).split_qualifying_sessions()\n",
    "russell_q3_telemetry = session.get_telemetry(q3)\n",
    "\n",
    "sector_1_start = str(f1_pandas_helpers.get_fastest_lap_details(q3)[0])\n",
    "sector_1_end = str(f1_pandas_helpers.get_fastest_lap_details(q3)[1])\n",
    "sector_2_end = str(f1_pandas_helpers.get_fastest_lap_details(q3)[2])\n",
    "sector_3_end = str(f1_pandas_helpers.get_fastest_lap_details(q3)[3])\n",
    "\n",
    "russell_sector1_telemetry = f1_pandas_helpers.filter_timestamp_range(russell_q3_telemetry, start=sector_1_start, end=sector_1_end)\n",
    "russell_sector1_telemetry_cleaned = telemetry_cleaning.clean_driver_sector_telemetry(russell_sector1_telemetry, russell)\n",
    "\n",
    "russell_sector2_telemetry = f1_pandas_helpers.filter_timestamp_range(russell_q3_telemetry, start=sector_1_end, end=sector_2_end)\n",
    "russell_sector2_telemetry_cleaned = telemetry_cleaning.clean_driver_sector_telemetry(russell_sector2_telemetry, russell)\n",
    "\n",
    "russell_sector3_telemetry = f1_pandas_helpers.filter_timestamp_range(russell_q3_telemetry, start=sector_2_end, end=sector_3_end)\n",
    "russell_sector3_telemetry_cleaned = telemetry_cleaning.clean_driver_sector_telemetry(russell_sector3_telemetry, russell)\n",
    "russell_sector3_telemetry_features = feature_engineering.TelemetryFeatures(russell_sector3_telemetry_cleaned).acceleration().jerk().g_force().get_features_df()\n",
    "\n",
    "russell_corner_telemetry = telemetry_cleaning.filter_corner_telemetry(russell_sector3_telemetry_features, corner_position_cleaned, critical_turn[0], radius)"
   ]
  },
  {
   "cell_type": "markdown",
   "id": "2a613e5d",
   "metadata": {},
   "source": [
    "Descriptive Statistics - George Russell - The code below concatenates descriptive statistics for the driver at each turn in the critical_turn list into a single DataFrame."
   ]
  },
  {
   "cell_type": "code",
   "execution_count": 35,
   "id": "7363e326",
   "metadata": {},
   "outputs": [],
   "source": [
    "russell_turn_dfs = [(turn, telemetry_cleaning.filter_corner_telemetry(russell_sector3_telemetry_features, corner_position_cleaned, turn, radius)) for turn in critical_turn]\n",
    "russell_eda_summary = f1_pandas_helpers.get_driver_eda_multiple_turns(russell, russell_turn_dfs)"
   ]
  },
  {
   "cell_type": "markdown",
   "id": "82a823d1",
   "metadata": {},
   "source": [
    "Descriptive Statistics - All Drivers - The following code concatenates descriptive statistics for each driver into a single DataFrame for downstream visualization validation."
   ]
  },
  {
   "cell_type": "code",
   "execution_count": 36,
   "id": "c71fb0d4",
   "metadata": {},
   "outputs": [
    {
     "data": {
      "text/html": [
       "<div>\n",
       "<style scoped>\n",
       "    .dataframe tbody tr th:only-of-type {\n",
       "        vertical-align: middle;\n",
       "    }\n",
       "\n",
       "    .dataframe tbody tr th {\n",
       "        vertical-align: top;\n",
       "    }\n",
       "\n",
       "    .dataframe thead th {\n",
       "        text-align: right;\n",
       "    }\n",
       "</style>\n",
       "<table border=\"1\" class=\"dataframe\">\n",
       "  <thead>\n",
       "    <tr style=\"text-align: right;\">\n",
       "      <th></th>\n",
       "      <th>Driver</th>\n",
       "      <th>Turn</th>\n",
       "      <th>Row Count</th>\n",
       "      <th>Max Speed</th>\n",
       "      <th>Mean Speed</th>\n",
       "      <th>Median Speed</th>\n",
       "      <th>SD Speed</th>\n",
       "      <th>Max Accel</th>\n",
       "      <th>Mean Accel</th>\n",
       "      <th>Median Accel</th>\n",
       "      <th>SD Accel</th>\n",
       "      <th>Max Jerk</th>\n",
       "      <th>Mean Jerk</th>\n",
       "      <th>Median Jerk</th>\n",
       "      <th>SD Jerk</th>\n",
       "      <th>Max Gs</th>\n",
       "      <th>Mean Gs</th>\n",
       "      <th>Median Gs</th>\n",
       "      <th>SD Gs</th>\n",
       "      <th>Gear Shifts</th>\n",
       "      <th>Throttle Events</th>\n",
       "      <th>Mean Throttle</th>\n",
       "      <th>SD Throttle</th>\n",
       "      <th>Brake Events</th>\n",
       "    </tr>\n",
       "  </thead>\n",
       "  <tbody>\n",
       "    <tr>\n",
       "      <th>0</th>\n",
       "      <td>NOR</td>\n",
       "      <td>16</td>\n",
       "      <td>63</td>\n",
       "      <td>75.277838</td>\n",
       "      <td>57.344982</td>\n",
       "      <td>57.222268</td>\n",
       "      <td>13.565218</td>\n",
       "      <td>16.666680</td>\n",
       "      <td>-0.661309</td>\n",
       "      <td>2.314787</td>\n",
       "      <td>12.658388</td>\n",
       "      <td>2893.563761</td>\n",
       "      <td>43.179675</td>\n",
       "      <td>-1.087565e-13</td>\n",
       "      <td>382.210859</td>\n",
       "      <td>4.602889</td>\n",
       "      <td>0.878407</td>\n",
       "      <td>0.619619</td>\n",
       "      <td>0.941664</td>\n",
       "      <td>4</td>\n",
       "      <td>2</td>\n",
       "      <td>69.613554</td>\n",
       "      <td>42.409431</td>\n",
       "      <td>1</td>\n",
       "    </tr>\n",
       "    <tr>\n",
       "      <th>0</th>\n",
       "      <td>PIA</td>\n",
       "      <td>16</td>\n",
       "      <td>67</td>\n",
       "      <td>75.277838</td>\n",
       "      <td>57.537776</td>\n",
       "      <td>59.168099</td>\n",
       "      <td>13.741954</td>\n",
       "      <td>12.345689</td>\n",
       "      <td>-0.780020</td>\n",
       "      <td>2.083335</td>\n",
       "      <td>11.235878</td>\n",
       "      <td>2083.112778</td>\n",
       "      <td>56.302140</td>\n",
       "      <td>1.233581e-13</td>\n",
       "      <td>326.334141</td>\n",
       "      <td>3.068595</td>\n",
       "      <td>0.850449</td>\n",
       "      <td>0.708137</td>\n",
       "      <td>0.764802</td>\n",
       "      <td>5</td>\n",
       "      <td>2</td>\n",
       "      <td>66.941419</td>\n",
       "      <td>43.447465</td>\n",
       "      <td>1</td>\n",
       "    </tr>\n",
       "    <tr>\n",
       "      <th>0</th>\n",
       "      <td>VER</td>\n",
       "      <td>16</td>\n",
       "      <td>62</td>\n",
       "      <td>75.000060</td>\n",
       "      <td>55.634601</td>\n",
       "      <td>53.408607</td>\n",
       "      <td>14.003103</td>\n",
       "      <td>11.904771</td>\n",
       "      <td>-1.180369</td>\n",
       "      <td>1.736114</td>\n",
       "      <td>11.893096</td>\n",
       "      <td>17731.323620</td>\n",
       "      <td>517.491471</td>\n",
       "      <td>4.615303e-05</td>\n",
       "      <td>2659.301740</td>\n",
       "      <td>3.934345</td>\n",
       "      <td>0.791087</td>\n",
       "      <td>0.531103</td>\n",
       "      <td>0.921645</td>\n",
       "      <td>4</td>\n",
       "      <td>2</td>\n",
       "      <td>69.351849</td>\n",
       "      <td>41.448633</td>\n",
       "      <td>1</td>\n",
       "    </tr>\n",
       "    <tr>\n",
       "      <th>0</th>\n",
       "      <td>PER</td>\n",
       "      <td>16</td>\n",
       "      <td>64</td>\n",
       "      <td>74.444504</td>\n",
       "      <td>55.772932</td>\n",
       "      <td>56.027389</td>\n",
       "      <td>13.757684</td>\n",
       "      <td>13.889196</td>\n",
       "      <td>-0.468533</td>\n",
       "      <td>2.893515</td>\n",
       "      <td>13.122799</td>\n",
       "      <td>1519.097022</td>\n",
       "      <td>10.139750</td>\n",
       "      <td>1.962648e-05</td>\n",
       "      <td>269.502697</td>\n",
       "      <td>3.717724</td>\n",
       "      <td>0.988737</td>\n",
       "      <td>0.786820</td>\n",
       "      <td>0.894346</td>\n",
       "      <td>3</td>\n",
       "      <td>2</td>\n",
       "      <td>70.301491</td>\n",
       "      <td>42.023627</td>\n",
       "      <td>1</td>\n",
       "    </tr>\n",
       "    <tr>\n",
       "      <th>0</th>\n",
       "      <td>SAI</td>\n",
       "      <td>16</td>\n",
       "      <td>64</td>\n",
       "      <td>75.833394</td>\n",
       "      <td>57.178967</td>\n",
       "      <td>58.333380</td>\n",
       "      <td>14.391193</td>\n",
       "      <td>17.857162</td>\n",
       "      <td>0.032434</td>\n",
       "      <td>2.314817</td>\n",
       "      <td>11.759878</td>\n",
       "      <td>552.403137</td>\n",
       "      <td>-22.779047</td>\n",
       "      <td>-5.285221e-13</td>\n",
       "      <td>201.569569</td>\n",
       "      <td>3.540684</td>\n",
       "      <td>0.848876</td>\n",
       "      <td>0.578312</td>\n",
       "      <td>0.840239</td>\n",
       "      <td>4</td>\n",
       "      <td>2</td>\n",
       "      <td>71.658061</td>\n",
       "      <td>41.908480</td>\n",
       "      <td>1</td>\n",
       "    </tr>\n",
       "    <tr>\n",
       "      <th>0</th>\n",
       "      <td>LEC</td>\n",
       "      <td>16</td>\n",
       "      <td>63</td>\n",
       "      <td>76.111172</td>\n",
       "      <td>57.834744</td>\n",
       "      <td>58.333380</td>\n",
       "      <td>14.015042</td>\n",
       "      <td>15.625013</td>\n",
       "      <td>0.126180</td>\n",
       "      <td>2.604169</td>\n",
       "      <td>13.469746</td>\n",
       "      <td>165.344552</td>\n",
       "      <td>1.055976</td>\n",
       "      <td>1.297663e-14</td>\n",
       "      <td>64.061786</td>\n",
       "      <td>5.979823</td>\n",
       "      <td>0.820361</td>\n",
       "      <td>0.472091</td>\n",
       "      <td>1.096773</td>\n",
       "      <td>5</td>\n",
       "      <td>1</td>\n",
       "      <td>76.715560</td>\n",
       "      <td>35.828167</td>\n",
       "      <td>1</td>\n",
       "    </tr>\n",
       "    <tr>\n",
       "      <th>0</th>\n",
       "      <td>BOT</td>\n",
       "      <td>16</td>\n",
       "      <td>65</td>\n",
       "      <td>74.444504</td>\n",
       "      <td>57.549441</td>\n",
       "      <td>59.166714</td>\n",
       "      <td>13.680308</td>\n",
       "      <td>14.983879</td>\n",
       "      <td>-0.488292</td>\n",
       "      <td>1.388891</td>\n",
       "      <td>13.621176</td>\n",
       "      <td>1774.750391</td>\n",
       "      <td>37.859323</td>\n",
       "      <td>0.000000e+00</td>\n",
       "      <td>229.649207</td>\n",
       "      <td>4.868446</td>\n",
       "      <td>0.879529</td>\n",
       "      <td>0.472091</td>\n",
       "      <td>1.070564</td>\n",
       "      <td>4</td>\n",
       "      <td>2</td>\n",
       "      <td>75.164263</td>\n",
       "      <td>38.759111</td>\n",
       "      <td>1</td>\n",
       "    </tr>\n",
       "    <tr>\n",
       "      <th>0</th>\n",
       "      <td>ALO</td>\n",
       "      <td>16</td>\n",
       "      <td>63</td>\n",
       "      <td>74.722282</td>\n",
       "      <td>57.916230</td>\n",
       "      <td>59.972270</td>\n",
       "      <td>13.422748</td>\n",
       "      <td>13.888939</td>\n",
       "      <td>-0.748079</td>\n",
       "      <td>1.984129</td>\n",
       "      <td>13.414703</td>\n",
       "      <td>2314.766131</td>\n",
       "      <td>47.916282</td>\n",
       "      <td>3.552714e-13</td>\n",
       "      <td>316.063358</td>\n",
       "      <td>3.806235</td>\n",
       "      <td>0.922534</td>\n",
       "      <td>0.708137</td>\n",
       "      <td>1.006141</td>\n",
       "      <td>6</td>\n",
       "      <td>3</td>\n",
       "      <td>70.742826</td>\n",
       "      <td>41.056510</td>\n",
       "      <td>1</td>\n",
       "    </tr>\n",
       "    <tr>\n",
       "      <th>0</th>\n",
       "      <td>STR</td>\n",
       "      <td>16</td>\n",
       "      <td>61</td>\n",
       "      <td>74.444504</td>\n",
       "      <td>57.482511</td>\n",
       "      <td>58.333380</td>\n",
       "      <td>13.941375</td>\n",
       "      <td>15.625013</td>\n",
       "      <td>-0.430441</td>\n",
       "      <td>1.736113</td>\n",
       "      <td>13.805450</td>\n",
       "      <td>661.376190</td>\n",
       "      <td>15.956253</td>\n",
       "      <td>1.320992e-05</td>\n",
       "      <td>94.039194</td>\n",
       "      <td>5.355066</td>\n",
       "      <td>0.901784</td>\n",
       "      <td>0.606975</td>\n",
       "      <td>1.075635</td>\n",
       "      <td>4</td>\n",
       "      <td>3</td>\n",
       "      <td>73.034914</td>\n",
       "      <td>41.079768</td>\n",
       "      <td>1</td>\n",
       "    </tr>\n",
       "    <tr>\n",
       "      <th>0</th>\n",
       "      <td>GAS</td>\n",
       "      <td>16</td>\n",
       "      <td>66</td>\n",
       "      <td>74.166726</td>\n",
       "      <td>57.621776</td>\n",
       "      <td>58.843301</td>\n",
       "      <td>13.281316</td>\n",
       "      <td>13.117298</td>\n",
       "      <td>-2.272275</td>\n",
       "      <td>2.149472</td>\n",
       "      <td>14.489769</td>\n",
       "      <td>179.597697</td>\n",
       "      <td>9.517023</td>\n",
       "      <td>1.631841e-05</td>\n",
       "      <td>52.449046</td>\n",
       "      <td>4.956962</td>\n",
       "      <td>0.959210</td>\n",
       "      <td>0.655794</td>\n",
       "      <td>1.141672</td>\n",
       "      <td>5</td>\n",
       "      <td>2</td>\n",
       "      <td>69.371300</td>\n",
       "      <td>42.447647</td>\n",
       "      <td>1</td>\n",
       "    </tr>\n",
       "    <tr>\n",
       "      <th>0</th>\n",
       "      <td>HUL</td>\n",
       "      <td>16</td>\n",
       "      <td>67</td>\n",
       "      <td>75.000060</td>\n",
       "      <td>58.366969</td>\n",
       "      <td>60.644493</td>\n",
       "      <td>13.758384</td>\n",
       "      <td>18.055620</td>\n",
       "      <td>-0.103456</td>\n",
       "      <td>2.314819</td>\n",
       "      <td>13.173994</td>\n",
       "      <td>2645.468092</td>\n",
       "      <td>-55.997452</td>\n",
       "      <td>2.180074e-13</td>\n",
       "      <td>605.386029</td>\n",
       "      <td>6.727300</td>\n",
       "      <td>0.852962</td>\n",
       "      <td>0.619620</td>\n",
       "      <td>1.032568</td>\n",
       "      <td>4</td>\n",
       "      <td>2</td>\n",
       "      <td>74.656146</td>\n",
       "      <td>40.784947</td>\n",
       "      <td>1</td>\n",
       "    </tr>\n",
       "    <tr>\n",
       "      <th>0</th>\n",
       "      <td>MAG</td>\n",
       "      <td>16</td>\n",
       "      <td>62</td>\n",
       "      <td>75.277838</td>\n",
       "      <td>57.782585</td>\n",
       "      <td>59.375048</td>\n",
       "      <td>14.348567</td>\n",
       "      <td>15.046333</td>\n",
       "      <td>0.258043</td>\n",
       "      <td>3.224199</td>\n",
       "      <td>12.893132</td>\n",
       "      <td>173.611250</td>\n",
       "      <td>2.548748</td>\n",
       "      <td>7.132342e-13</td>\n",
       "      <td>51.970379</td>\n",
       "      <td>4.956958</td>\n",
       "      <td>0.845148</td>\n",
       "      <td>0.472091</td>\n",
       "      <td>1.001620</td>\n",
       "      <td>4</td>\n",
       "      <td>2</td>\n",
       "      <td>74.097661</td>\n",
       "      <td>38.381575</td>\n",
       "      <td>1</td>\n",
       "    </tr>\n",
       "    <tr>\n",
       "      <th>0</th>\n",
       "      <td>LAW</td>\n",
       "      <td>16</td>\n",
       "      <td>59</td>\n",
       "      <td>74.444504</td>\n",
       "      <td>56.446005</td>\n",
       "      <td>56.111156</td>\n",
       "      <td>14.090491</td>\n",
       "      <td>13.888900</td>\n",
       "      <td>0.538231</td>\n",
       "      <td>1.984129</td>\n",
       "      <td>12.051166</td>\n",
       "      <td>156.792660</td>\n",
       "      <td>-15.433390</td>\n",
       "      <td>0.000000e+00</td>\n",
       "      <td>156.658624</td>\n",
       "      <td>7.169885</td>\n",
       "      <td>0.712811</td>\n",
       "      <td>0.590114</td>\n",
       "      <td>0.998170</td>\n",
       "      <td>4</td>\n",
       "      <td>2</td>\n",
       "      <td>68.004910</td>\n",
       "      <td>44.225088</td>\n",
       "      <td>1</td>\n",
       "    </tr>\n",
       "    <tr>\n",
       "      <th>0</th>\n",
       "      <td>TSU</td>\n",
       "      <td>16</td>\n",
       "      <td>61</td>\n",
       "      <td>75.555616</td>\n",
       "      <td>56.904029</td>\n",
       "      <td>57.777824</td>\n",
       "      <td>14.664272</td>\n",
       "      <td>15.625013</td>\n",
       "      <td>-0.979042</td>\n",
       "      <td>2.777779</td>\n",
       "      <td>13.531235</td>\n",
       "      <td>1053.504631</td>\n",
       "      <td>20.056248</td>\n",
       "      <td>1.473569e-13</td>\n",
       "      <td>143.576859</td>\n",
       "      <td>4.184445</td>\n",
       "      <td>0.901560</td>\n",
       "      <td>0.566509</td>\n",
       "      <td>1.042894</td>\n",
       "      <td>5</td>\n",
       "      <td>2</td>\n",
       "      <td>74.521503</td>\n",
       "      <td>40.779634</td>\n",
       "      <td>1</td>\n",
       "    </tr>\n",
       "    <tr>\n",
       "      <th>0</th>\n",
       "      <td>RUS</td>\n",
       "      <td>16</td>\n",
       "      <td>54</td>\n",
       "      <td>75.555616</td>\n",
       "      <td>57.813222</td>\n",
       "      <td>58.865788</td>\n",
       "      <td>14.201363</td>\n",
       "      <td>12.731492</td>\n",
       "      <td>-0.672161</td>\n",
       "      <td>2.028187</td>\n",
       "      <td>12.502439</td>\n",
       "      <td>153.391649</td>\n",
       "      <td>-40.114990</td>\n",
       "      <td>0.000000e+00</td>\n",
       "      <td>211.080309</td>\n",
       "      <td>4.248822</td>\n",
       "      <td>0.877226</td>\n",
       "      <td>0.619620</td>\n",
       "      <td>0.919835</td>\n",
       "      <td>5</td>\n",
       "      <td>2</td>\n",
       "      <td>72.821343</td>\n",
       "      <td>40.785316</td>\n",
       "      <td>1</td>\n",
       "    </tr>\n",
       "  </tbody>\n",
       "</table>\n",
       "</div>"
      ],
      "text/plain": [
       "  Driver  Turn  Row Count  Max Speed  Mean Speed  Median Speed   SD Speed  \\\n",
       "0    NOR    16         63  75.277838   57.344982     57.222268  13.565218   \n",
       "0    PIA    16         67  75.277838   57.537776     59.168099  13.741954   \n",
       "0    VER    16         62  75.000060   55.634601     53.408607  14.003103   \n",
       "0    PER    16         64  74.444504   55.772932     56.027389  13.757684   \n",
       "0    SAI    16         64  75.833394   57.178967     58.333380  14.391193   \n",
       "0    LEC    16         63  76.111172   57.834744     58.333380  14.015042   \n",
       "0    BOT    16         65  74.444504   57.549441     59.166714  13.680308   \n",
       "0    ALO    16         63  74.722282   57.916230     59.972270  13.422748   \n",
       "0    STR    16         61  74.444504   57.482511     58.333380  13.941375   \n",
       "0    GAS    16         66  74.166726   57.621776     58.843301  13.281316   \n",
       "0    HUL    16         67  75.000060   58.366969     60.644493  13.758384   \n",
       "0    MAG    16         62  75.277838   57.782585     59.375048  14.348567   \n",
       "0    LAW    16         59  74.444504   56.446005     56.111156  14.090491   \n",
       "0    TSU    16         61  75.555616   56.904029     57.777824  14.664272   \n",
       "0    RUS    16         54  75.555616   57.813222     58.865788  14.201363   \n",
       "\n",
       "   Max Accel  Mean Accel  Median Accel   SD Accel      Max Jerk   Mean Jerk  \\\n",
       "0  16.666680   -0.661309      2.314787  12.658388   2893.563761   43.179675   \n",
       "0  12.345689   -0.780020      2.083335  11.235878   2083.112778   56.302140   \n",
       "0  11.904771   -1.180369      1.736114  11.893096  17731.323620  517.491471   \n",
       "0  13.889196   -0.468533      2.893515  13.122799   1519.097022   10.139750   \n",
       "0  17.857162    0.032434      2.314817  11.759878    552.403137  -22.779047   \n",
       "0  15.625013    0.126180      2.604169  13.469746    165.344552    1.055976   \n",
       "0  14.983879   -0.488292      1.388891  13.621176   1774.750391   37.859323   \n",
       "0  13.888939   -0.748079      1.984129  13.414703   2314.766131   47.916282   \n",
       "0  15.625013   -0.430441      1.736113  13.805450    661.376190   15.956253   \n",
       "0  13.117298   -2.272275      2.149472  14.489769    179.597697    9.517023   \n",
       "0  18.055620   -0.103456      2.314819  13.173994   2645.468092  -55.997452   \n",
       "0  15.046333    0.258043      3.224199  12.893132    173.611250    2.548748   \n",
       "0  13.888900    0.538231      1.984129  12.051166    156.792660  -15.433390   \n",
       "0  15.625013   -0.979042      2.777779  13.531235   1053.504631   20.056248   \n",
       "0  12.731492   -0.672161      2.028187  12.502439    153.391649  -40.114990   \n",
       "\n",
       "    Median Jerk      SD Jerk    Max Gs   Mean Gs  Median Gs     SD Gs  \\\n",
       "0 -1.087565e-13   382.210859  4.602889  0.878407   0.619619  0.941664   \n",
       "0  1.233581e-13   326.334141  3.068595  0.850449   0.708137  0.764802   \n",
       "0  4.615303e-05  2659.301740  3.934345  0.791087   0.531103  0.921645   \n",
       "0  1.962648e-05   269.502697  3.717724  0.988737   0.786820  0.894346   \n",
       "0 -5.285221e-13   201.569569  3.540684  0.848876   0.578312  0.840239   \n",
       "0  1.297663e-14    64.061786  5.979823  0.820361   0.472091  1.096773   \n",
       "0  0.000000e+00   229.649207  4.868446  0.879529   0.472091  1.070564   \n",
       "0  3.552714e-13   316.063358  3.806235  0.922534   0.708137  1.006141   \n",
       "0  1.320992e-05    94.039194  5.355066  0.901784   0.606975  1.075635   \n",
       "0  1.631841e-05    52.449046  4.956962  0.959210   0.655794  1.141672   \n",
       "0  2.180074e-13   605.386029  6.727300  0.852962   0.619620  1.032568   \n",
       "0  7.132342e-13    51.970379  4.956958  0.845148   0.472091  1.001620   \n",
       "0  0.000000e+00   156.658624  7.169885  0.712811   0.590114  0.998170   \n",
       "0  1.473569e-13   143.576859  4.184445  0.901560   0.566509  1.042894   \n",
       "0  0.000000e+00   211.080309  4.248822  0.877226   0.619620  0.919835   \n",
       "\n",
       "   Gear Shifts  Throttle Events  Mean Throttle  SD Throttle  Brake Events  \n",
       "0            4                2      69.613554    42.409431             1  \n",
       "0            5                2      66.941419    43.447465             1  \n",
       "0            4                2      69.351849    41.448633             1  \n",
       "0            3                2      70.301491    42.023627             1  \n",
       "0            4                2      71.658061    41.908480             1  \n",
       "0            5                1      76.715560    35.828167             1  \n",
       "0            4                2      75.164263    38.759111             1  \n",
       "0            6                3      70.742826    41.056510             1  \n",
       "0            4                3      73.034914    41.079768             1  \n",
       "0            5                2      69.371300    42.447647             1  \n",
       "0            4                2      74.656146    40.784947             1  \n",
       "0            4                2      74.097661    38.381575             1  \n",
       "0            4                2      68.004910    44.225088             1  \n",
       "0            5                2      74.521503    40.779634             1  \n",
       "0            5                2      72.821343    40.785316             1  "
      ]
     },
     "execution_count": 36,
     "metadata": {},
     "output_type": "execute_result"
    }
   ],
   "source": [
    "all_driver_eda_summaries = pd.concat([\n",
    "    norris_eda_summary, \n",
    "    piastri_eda_summary,\n",
    "    verstappen_eda_summary,\n",
    "    perez_eda_summary,\n",
    "    sainz_eda_summary,\n",
    "    leclerc_eda_summary,\n",
    "    bottas_eda_summary,\n",
    "    alonso_eda_summary,\n",
    "    stroll_eda_summary,\n",
    "    gasly_eda_summary,\n",
    "    hulkenberg_eda_summary,\n",
    "    magnussen_eda_summary,\n",
    "    lawson_eda_summary,\n",
    "    tsunoda_eda_summary,\n",
    "    russell_eda_summary\n",
    "    ])\n",
    "\n",
    "all_driver_eda_summaries"
   ]
  },
  {
   "cell_type": "markdown",
   "id": "95227ce2",
   "metadata": {},
   "source": [
    "Visualizations - Multiple Drivers - This multi-axis plot can dynamically display telemetry data to reveal unique driver performance for given driver dataframes.\n",
    "Limit the number of features to maintain clarity."
   ]
  },
  {
   "cell_type": "code",
   "execution_count": null,
   "id": "ae238928",
   "metadata": {},
   "outputs": [
    {
     "data": {
      "image/png": "[encoded data removed]",
      "text/plain": [
       "<Figure size 4200x1000 with 3 Axes>"
      ]
     },
     "metadata": {},
     "output_type": "display_data"
    }
   ],
   "source": [
    "plots.plot_multiple_drivers_telemetry(dfs=[bottas_corner_telemetry], \n",
    "                                      drivers=[bottas],\n",
    "                                      time_col='SectorTime (s)', \n",
    "                                      telemetry_cols=[speed])"
   ]
  }
 ],
 "metadata": {
  "kernelspec": {
   "display_name": "gmms_dsat_fastf1",
   "language": "python",
   "name": "python3"
  },
  "language_info": {
   "codemirror_mode": {
    "name": "ipython",
    "version": 3
   },
   "file_extension": ".py",
   "mimetype": "text/x-python",
   "name": "python",
   "nbconvert_exporter": "python",
   "pygments_lexer": "ipython3",
   "version": "3.13.5"
  }
 },
 "nbformat": 4,
 "nbformat_minor": 5
}
