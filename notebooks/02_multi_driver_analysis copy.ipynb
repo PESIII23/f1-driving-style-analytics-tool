{
 "cells": [
  {
   "cell_type": "markdown",
   "id": "752128ae",
   "metadata": {},
   "source": [
    "Multi-Driver Telemetry Analysis\n",
    "\n",
    "This notebook engineers telemetry data from the Fast-F1 API for telemetry dataframes for multiple drivers. It utilizes a structured workflow for data acquisition, preparation, and further exploration prior to applying machine learning models to multi-driver behavior analysis results. Additional descriptive statistics are added to single driver data frames that will then be concatenated and used as input for machine learning models.\n",
    "\n",
    "NOTE: This notebook will not compile as standalone. Please pull down the project from GitHub (git clone https://github.com/yourusername/f1-driving-style-analytics-tool.git) and install the necessary dependencies. Further instruction is included in the README.md"
   ]
  },
  {
   "cell_type": "markdown",
   "id": "3e20a0c0",
   "metadata": {},
   "source": [
    "The code below adds the parent directory to Python’s module search path and configures logging to suppress all FastF1 logs below the warning level. This will enable subsequent code blocks that use imports to work seamlessly and keep my resulting code compilations clean and easy to read."
   ]
  },
  {
   "cell_type": "code",
   "execution_count": 1,
   "id": "706a7d6d",
   "metadata": {},
   "outputs": [],
   "source": [
    "import sys\n",
    "import os\n",
    "import logging\n",
    "\n",
    "root = os.path.abspath(\"..\")\n",
    "sys.path.append(root)\n",
    "\n",
    "logging.getLogger('fastf1').setLevel(logging.WARNING)"
   ]
  },
  {
   "cell_type": "markdown",
   "id": "67fb729b",
   "metadata": {},
   "source": [
    "In this section, I import Python libraries for data visualization, numerical analysis, and working with Pandas dataframes that the FastF1 API is primarily structured with. I also import custom functions and modules for preprocessing F1 data and constants. To support full visibility into the datasets without truncation, I configure Pandas display options to show all rows and columns."
   ]
  },
  {
   "cell_type": "code",
   "execution_count": 2,
   "id": "33c3b78c",
   "metadata": {},
   "outputs": [],
   "source": [
    "from src.data import f1_data\n",
    "from src.utils import f1_constants, f1_pandas_helpers\n",
    "from src.preprocessing import telemetry_cleaning, feature_engineering\n",
    "from src.viz import plots\n",
    "\n",
    "import pandas as pd\n",
    "import seaborn as sns\n",
    "import matplotlib.pyplot as plt\n",
    "\n",
    "pd.set_option('display.max_rows', None)  # reset_option to compact dataframe view\n",
    "pd.set_option('display.max_columns', None)\n"
   ]
  },
  {
   "cell_type": "markdown",
   "id": "b78f67a9",
   "metadata": {},
   "source": [
    "The following code initializes a single F1 race session by defining parameters such as year, location, and session type. These values are passed into the custom F1Session class (from f1_data.py), which creates a session object built on top of Fast-F1. This object provides access to race data as well as custom functions I’ve implemented.\n",
    "\n",
    "The session parameters were chosen to best match Tier 1 control qualities:\n",
    "\n",
    "- Weather: Abu Dhabi (clear, dry conditions)\n",
    "- Max Speed: C5 Ultra Soft Tires\n",
    "- Minimize Outliers: Qualifying Sessions (Q3 & Q2)\n",
    "- Traffic: Avoid tow laps to avoid slipstream bias\n",
    "- Corner Analysis → Isolates driver techniques"
   ]
  },
  {
   "cell_type": "code",
   "execution_count": 3,
   "id": "087da416",
   "metadata": {},
   "outputs": [
    {
     "name": "stderr",
     "output_type": "stream",
     "text": [
      "req         WARNING \tDEFAULT CACHE ENABLED! (716.91 MB) /Users/phillipsmith/Library/Caches/fastf1\n",
      "core           INFO \tLoading data for Abu Dhabi Grand Prix - Qualifying [v3.6.0]\n",
      "req            INFO \tUsing cached data for session_info\n",
      "req            INFO \tUsing cached data for driver_info\n",
      "req            INFO \tUsing cached data for session_status_data\n",
      "req            INFO \tUsing cached data for track_status_data\n",
      "req            INFO \tUsing cached data for _extended_timing_data\n",
      "req            INFO \tUsing cached data for timing_app_data\n",
      "core           INFO \tProcessing timing data...\n",
      "req            INFO \tUsing cached data for car_data\n",
      "req            INFO \tUsing cached data for position_data\n",
      "req            INFO \tUsing cached data for weather_data\n",
      "req            INFO \tUsing cached data for race_control_messages\n",
      "core           INFO \tFinished loading data for 20 drivers: ['4', '81', '55', '27', '1', '10', '63', '14', '77', '11', '22', '30', '18', '16', '20', '23', '24', '44', '43', '61']\n"
     ]
    }
   ],
   "source": [
    "year = 2024\n",
    "grand_prix = f1_constants.F1Constants.LOCATIONS[\"Abu Dhabi\"]\n",
    "session_type = f1_constants.F1Constants.SESSIONS[\"Q\"]\n",
    "\n",
    "session = f1_data.F1Session(year, grand_prix, session_type)"
   ]
  },
  {
   "cell_type": "markdown",
   "id": "b18ca600",
   "metadata": {},
   "source": [
    "All drivers who participated in the specific location's Q2 and Q3 sessions will be analyzed and assigned variables to be identified by their three-letter name code. Q3 data will be used for each driver whenever available; otherwise, Q2 data will be selected.\n",
    "\n",
    "Constants for telemetry data is also initialized as variables for ease of use during visualization."
   ]
  },
  {
   "cell_type": "code",
   "execution_count": 4,
   "id": "d96e96e8",
   "metadata": {},
   "outputs": [],
   "source": [
    "# driver constants\n",
    "norris = f1_constants.F1Constants.DRIVERS[\"Lando Norris\"]\n",
    "piastri = f1_constants.F1Constants.DRIVERS[\"Oscar Piastri\"]\n",
    "verstappen = f1_constants.F1Constants.DRIVERS[\"Max Verstappen\"]\n",
    "perez = f1_constants.F1Constants.DRIVERS[\"Sergio Perez\"]\n",
    "sainz = f1_constants.F1Constants.DRIVERS[\"Carlos Sainz\"]\n",
    "leclerc = f1_constants.F1Constants.DRIVERS[\"Charles Leclerc\"]\n",
    "bottas = f1_constants.F1Constants.DRIVERS[\"Valtteri Bottas\"]\n",
    "alonso = f1_constants.F1Constants.DRIVERS[\"Fernando Alonso\"]\n",
    "stroll = f1_constants.F1Constants.DRIVERS[\"Lance Stroll\"]\n",
    "gasly = f1_constants.F1Constants.DRIVERS[\"Pierre Gasly\"]\n",
    "hulkenberg = f1_constants.F1Constants.DRIVERS[\"Nico Hulkenberg\"]\n",
    "magnussen = f1_constants.F1Constants.DRIVERS[\"Kevin Magnussen\"]\n",
    "lawson = f1_constants.F1Constants.DRIVERS[\"Liam Lawson\"]\n",
    "tsunoda = f1_constants.F1Constants.DRIVERS[\"Yuki Tsunoda\"]\n",
    "russell = f1_constants.F1Constants.DRIVERS[\"George Russell\"]\n",
    "\n",
    "# telemetry constants\n",
    "speed = f1_constants.F1Constants.TELEMETRY_COLUMNS[\"Speed (m/s)\"]\n",
    "acceleration = f1_constants.F1Constants.TELEMETRY_COLUMNS[\"Acceleration (m/s²)\"]\n",
    "jerk = f1_constants.F1Constants.TELEMETRY_COLUMNS[\"Jerk (m/s³)\"]\n",
    "rpm = f1_constants.F1Constants.TELEMETRY_COLUMNS[\"RPM\"]\n",
    "g_force = f1_constants.F1Constants.TELEMETRY_COLUMNS[\"G-force (g)\"]\n",
    "gear = f1_constants.F1Constants.TELEMETRY_COLUMNS[\"nGear\"]\n",
    "throttle = f1_constants.F1Constants.TELEMETRY_COLUMNS[\"Throttle (%)\"]\n",
    "brakes = f1_constants.F1Constants.TELEMETRY_COLUMNS[\"BrakesApplied\"]"
   ]
  },
  {
   "cell_type": "markdown",
   "id": "9387c5d8",
   "metadata": {},
   "source": [
    "The code extracts circuit information for the session’s corners. The `critical_turn` array identifies corners where driver behavior is especially important for sector and overall lap performance. Adjusting the `radius` value controls how much telemetry around each turn is included, allowing you to visualize throttle and braking traces at the desired level of detail."
   ]
  },
  {
   "cell_type": "code",
   "execution_count": 5,
   "id": "7f8b12b4",
   "metadata": {},
   "outputs": [],
   "source": [
    "corner_position = session.get_circuit_info().corners\n",
    "corner_position_cleaned = telemetry_cleaning.clean_circuit_corner_data(corner_position)\n",
    "\n",
    "# 16 --> 2500, 12 --> 1800\n",
    "critical_turn = [16]\n",
    "radius = 2500"
   ]
  },
  {
   "cell_type": "markdown",
   "id": "be4db11a",
   "metadata": {},
   "source": [
    "For each driver, the telemetry from their fastest qualifying lap is isolated by filtering based on sector timestamps. These sector datasets are then cleaned, enriched with derived features, and filtered by turn to focus on the segments most informative for analyzing driver behavior and responses in complex areas."
   ]
  },
  {
   "cell_type": "markdown",
   "id": "58121ca6",
   "metadata": {},
   "source": [
    "Q3 data for Lando Norris, McLaren"
   ]
  },
  {
   "cell_type": "code",
   "execution_count": 6,
   "id": "ff591efe",
   "metadata": {},
   "outputs": [],
   "source": [
    "q1, q2, q3 = session.get_laps(norris).split_qualifying_sessions()\n",
    "norris_q3_telemetry = session.get_telemetry(q3)\n",
    "\n",
    "sector_1_start = str(f1_pandas_helpers.get_fastest_lap_details(q3)[0])\n",
    "sector_1_end = str(f1_pandas_helpers.get_fastest_lap_details(q3)[1])\n",
    "sector_2_end = str(f1_pandas_helpers.get_fastest_lap_details(q3)[2])\n",
    "sector_3_end = str(f1_pandas_helpers.get_fastest_lap_details(q3)[3])\n",
    "\n",
    "norris_sector1_telemetry = f1_pandas_helpers.filter_timestamp_range(norris_q3_telemetry, start=sector_1_start, end=sector_1_end)\n",
    "norris_sector1_telemetry_cleaned = telemetry_cleaning.clean_driver_sector_telemetry(norris_sector1_telemetry, norris)\n",
    "\n",
    "norris_sector2_telemetry = f1_pandas_helpers.filter_timestamp_range(norris_q3_telemetry, start=sector_1_end, end=sector_2_end)\n",
    "norris_sector2_telemetry_cleaned = telemetry_cleaning.clean_driver_sector_telemetry(norris_sector2_telemetry, norris)\n",
    "\n",
    "norris_sector3_telemetry = f1_pandas_helpers.filter_timestamp_range(norris_q3_telemetry, start=sector_2_end, end=sector_3_end)\n",
    "norris_sector3_telemetry_cleaned = telemetry_cleaning.clean_driver_sector_telemetry(norris_sector3_telemetry, norris)\n",
    "norris_sector3_telemetry_features = feature_engineering.TelemetryFeatures(norris_sector3_telemetry_cleaned).acceleration().jerk().g_force().get_features_df()\n",
    "\n",
    "norris_corner_telemetry = telemetry_cleaning.filter_corner_telemetry(norris_sector3_telemetry_features, corner_position_cleaned, critical_turn[0], radius)\n",
    "\n",
    "norris_time_converted_telemetry = feature_engineering.TelemetryFeatures(norris_corner_telemetry).convert_sector_time_to_seconds().get_features_df()"
   ]
  },
  {
   "cell_type": "markdown",
   "id": "badf5af9",
   "metadata": {},
   "source": [
    "The following code blocks generate new descriptive statistical features to be used as inputs for the clustering model."
   ]
  },
  {
   "cell_type": "code",
   "execution_count": 7,
   "id": "6d1ca3f6",
   "metadata": {},
   "outputs": [],
   "source": [
    "norris_brake_engage = (norris_time_converted_telemetry['BrakesApplied'] == 1) & (norris_time_converted_telemetry['BrakesApplied'].shift() == 0)\n",
    "norris_initial_brake_timestamp = norris_time_converted_telemetry.loc[norris_brake_engage, 'SectorTime (s)'].min()\n",
    "norris_brake_disengage = (norris_time_converted_telemetry['BrakesApplied'] == 0) & (norris_time_converted_telemetry['BrakesApplied'].shift() == 1)\n",
    "norris_max_brake_duration = (norris_time_converted_telemetry.loc[norris_brake_disengage, 'SectorTime (s)'].min()) - norris_initial_brake_timestamp\n",
    "\n",
    "norris_throttle_reengage = (norris_time_converted_telemetry['Throttle (%)'] > 0) & (norris_time_converted_telemetry['Throttle (%)'].shift() == 0)\n",
    "norris_throttle_ramp_initial = norris_time_converted_telemetry.loc[norris_throttle_reengage, 'SectorTime (s)'].min()\n",
    "norris_throttle_max = (norris_time_converted_telemetry['Throttle (%)'] >= 99) & (norris_time_converted_telemetry['Throttle (%)'].shift() < 99)\n",
    "norris_throttle_ramp_final = (norris_time_converted_telemetry.loc[norris_throttle_max, 'SectorTime (s)'].min())\n",
    "norris_throttle_ramp_time = norris_throttle_ramp_final - norris_throttle_ramp_initial"
   ]
  },
  {
   "cell_type": "markdown",
   "id": "7b47f9e9",
   "metadata": {},
   "source": [
    "Descriptive Statistics — Lando Norris - The code below concatenates descriptive statistics for the driver at each turn in the critical_turn list into a single DataFrame."
   ]
  },
  {
   "cell_type": "code",
   "execution_count": 8,
   "id": "f49c4e76",
   "metadata": {},
   "outputs": [
    {
     "data": {
      "text/html": [
       "<div>\n",
       "<style scoped>\n",
       "    .dataframe tbody tr th:only-of-type {\n",
       "        vertical-align: middle;\n",
       "    }\n",
       "\n",
       "    .dataframe tbody tr th {\n",
       "        vertical-align: top;\n",
       "    }\n",
       "\n",
       "    .dataframe thead th {\n",
       "        text-align: right;\n",
       "    }\n",
       "</style>\n",
       "<table border=\"1\" class=\"dataframe\">\n",
       "  <thead>\n",
       "    <tr style=\"text-align: right;\">\n",
       "      <th></th>\n",
       "      <th>Driver</th>\n",
       "      <th>Turn</th>\n",
       "      <th>Row Count</th>\n",
       "      <th>Initial Brake</th>\n",
       "      <th>Brake Duration</th>\n",
       "      <th>Throttle Ramp Initial</th>\n",
       "      <th>Throttle Ramp Time</th>\n",
       "      <th>Max Gs</th>\n",
       "      <th>Gear Shifts</th>\n",
       "      <th>Throttle Events</th>\n",
       "      <th>Brake Events</th>\n",
       "    </tr>\n",
       "  </thead>\n",
       "  <tbody>\n",
       "    <tr>\n",
       "      <th>0</th>\n",
       "      <td>NOR</td>\n",
       "      <td>16</td>\n",
       "      <td>63</td>\n",
       "      <td>2.485</td>\n",
       "      <td>1.799</td>\n",
       "      <td>4.401</td>\n",
       "      <td>1.483</td>\n",
       "      <td>4.602889</td>\n",
       "      <td>4</td>\n",
       "      <td>2</td>\n",
       "      <td>1</td>\n",
       "    </tr>\n",
       "  </tbody>\n",
       "</table>\n",
       "</div>"
      ],
      "text/plain": [
       "  Driver  Turn  Row Count  Initial Brake  Brake Duration  \\\n",
       "0    NOR    16         63          2.485           1.799   \n",
       "\n",
       "   Throttle Ramp Initial  Throttle Ramp Time    Max Gs  Gear Shifts  \\\n",
       "0                  4.401               1.483  4.602889            4   \n",
       "\n",
       "   Throttle Events  Brake Events  \n",
       "0                2             1  "
      ]
     },
     "execution_count": 8,
     "metadata": {},
     "output_type": "execute_result"
    }
   ],
   "source": [
    "norris_turn_dfs = [(turn, telemetry_cleaning.filter_corner_telemetry(norris_sector3_telemetry_features, corner_position_cleaned, turn, radius)) for turn in critical_turn]\n",
    "norris_eda_summary = f1_pandas_helpers.get_driver_eda_multiple_turns(norris, norris_turn_dfs, norris_initial_brake_timestamp, norris_max_brake_duration, norris_throttle_ramp_initial, norris_throttle_ramp_time)\n",
    "\n",
    "norris_eda_summary"
   ]
  },
  {
   "cell_type": "markdown",
   "id": "1f378105",
   "metadata": {},
   "source": [
    "Q3 data for Oscar Piastri, McLaren"
   ]
  },
  {
   "cell_type": "code",
   "execution_count": 9,
   "id": "80e2ab9e",
   "metadata": {},
   "outputs": [],
   "source": [
    "q1, q2, q3 = session.get_laps(piastri).split_qualifying_sessions()\n",
    "piastri_q3_telemetry = session.get_telemetry(q3)\n",
    "\n",
    "sector_1_start = str(f1_pandas_helpers.get_fastest_lap_details(q3)[0])\n",
    "sector_1_end = str(f1_pandas_helpers.get_fastest_lap_details(q3)[1])\n",
    "sector_2_end = str(f1_pandas_helpers.get_fastest_lap_details(q3)[2])\n",
    "sector_3_end = str(f1_pandas_helpers.get_fastest_lap_details(q3)[3])\n",
    "\n",
    "piastri_sector1_telemetry = f1_pandas_helpers.filter_timestamp_range(piastri_q3_telemetry, start=sector_1_start, end=sector_1_end)\n",
    "piastri_sector1_telemetry_cleaned = telemetry_cleaning.clean_driver_sector_telemetry(piastri_sector1_telemetry, piastri)\n",
    "\n",
    "piastri_sector2_telemetry = f1_pandas_helpers.filter_timestamp_range(piastri_q3_telemetry, start=sector_1_end, end=sector_2_end)\n",
    "piastri_sector2_telemetry_cleaned = telemetry_cleaning.clean_driver_sector_telemetry(piastri_sector2_telemetry, piastri)\n",
    "\n",
    "piastri_sector3_telemetry = f1_pandas_helpers.filter_timestamp_range(piastri_q3_telemetry, start=sector_2_end, end=sector_3_end)\n",
    "piastri_sector3_telemetry_cleaned = telemetry_cleaning.clean_driver_sector_telemetry(piastri_sector3_telemetry, piastri)\n",
    "piastri_sector3_telemetry_features = feature_engineering.TelemetryFeatures(piastri_sector3_telemetry_cleaned).acceleration().jerk().g_force().get_features_df()\n",
    "\n",
    "piastri_corner_telemetry = telemetry_cleaning.filter_corner_telemetry(piastri_sector3_telemetry_features, corner_position_cleaned, critical_turn[0], radius)\n",
    "\n",
    "piastri_time_converted_telemetry = feature_engineering.TelemetryFeatures(piastri_corner_telemetry).convert_sector_time_to_seconds().get_features_df()"
   ]
  },
  {
   "cell_type": "markdown",
   "id": "ab5e6a8c",
   "metadata": {},
   "source": [
    "The following code blocks generate new descriptive statistical features to be used as inputs for the clustering model."
   ]
  },
  {
   "cell_type": "code",
   "execution_count": 10,
   "id": "20e39c6a",
   "metadata": {},
   "outputs": [],
   "source": [
    "piastri_brake_engage = (piastri_time_converted_telemetry['BrakesApplied'] == 1) & (piastri_time_converted_telemetry['BrakesApplied'].shift() == 0)\n",
    "piastri_initial_brake_timestamp = piastri_time_converted_telemetry.loc[piastri_brake_engage, 'SectorTime (s)'].min()\n",
    "piastri_brake_disengage = (piastri_time_converted_telemetry['BrakesApplied'] == 0) & (piastri_time_converted_telemetry['BrakesApplied'].shift() == 1)\n",
    "piastri_max_brake_duration = (piastri_time_converted_telemetry.loc[piastri_brake_disengage, 'SectorTime (s)'].min()) - piastri_initial_brake_timestamp\n",
    "\n",
    "piastri_throttle_reengage = (piastri_time_converted_telemetry['Throttle (%)'] > 0) & (piastri_time_converted_telemetry['Throttle (%)'].shift() == 0)\n",
    "piastri_throttle_ramp_initial = piastri_time_converted_telemetry.loc[piastri_throttle_reengage, 'SectorTime (s)'].min()\n",
    "piastri_throttle_max = (piastri_time_converted_telemetry['Throttle (%)'] >= 99) & (piastri_time_converted_telemetry['Throttle (%)'].shift() < 99)\n",
    "piastri_throttle_ramp_final = (piastri_time_converted_telemetry.loc[piastri_throttle_max, 'SectorTime (s)'].min())\n",
    "piastri_throttle_ramp_time = piastri_throttle_ramp_final - piastri_throttle_ramp_initial"
   ]
  },
  {
   "cell_type": "markdown",
   "id": "04b59fa6",
   "metadata": {},
   "source": [
    "Descriptive Statistics - Oscar Piastri - The code below concatenates descriptive statistics for the driver at each turn in the critical_turn list into a single DataFrame."
   ]
  },
  {
   "cell_type": "code",
   "execution_count": 11,
   "id": "78212380",
   "metadata": {},
   "outputs": [
    {
     "data": {
      "text/html": [
       "<div>\n",
       "<style scoped>\n",
       "    .dataframe tbody tr th:only-of-type {\n",
       "        vertical-align: middle;\n",
       "    }\n",
       "\n",
       "    .dataframe tbody tr th {\n",
       "        vertical-align: top;\n",
       "    }\n",
       "\n",
       "    .dataframe thead th {\n",
       "        text-align: right;\n",
       "    }\n",
       "</style>\n",
       "<table border=\"1\" class=\"dataframe\">\n",
       "  <thead>\n",
       "    <tr style=\"text-align: right;\">\n",
       "      <th></th>\n",
       "      <th>Driver</th>\n",
       "      <th>Turn</th>\n",
       "      <th>Row Count</th>\n",
       "      <th>Initial Brake</th>\n",
       "      <th>Brake Duration</th>\n",
       "      <th>Throttle Ramp Initial</th>\n",
       "      <th>Throttle Ramp Time</th>\n",
       "      <th>Max Gs</th>\n",
       "      <th>Gear Shifts</th>\n",
       "      <th>Throttle Events</th>\n",
       "      <th>Brake Events</th>\n",
       "    </tr>\n",
       "  </thead>\n",
       "  <tbody>\n",
       "    <tr>\n",
       "      <th>0</th>\n",
       "      <td>PIA</td>\n",
       "      <td>16</td>\n",
       "      <td>67</td>\n",
       "      <td>2.724</td>\n",
       "      <td>1.2</td>\n",
       "      <td>4.402</td>\n",
       "      <td>1.563</td>\n",
       "      <td>3.068595</td>\n",
       "      <td>5</td>\n",
       "      <td>2</td>\n",
       "      <td>1</td>\n",
       "    </tr>\n",
       "  </tbody>\n",
       "</table>\n",
       "</div>"
      ],
      "text/plain": [
       "  Driver  Turn  Row Count  Initial Brake  Brake Duration  \\\n",
       "0    PIA    16         67          2.724             1.2   \n",
       "\n",
       "   Throttle Ramp Initial  Throttle Ramp Time    Max Gs  Gear Shifts  \\\n",
       "0                  4.402               1.563  3.068595            5   \n",
       "\n",
       "   Throttle Events  Brake Events  \n",
       "0                2             1  "
      ]
     },
     "execution_count": 11,
     "metadata": {},
     "output_type": "execute_result"
    }
   ],
   "source": [
    "piastri_turn_dfs = [(turn, telemetry_cleaning.filter_corner_telemetry(piastri_sector3_telemetry_features, corner_position_cleaned, turn, radius)) for turn in critical_turn]\n",
    "piastri_eda_summary = f1_pandas_helpers.get_driver_eda_multiple_turns(piastri, piastri_turn_dfs, piastri_initial_brake_timestamp, piastri_max_brake_duration, piastri_throttle_ramp_initial, piastri_throttle_ramp_time)\n",
    "\n",
    "piastri_eda_summary"
   ]
  },
  {
   "cell_type": "markdown",
   "id": "8dfa40b9",
   "metadata": {},
   "source": [
    "Q3 data for Max Verstappen, Red Bull"
   ]
  },
  {
   "cell_type": "code",
   "execution_count": 12,
   "id": "a97aaa65",
   "metadata": {},
   "outputs": [],
   "source": [
    "q1, q2, q3 = session.get_laps(verstappen).split_qualifying_sessions()\n",
    "verstappen_q3_telemetry = session.get_telemetry(q3)\n",
    "\n",
    "sector_1_start = str(f1_pandas_helpers.get_fastest_lap_details(q3)[0])\n",
    "sector_1_end = str(f1_pandas_helpers.get_fastest_lap_details(q3)[1])\n",
    "sector_2_end = str(f1_pandas_helpers.get_fastest_lap_details(q3)[2])\n",
    "sector_3_end = str(f1_pandas_helpers.get_fastest_lap_details(q3)[3])\n",
    "\n",
    "verstappen_sector1_telemetry = f1_pandas_helpers.filter_timestamp_range(verstappen_q3_telemetry, start=sector_1_start, end=sector_1_end)\n",
    "verstappen_sector1_telemetry_cleaned = telemetry_cleaning.clean_driver_sector_telemetry(verstappen_sector1_telemetry, verstappen)\n",
    "\n",
    "verstappen_sector2_telemetry = f1_pandas_helpers.filter_timestamp_range(verstappen_q3_telemetry, start=sector_1_end, end=sector_2_end)\n",
    "verstappen_sector2_telemetry_cleaned = telemetry_cleaning.clean_driver_sector_telemetry(verstappen_sector2_telemetry, verstappen)\n",
    "\n",
    "verstappen_sector3_telemetry = f1_pandas_helpers.filter_timestamp_range(verstappen_q3_telemetry, start=sector_2_end, end=sector_3_end)\n",
    "verstappen_sector3_telemetry_cleaned = telemetry_cleaning.clean_driver_sector_telemetry(verstappen_sector3_telemetry, verstappen)\n",
    "verstappen_sector3_telemetry_features = feature_engineering.TelemetryFeatures(verstappen_sector3_telemetry_cleaned).acceleration().jerk().g_force().get_features_df()\n",
    "\n",
    "verstappen_corner_telemetry = telemetry_cleaning.filter_corner_telemetry(verstappen_sector3_telemetry_features, corner_position_cleaned, critical_turn[0], radius)\n",
    "\n",
    "verstappen_time_converted_telemetry = feature_engineering.TelemetryFeatures(verstappen_corner_telemetry).convert_sector_time_to_seconds().get_features_df()"
   ]
  },
  {
   "cell_type": "markdown",
   "id": "e941ba23",
   "metadata": {},
   "source": [
    "The following code blocks generate new descriptive statistical features to be used as inputs for the clustering model."
   ]
  },
  {
   "cell_type": "code",
   "execution_count": 13,
   "id": "507d5b58",
   "metadata": {},
   "outputs": [],
   "source": [
    "verstappen_brake_engage = (verstappen_time_converted_telemetry['BrakesApplied'] == 1) & (verstappen_time_converted_telemetry['BrakesApplied'].shift() == 0)\n",
    "verstappen_initial_brake_timestamp = verstappen_time_converted_telemetry.loc[verstappen_brake_engage, 'SectorTime (s)'].min()\n",
    "verstappen_brake_disengage = (verstappen_time_converted_telemetry['BrakesApplied'] == 0) & (verstappen_time_converted_telemetry['BrakesApplied'].shift() == 1)\n",
    "verstappen_max_brake_duration = (verstappen_time_converted_telemetry.loc[verstappen_brake_disengage, 'SectorTime (s)'].min()) - verstappen_initial_brake_timestamp\n",
    "\n",
    "verstappen_throttle_reengage = (verstappen_time_converted_telemetry['Throttle (%)'] > 0) & (verstappen_time_converted_telemetry['Throttle (%)'].shift() == 0)\n",
    "verstappen_throttle_ramp_initial = verstappen_time_converted_telemetry.loc[verstappen_throttle_reengage, 'SectorTime (s)'].min()\n",
    "verstappen_throttle_max = (verstappen_time_converted_telemetry['Throttle (%)'] >= 99) & (verstappen_time_converted_telemetry['Throttle (%)'].shift() < 99)\n",
    "verstappen_throttle_ramp_final = (verstappen_time_converted_telemetry.loc[verstappen_throttle_max, 'SectorTime (s)'].min())\n",
    "verstappen_throttle_ramp_time = verstappen_throttle_ramp_final - verstappen_throttle_ramp_initial"
   ]
  },
  {
   "cell_type": "markdown",
   "id": "98d69aeb",
   "metadata": {},
   "source": [
    "Descriptive Statistics - Max Verstappen - The code below concatenates descriptive statistics for the driver at each turn in the critical_turn list into a single DataFrame."
   ]
  },
  {
   "cell_type": "code",
   "execution_count": 14,
   "id": "56866b54",
   "metadata": {},
   "outputs": [
    {
     "data": {
      "text/html": [
       "<div>\n",
       "<style scoped>\n",
       "    .dataframe tbody tr th:only-of-type {\n",
       "        vertical-align: middle;\n",
       "    }\n",
       "\n",
       "    .dataframe tbody tr th {\n",
       "        vertical-align: top;\n",
       "    }\n",
       "\n",
       "    .dataframe thead th {\n",
       "        text-align: right;\n",
       "    }\n",
       "</style>\n",
       "<table border=\"1\" class=\"dataframe\">\n",
       "  <thead>\n",
       "    <tr style=\"text-align: right;\">\n",
       "      <th></th>\n",
       "      <th>Driver</th>\n",
       "      <th>Turn</th>\n",
       "      <th>Row Count</th>\n",
       "      <th>Initial Brake</th>\n",
       "      <th>Brake Duration</th>\n",
       "      <th>Throttle Ramp Initial</th>\n",
       "      <th>Throttle Ramp Time</th>\n",
       "      <th>Max Gs</th>\n",
       "      <th>Gear Shifts</th>\n",
       "      <th>Throttle Events</th>\n",
       "      <th>Brake Events</th>\n",
       "    </tr>\n",
       "  </thead>\n",
       "  <tbody>\n",
       "    <tr>\n",
       "      <th>0</th>\n",
       "      <td>VER</td>\n",
       "      <td>16</td>\n",
       "      <td>62</td>\n",
       "      <td>2.882</td>\n",
       "      <td>1.44</td>\n",
       "      <td>4.321</td>\n",
       "      <td>1.321</td>\n",
       "      <td>3.934345</td>\n",
       "      <td>4</td>\n",
       "      <td>2</td>\n",
       "      <td>1</td>\n",
       "    </tr>\n",
       "  </tbody>\n",
       "</table>\n",
       "</div>"
      ],
      "text/plain": [
       "  Driver  Turn  Row Count  Initial Brake  Brake Duration  \\\n",
       "0    VER    16         62          2.882            1.44   \n",
       "\n",
       "   Throttle Ramp Initial  Throttle Ramp Time    Max Gs  Gear Shifts  \\\n",
       "0                  4.321               1.321  3.934345            4   \n",
       "\n",
       "   Throttle Events  Brake Events  \n",
       "0                2             1  "
      ]
     },
     "execution_count": 14,
     "metadata": {},
     "output_type": "execute_result"
    }
   ],
   "source": [
    "verstappen_turn_dfs = [(turn, telemetry_cleaning.filter_corner_telemetry(verstappen_sector3_telemetry_features, corner_position_cleaned, turn, radius)) for turn in critical_turn]\n",
    "verstappen_eda_summary = f1_pandas_helpers.get_driver_eda_multiple_turns(verstappen, verstappen_turn_dfs, verstappen_initial_brake_timestamp, verstappen_max_brake_duration, verstappen_throttle_ramp_initial, verstappen_throttle_ramp_time)\n",
    "\n",
    "verstappen_eda_summary"
   ]
  },
  {
   "cell_type": "markdown",
   "id": "2d2a2e86",
   "metadata": {},
   "source": [
    "Q3 data for Sergio Perez, Red Bull"
   ]
  },
  {
   "cell_type": "code",
   "execution_count": 15,
   "id": "2dece56f",
   "metadata": {},
   "outputs": [],
   "source": [
    "q1, q2, q3 = session.get_laps(perez).split_qualifying_sessions()\n",
    "perez_q3_telemetry = session.get_telemetry(q3)\n",
    "\n",
    "sector_1_start = str(f1_pandas_helpers.get_fastest_lap_details(q3)[0])\n",
    "sector_1_end = str(f1_pandas_helpers.get_fastest_lap_details(q3)[1])\n",
    "sector_2_end = str(f1_pandas_helpers.get_fastest_lap_details(q3)[2])\n",
    "sector_3_end = str(f1_pandas_helpers.get_fastest_lap_details(q3)[3])\n",
    "\n",
    "perez_sector1_telemetry = f1_pandas_helpers.filter_timestamp_range(perez_q3_telemetry, start=sector_1_start, end=sector_1_end)\n",
    "perez_sector1_telemetry_cleaned = telemetry_cleaning.clean_driver_sector_telemetry(perez_sector1_telemetry, perez)\n",
    "\n",
    "perez_sector2_telemetry = f1_pandas_helpers.filter_timestamp_range(perez_q3_telemetry, start=sector_1_end, end=sector_2_end)\n",
    "perez_sector2_telemetry_cleaned = telemetry_cleaning.clean_driver_sector_telemetry(perez_sector2_telemetry, perez)\n",
    "\n",
    "perez_sector3_telemetry = f1_pandas_helpers.filter_timestamp_range(perez_q3_telemetry, start=sector_2_end, end=sector_3_end)\n",
    "perez_sector3_telemetry_cleaned = telemetry_cleaning.clean_driver_sector_telemetry(perez_sector3_telemetry, perez)\n",
    "perez_sector3_telemetry_features = feature_engineering.TelemetryFeatures(perez_sector3_telemetry_cleaned).acceleration().jerk().g_force().get_features_df()\n",
    "\n",
    "perez_corner_telemetry = telemetry_cleaning.filter_corner_telemetry(perez_sector3_telemetry_features, corner_position_cleaned, critical_turn[0], radius)\n",
    "\n",
    "perez_time_converted_telemetry = feature_engineering.TelemetryFeatures(perez_corner_telemetry).convert_sector_time_to_seconds().get_features_df()\n"
   ]
  },
  {
   "cell_type": "markdown",
   "id": "22099c21",
   "metadata": {},
   "source": [
    "The following code blocks generate new descriptive statistical features to be used as inputs for the clustering model."
   ]
  },
  {
   "cell_type": "code",
   "execution_count": 16,
   "id": "07b8be40",
   "metadata": {},
   "outputs": [
    {
     "data": {
      "text/plain": [
       "np.float64(6.023000000000025)"
      ]
     },
     "execution_count": 16,
     "metadata": {},
     "output_type": "execute_result"
    }
   ],
   "source": [
    "perez_brake_engage = (perez_time_converted_telemetry['BrakesApplied'] == 1) & (perez_time_converted_telemetry['BrakesApplied'].shift() == 0)\n",
    "perez_initial_brake_timestamp = perez_time_converted_telemetry.loc[perez_brake_engage, 'SectorTime (s)'].min()\n",
    "perez_brake_disengage = (perez_time_converted_telemetry['BrakesApplied'] == 0) & (perez_time_converted_telemetry['BrakesApplied'].shift() == 1)\n",
    "perez_max_brake_duration = (perez_time_converted_telemetry.loc[perez_brake_disengage, 'SectorTime (s)'].min()) - perez_initial_brake_timestamp\n",
    "\n",
    "perez_throttle_reengage = (perez_time_converted_telemetry['Throttle (%)'] > 0) & (perez_time_converted_telemetry['Throttle (%)'].shift() == 0)\n",
    "perez_throttle_ramp_initial = perez_time_converted_telemetry.loc[perez_throttle_reengage, 'SectorTime (s)'].min()\n",
    "perez_throttle_max = (perez_time_converted_telemetry['Throttle (%)'] >= 99) & (perez_time_converted_telemetry['Throttle (%)'].shift() < 99)\n",
    "perez_throttle_ramp_final = (perez_time_converted_telemetry.loc[perez_throttle_max, 'SectorTime (s)'].min())\n",
    "perez_throttle_ramp_time = perez_throttle_ramp_final - perez_throttle_ramp_initial\n",
    "\n",
    "perez_throttle_ramp_final\n"
   ]
  },
  {
   "cell_type": "markdown",
   "id": "620fdcb4",
   "metadata": {},
   "source": [
    "Descriptive Statistics - Sergio Perez - The code below concatenates descriptive statistics for the driver at each turn in the critical_turn list into a single DataFrame."
   ]
  },
  {
   "cell_type": "code",
   "execution_count": 17,
   "id": "dafff830",
   "metadata": {},
   "outputs": [
    {
     "data": {
      "text/html": [
       "<div>\n",
       "<style scoped>\n",
       "    .dataframe tbody tr th:only-of-type {\n",
       "        vertical-align: middle;\n",
       "    }\n",
       "\n",
       "    .dataframe tbody tr th {\n",
       "        vertical-align: top;\n",
       "    }\n",
       "\n",
       "    .dataframe thead th {\n",
       "        text-align: right;\n",
       "    }\n",
       "</style>\n",
       "<table border=\"1\" class=\"dataframe\">\n",
       "  <thead>\n",
       "    <tr style=\"text-align: right;\">\n",
       "      <th></th>\n",
       "      <th>Driver</th>\n",
       "      <th>Turn</th>\n",
       "      <th>Row Count</th>\n",
       "      <th>Initial Brake</th>\n",
       "      <th>Brake Duration</th>\n",
       "      <th>Throttle Ramp Initial</th>\n",
       "      <th>Throttle Ramp Time</th>\n",
       "      <th>Max Gs</th>\n",
       "      <th>Gear Shifts</th>\n",
       "      <th>Throttle Events</th>\n",
       "      <th>Brake Events</th>\n",
       "    </tr>\n",
       "  </thead>\n",
       "  <tbody>\n",
       "    <tr>\n",
       "      <th>0</th>\n",
       "      <td>PER</td>\n",
       "      <td>16</td>\n",
       "      <td>64</td>\n",
       "      <td>2.783</td>\n",
       "      <td>1.801</td>\n",
       "      <td>4.08</td>\n",
       "      <td>1.943</td>\n",
       "      <td>3.717724</td>\n",
       "      <td>3</td>\n",
       "      <td>2</td>\n",
       "      <td>1</td>\n",
       "    </tr>\n",
       "  </tbody>\n",
       "</table>\n",
       "</div>"
      ],
      "text/plain": [
       "  Driver  Turn  Row Count  Initial Brake  Brake Duration  \\\n",
       "0    PER    16         64          2.783           1.801   \n",
       "\n",
       "   Throttle Ramp Initial  Throttle Ramp Time    Max Gs  Gear Shifts  \\\n",
       "0                   4.08               1.943  3.717724            3   \n",
       "\n",
       "   Throttle Events  Brake Events  \n",
       "0                2             1  "
      ]
     },
     "execution_count": 17,
     "metadata": {},
     "output_type": "execute_result"
    }
   ],
   "source": [
    "perez_turn_dfs = [(turn, telemetry_cleaning.filter_corner_telemetry(perez_sector3_telemetry_features, corner_position_cleaned, turn, radius)) for turn in critical_turn]\n",
    "perez_eda_summary = f1_pandas_helpers.get_driver_eda_multiple_turns(perez, perez_turn_dfs, perez_initial_brake_timestamp, perez_max_brake_duration, perez_throttle_ramp_initial, perez_throttle_ramp_time)\n",
    "\n",
    "perez_eda_summary"
   ]
  },
  {
   "cell_type": "markdown",
   "id": "e8ecfd30",
   "metadata": {},
   "source": [
    "Q3 data for Carlos Sainz, Ferrari"
   ]
  },
  {
   "cell_type": "code",
   "execution_count": 18,
   "id": "42e9f037",
   "metadata": {},
   "outputs": [],
   "source": [
    "q1, q2, q3 = session.get_laps(sainz).split_qualifying_sessions()\n",
    "sainz_q3_telemetry = session.get_telemetry(q3)\n",
    "\n",
    "sector_1_start = str(f1_pandas_helpers.get_fastest_lap_details(q3)[0])\n",
    "sector_1_end = str(f1_pandas_helpers.get_fastest_lap_details(q3)[1])\n",
    "sector_2_end = str(f1_pandas_helpers.get_fastest_lap_details(q3)[2])\n",
    "sector_3_end = str(f1_pandas_helpers.get_fastest_lap_details(q3)[3])\n",
    "\n",
    "sainz_sector1_telemetry = f1_pandas_helpers.filter_timestamp_range(sainz_q3_telemetry, start=sector_1_start, end=sector_1_end)\n",
    "sainz_sector1_telemetry_cleaned = telemetry_cleaning.clean_driver_sector_telemetry(sainz_sector1_telemetry, sainz)\n",
    "\n",
    "sainz_sector2_telemetry = f1_pandas_helpers.filter_timestamp_range(sainz_q3_telemetry, start=sector_1_end, end=sector_2_end)\n",
    "sainz_sector2_telemetry_cleaned = telemetry_cleaning.clean_driver_sector_telemetry(sainz_sector2_telemetry, sainz)\n",
    "\n",
    "sainz_sector3_telemetry = f1_pandas_helpers.filter_timestamp_range(sainz_q3_telemetry, start=sector_2_end, end=sector_3_end)\n",
    "sainz_sector3_telemetry_cleaned = telemetry_cleaning.clean_driver_sector_telemetry(sainz_sector3_telemetry, sainz)\n",
    "sainz_sector3_telemetry_features = feature_engineering.TelemetryFeatures(sainz_sector3_telemetry_cleaned).acceleration().jerk().g_force().get_features_df()\n",
    "\n",
    "sainz_corner_telemetry = telemetry_cleaning.filter_corner_telemetry(sainz_sector3_telemetry_features, corner_position_cleaned, critical_turn[0], radius)\n",
    "\n",
    "sainz_time_converted_telemetry = feature_engineering.TelemetryFeatures(sainz_corner_telemetry).convert_sector_time_to_seconds().get_features_df()\n"
   ]
  },
  {
   "cell_type": "markdown",
   "id": "9a65820e",
   "metadata": {},
   "source": [
    "The following code blocks generate new descriptive statistical features to be used as inputs for the clustering model."
   ]
  },
  {
   "cell_type": "code",
   "execution_count": 19,
   "id": "a17dadb1",
   "metadata": {},
   "outputs": [],
   "source": [
    "sainz_brake_engage = (sainz_time_converted_telemetry['BrakesApplied'] == 1) & (sainz_time_converted_telemetry['BrakesApplied'].shift() == 0)\n",
    "sainz_initial_brake_timestamp = sainz_time_converted_telemetry.loc[sainz_brake_engage, 'SectorTime (s)'].min()\n",
    "sainz_brake_disengage = (sainz_time_converted_telemetry['BrakesApplied'] == 0) & (sainz_time_converted_telemetry['BrakesApplied'].shift() == 1)\n",
    "sainz_max_brake_duration = (sainz_time_converted_telemetry.loc[sainz_brake_disengage, 'SectorTime (s)'].min()) - sainz_initial_brake_timestamp\n",
    "\n",
    "sainz_throttle_reengage = (sainz_time_converted_telemetry['Throttle (%)'] > 0) & (sainz_time_converted_telemetry['Throttle (%)'].shift() == 0)\n",
    "sainz_throttle_ramp_initial = sainz_time_converted_telemetry.loc[sainz_throttle_reengage, 'SectorTime (s)'].min()\n",
    "sainz_throttle_max = (sainz_time_converted_telemetry['Throttle (%)'] >= 99) & (sainz_time_converted_telemetry['Throttle (%)'].shift() < 99)\n",
    "sainz_throttle_ramp_final = (sainz_time_converted_telemetry.loc[sainz_throttle_max, 'SectorTime (s)'].min())\n",
    "sainz_throttle_ramp_time = sainz_throttle_ramp_final - sainz_throttle_ramp_initial\n"
   ]
  },
  {
   "cell_type": "markdown",
   "id": "5e4cbed4",
   "metadata": {},
   "source": [
    "Descriptive Statistics - Carlos Sainz - The code below concatenates descriptive statistics for the driver at each turn in the critical_turn list into a single DataFrame."
   ]
  },
  {
   "cell_type": "code",
   "execution_count": 20,
   "id": "2613feb4",
   "metadata": {},
   "outputs": [
    {
     "data": {
      "text/html": [
       "<div>\n",
       "<style scoped>\n",
       "    .dataframe tbody tr th:only-of-type {\n",
       "        vertical-align: middle;\n",
       "    }\n",
       "\n",
       "    .dataframe tbody tr th {\n",
       "        vertical-align: top;\n",
       "    }\n",
       "\n",
       "    .dataframe thead th {\n",
       "        text-align: right;\n",
       "    }\n",
       "</style>\n",
       "<table border=\"1\" class=\"dataframe\">\n",
       "  <thead>\n",
       "    <tr style=\"text-align: right;\">\n",
       "      <th></th>\n",
       "      <th>Driver</th>\n",
       "      <th>Turn</th>\n",
       "      <th>Row Count</th>\n",
       "      <th>Initial Brake</th>\n",
       "      <th>Brake Duration</th>\n",
       "      <th>Throttle Ramp Initial</th>\n",
       "      <th>Throttle Ramp Time</th>\n",
       "      <th>Max Gs</th>\n",
       "      <th>Gear Shifts</th>\n",
       "      <th>Throttle Events</th>\n",
       "      <th>Brake Events</th>\n",
       "    </tr>\n",
       "  </thead>\n",
       "  <tbody>\n",
       "    <tr>\n",
       "      <th>0</th>\n",
       "      <td>SAI</td>\n",
       "      <td>16</td>\n",
       "      <td>64</td>\n",
       "      <td>2.76</td>\n",
       "      <td>1.839</td>\n",
       "      <td>4.616</td>\n",
       "      <td>1.143</td>\n",
       "      <td>3.540684</td>\n",
       "      <td>4</td>\n",
       "      <td>2</td>\n",
       "      <td>1</td>\n",
       "    </tr>\n",
       "  </tbody>\n",
       "</table>\n",
       "</div>"
      ],
      "text/plain": [
       "  Driver  Turn  Row Count  Initial Brake  Brake Duration  \\\n",
       "0    SAI    16         64           2.76           1.839   \n",
       "\n",
       "   Throttle Ramp Initial  Throttle Ramp Time    Max Gs  Gear Shifts  \\\n",
       "0                  4.616               1.143  3.540684            4   \n",
       "\n",
       "   Throttle Events  Brake Events  \n",
       "0                2             1  "
      ]
     },
     "execution_count": 20,
     "metadata": {},
     "output_type": "execute_result"
    }
   ],
   "source": [
    "sainz_turn_dfs = [(turn, telemetry_cleaning.filter_corner_telemetry(sainz_sector3_telemetry_features, corner_position_cleaned, turn, radius)) for turn in critical_turn]\n",
    "sainz_eda_summary = f1_pandas_helpers.get_driver_eda_multiple_turns(sainz, sainz_turn_dfs, sainz_initial_brake_timestamp, sainz_max_brake_duration, sainz_throttle_ramp_initial, sainz_throttle_ramp_time)\n",
    "\n",
    "sainz_eda_summary"
   ]
  },
  {
   "cell_type": "markdown",
   "id": "5d836600",
   "metadata": {},
   "source": [
    "Q2 data for Charles Leclerc, Ferrari"
   ]
  },
  {
   "cell_type": "code",
   "execution_count": 21,
   "id": "4cb92159",
   "metadata": {},
   "outputs": [],
   "source": [
    "q1, q2, q3 = session.get_laps(leclerc).split_qualifying_sessions()\n",
    "leclerc_q2_telemetry = session.get_telemetry(q2)\n",
    "\n",
    "sector_1_start = str(f1_pandas_helpers.get_fastest_lap_details(q2)[0])\n",
    "sector_1_end = str(f1_pandas_helpers.get_fastest_lap_details(q2)[1])\n",
    "sector_2_end = str(f1_pandas_helpers.get_fastest_lap_details(q2)[2])\n",
    "sector_3_end = str(f1_pandas_helpers.get_fastest_lap_details(q2)[3])\n",
    "\n",
    "leclerc_sector1_telemetry = f1_pandas_helpers.filter_timestamp_range(leclerc_q2_telemetry, start=sector_1_start, end=sector_1_end)\n",
    "leclerc_sector1_telemetry_cleaned = telemetry_cleaning.clean_driver_sector_telemetry(leclerc_sector1_telemetry, leclerc)\n",
    "\n",
    "leclerc_sector2_telemetry = f1_pandas_helpers.filter_timestamp_range(leclerc_q2_telemetry, start=sector_1_end, end=sector_2_end)\n",
    "leclerc_sector2_telemetry_cleaned = telemetry_cleaning.clean_driver_sector_telemetry(leclerc_sector2_telemetry, leclerc)\n",
    "\n",
    "leclerc_sector3_telemetry = f1_pandas_helpers.filter_timestamp_range(leclerc_q2_telemetry, start=sector_2_end, end=sector_3_end)\n",
    "leclerc_sector3_telemetry_cleaned = telemetry_cleaning.clean_driver_sector_telemetry(leclerc_sector3_telemetry, leclerc)\n",
    "leclerc_sector3_telemetry_features = feature_engineering.TelemetryFeatures(leclerc_sector3_telemetry_cleaned).acceleration().jerk().g_force().get_features_df()\n",
    "\n",
    "leclerc_corner_telemetry = telemetry_cleaning.filter_corner_telemetry(leclerc_sector3_telemetry_features, corner_position_cleaned, critical_turn[0], radius)\n",
    "\n",
    "leclerc_time_converted_telemetry = feature_engineering.TelemetryFeatures(leclerc_corner_telemetry).convert_sector_time_to_seconds().get_features_df()\n"
   ]
  },
  {
   "cell_type": "markdown",
   "id": "a93065e4",
   "metadata": {},
   "source": [
    "The following code blocks generate new descriptive statistical features to be used as inputs for the clustering model."
   ]
  },
  {
   "cell_type": "code",
   "execution_count": 22,
   "id": "81fd62b7",
   "metadata": {},
   "outputs": [],
   "source": [
    "leclerc_brake_engage = (leclerc_time_converted_telemetry['BrakesApplied'] == 1) & (leclerc_time_converted_telemetry['BrakesApplied'].shift() == 0)\n",
    "leclerc_initial_brake_timestamp = leclerc_time_converted_telemetry.loc[leclerc_brake_engage, 'SectorTime (s)'].min()\n",
    "leclerc_brake_disengage = (leclerc_time_converted_telemetry['BrakesApplied'] == 0) & (leclerc_time_converted_telemetry['BrakesApplied'].shift() == 1)\n",
    "leclerc_max_brake_duration = (leclerc_time_converted_telemetry.loc[leclerc_brake_disengage, 'SectorTime (s)'].min()) - leclerc_initial_brake_timestamp\n",
    "\n",
    "leclerc_throttle_reengage = (leclerc_time_converted_telemetry['Throttle (%)'] > 0) & (leclerc_time_converted_telemetry['Throttle (%)'].shift() == 0)\n",
    "leclerc_throttle_ramp_initial = leclerc_time_converted_telemetry.loc[leclerc_throttle_reengage, 'SectorTime (s)'].min()\n",
    "leclerc_throttle_max = (leclerc_time_converted_telemetry['Throttle (%)'] >= 99) & (leclerc_time_converted_telemetry['Throttle (%)'].shift() < 99)\n",
    "leclerc_throttle_ramp_final = (leclerc_time_converted_telemetry.loc[leclerc_throttle_max, 'SectorTime (s)'].min())\n",
    "leclerc_throttle_ramp_time = leclerc_throttle_ramp_final - leclerc_throttle_ramp_initial\n"
   ]
  },
  {
   "cell_type": "markdown",
   "id": "186538d6",
   "metadata": {},
   "source": [
    "Descriptive Statistics - Charles Leclerc - The code below concatenates descriptive statistics for the driver at each turn in the critical_turn list into a single DataFrame."
   ]
  },
  {
   "cell_type": "code",
   "execution_count": 23,
   "id": "873b8a40",
   "metadata": {},
   "outputs": [
    {
     "data": {
      "text/html": [
       "<div>\n",
       "<style scoped>\n",
       "    .dataframe tbody tr th:only-of-type {\n",
       "        vertical-align: middle;\n",
       "    }\n",
       "\n",
       "    .dataframe tbody tr th {\n",
       "        vertical-align: top;\n",
       "    }\n",
       "\n",
       "    .dataframe thead th {\n",
       "        text-align: right;\n",
       "    }\n",
       "</style>\n",
       "<table border=\"1\" class=\"dataframe\">\n",
       "  <thead>\n",
       "    <tr style=\"text-align: right;\">\n",
       "      <th></th>\n",
       "      <th>Driver</th>\n",
       "      <th>Turn</th>\n",
       "      <th>Row Count</th>\n",
       "      <th>Initial Brake</th>\n",
       "      <th>Brake Duration</th>\n",
       "      <th>Throttle Ramp Initial</th>\n",
       "      <th>Throttle Ramp Time</th>\n",
       "      <th>Max Gs</th>\n",
       "      <th>Gear Shifts</th>\n",
       "      <th>Throttle Events</th>\n",
       "      <th>Brake Events</th>\n",
       "    </tr>\n",
       "  </thead>\n",
       "  <tbody>\n",
       "    <tr>\n",
       "      <th>0</th>\n",
       "      <td>LEC</td>\n",
       "      <td>16</td>\n",
       "      <td>63</td>\n",
       "      <td>2.599</td>\n",
       "      <td>1.4</td>\n",
       "      <td>NaN</td>\n",
       "      <td>NaN</td>\n",
       "      <td>5.979823</td>\n",
       "      <td>5</td>\n",
       "      <td>1</td>\n",
       "      <td>1</td>\n",
       "    </tr>\n",
       "  </tbody>\n",
       "</table>\n",
       "</div>"
      ],
      "text/plain": [
       "  Driver  Turn  Row Count  Initial Brake  Brake Duration  \\\n",
       "0    LEC    16         63          2.599             1.4   \n",
       "\n",
       "   Throttle Ramp Initial  Throttle Ramp Time    Max Gs  Gear Shifts  \\\n",
       "0                    NaN                 NaN  5.979823            5   \n",
       "\n",
       "   Throttle Events  Brake Events  \n",
       "0                1             1  "
      ]
     },
     "execution_count": 23,
     "metadata": {},
     "output_type": "execute_result"
    }
   ],
   "source": [
    "leclerc_turn_dfs = [(turn, telemetry_cleaning.filter_corner_telemetry(leclerc_sector3_telemetry_features, corner_position_cleaned, turn, radius)) for turn in critical_turn]\n",
    "leclerc_eda_summary = f1_pandas_helpers.get_driver_eda_multiple_turns(leclerc, leclerc_turn_dfs, leclerc_initial_brake_timestamp, leclerc_max_brake_duration, leclerc_throttle_ramp_initial, leclerc_throttle_ramp_time)\n",
    "\n",
    "leclerc_eda_summary"
   ]
  },
  {
   "cell_type": "markdown",
   "id": "24a0c44f",
   "metadata": {},
   "source": [
    "Q3 data for Valtteri Bottas, Alfa Romeo"
   ]
  },
  {
   "cell_type": "code",
   "execution_count": 24,
   "id": "1551aed8",
   "metadata": {},
   "outputs": [],
   "source": [
    "q1, q2, q3 = session.get_laps(bottas).split_qualifying_sessions()\n",
    "bottas_q3_telemetry = session.get_telemetry(q3)\n",
    "\n",
    "sector_1_start = str(f1_pandas_helpers.get_fastest_lap_details(q3)[0])\n",
    "sector_1_end = str(f1_pandas_helpers.get_fastest_lap_details(q3)[1])\n",
    "sector_2_end = str(f1_pandas_helpers.get_fastest_lap_details(q3)[2])\n",
    "sector_3_end = str(f1_pandas_helpers.get_fastest_lap_details(q3)[3])\n",
    "\n",
    "bottas_sector1_telemetry = f1_pandas_helpers.filter_timestamp_range(bottas_q3_telemetry, start=sector_1_start, end=sector_1_end)\n",
    "bottas_sector1_telemetry_cleaned = telemetry_cleaning.clean_driver_sector_telemetry(bottas_sector1_telemetry, bottas)\n",
    "\n",
    "bottas_sector2_telemetry = f1_pandas_helpers.filter_timestamp_range(bottas_q3_telemetry, start=sector_1_end, end=sector_2_end)\n",
    "bottas_sector2_telemetry_cleaned = telemetry_cleaning.clean_driver_sector_telemetry(bottas_sector2_telemetry, bottas)\n",
    "\n",
    "bottas_sector3_telemetry = f1_pandas_helpers.filter_timestamp_range(bottas_q3_telemetry, start=sector_2_end, end=sector_3_end)\n",
    "bottas_sector3_telemetry_cleaned = telemetry_cleaning.clean_driver_sector_telemetry(bottas_sector3_telemetry, bottas)\n",
    "bottas_sector3_telemetry_features = feature_engineering.TelemetryFeatures(bottas_sector3_telemetry_cleaned).acceleration().jerk().g_force().get_features_df()\n",
    "\n",
    "bottas_corner_telemetry = telemetry_cleaning.filter_corner_telemetry(bottas_sector3_telemetry_features, corner_position_cleaned, critical_turn[0], radius)\n",
    "\n",
    "bottas_time_converted_telemetry = feature_engineering.TelemetryFeatures(bottas_corner_telemetry).convert_sector_time_to_seconds().get_features_df()"
   ]
  },
  {
   "cell_type": "markdown",
   "id": "4f70cc77",
   "metadata": {},
   "source": [
    "The following code blocks generate new descriptive statistical features to be used as inputs for the clustering model."
   ]
  },
  {
   "cell_type": "code",
   "execution_count": 25,
   "id": "05aa47e6",
   "metadata": {},
   "outputs": [],
   "source": [
    "bottas_brake_engage = (bottas_time_converted_telemetry['BrakesApplied'] == 1) & (bottas_time_converted_telemetry['BrakesApplied'].shift() == 0)\n",
    "bottas_initial_brake_timestamp = bottas_time_converted_telemetry.loc[bottas_brake_engage, 'SectorTime (s)'].min()\n",
    "bottas_brake_disengage = (bottas_time_converted_telemetry['BrakesApplied'] == 0) & (bottas_time_converted_telemetry['BrakesApplied'].shift() == 1)\n",
    "bottas_max_brake_duration = (bottas_time_converted_telemetry.loc[bottas_brake_disengage, 'SectorTime (s)'].min()) - bottas_initial_brake_timestamp\n",
    "\n",
    "bottas_throttle_reengage = (bottas_time_converted_telemetry['Throttle (%)'] > 0) & (bottas_time_converted_telemetry['Throttle (%)'].shift() == 0)\n",
    "bottas_throttle_ramp_initial = bottas_time_converted_telemetry.loc[bottas_throttle_reengage, 'SectorTime (s)'].min()\n",
    "bottas_throttle_max = (bottas_time_converted_telemetry['Throttle (%)'] >= 99) & (bottas_time_converted_telemetry['Throttle (%)'].shift() < 99)\n",
    "bottas_throttle_ramp_final = (bottas_time_converted_telemetry.loc[bottas_throttle_max, 'SectorTime (s)'].min())\n",
    "bottas_throttle_ramp_time = bottas_throttle_ramp_final - bottas_throttle_ramp_initial\n"
   ]
  },
  {
   "cell_type": "markdown",
   "id": "04846182",
   "metadata": {},
   "source": [
    "Descriptive Statistics - Valtteri Bottas - The code below concatenates descriptive statistics for the driver at each turn in the critical_turn list into a single DataFrame."
   ]
  },
  {
   "cell_type": "code",
   "execution_count": 26,
   "id": "bd1bda22",
   "metadata": {},
   "outputs": [
    {
     "data": {
      "text/html": [
       "<div>\n",
       "<style scoped>\n",
       "    .dataframe tbody tr th:only-of-type {\n",
       "        vertical-align: middle;\n",
       "    }\n",
       "\n",
       "    .dataframe tbody tr th {\n",
       "        vertical-align: top;\n",
       "    }\n",
       "\n",
       "    .dataframe thead th {\n",
       "        text-align: right;\n",
       "    }\n",
       "</style>\n",
       "<table border=\"1\" class=\"dataframe\">\n",
       "  <thead>\n",
       "    <tr style=\"text-align: right;\">\n",
       "      <th></th>\n",
       "      <th>Driver</th>\n",
       "      <th>Turn</th>\n",
       "      <th>Row Count</th>\n",
       "      <th>Initial Brake</th>\n",
       "      <th>Brake Duration</th>\n",
       "      <th>Throttle Ramp Initial</th>\n",
       "      <th>Throttle Ramp Time</th>\n",
       "      <th>Max Gs</th>\n",
       "      <th>Gear Shifts</th>\n",
       "      <th>Throttle Events</th>\n",
       "      <th>Brake Events</th>\n",
       "    </tr>\n",
       "  </thead>\n",
       "  <tbody>\n",
       "    <tr>\n",
       "      <th>0</th>\n",
       "      <td>BOT</td>\n",
       "      <td>16</td>\n",
       "      <td>65</td>\n",
       "      <td>2.804</td>\n",
       "      <td>1.76</td>\n",
       "      <td>4.764</td>\n",
       "      <td>1.16</td>\n",
       "      <td>4.868446</td>\n",
       "      <td>4</td>\n",
       "      <td>2</td>\n",
       "      <td>1</td>\n",
       "    </tr>\n",
       "  </tbody>\n",
       "</table>\n",
       "</div>"
      ],
      "text/plain": [
       "  Driver  Turn  Row Count  Initial Brake  Brake Duration  \\\n",
       "0    BOT    16         65          2.804            1.76   \n",
       "\n",
       "   Throttle Ramp Initial  Throttle Ramp Time    Max Gs  Gear Shifts  \\\n",
       "0                  4.764                1.16  4.868446            4   \n",
       "\n",
       "   Throttle Events  Brake Events  \n",
       "0                2             1  "
      ]
     },
     "execution_count": 26,
     "metadata": {},
     "output_type": "execute_result"
    }
   ],
   "source": [
    "bottas_turn_dfs = [(turn, telemetry_cleaning.filter_corner_telemetry(bottas_sector3_telemetry_features, corner_position_cleaned, turn, radius)) for turn in critical_turn]\n",
    "bottas_eda_summary = f1_pandas_helpers.get_driver_eda_multiple_turns(bottas, bottas_turn_dfs, bottas_initial_brake_timestamp, bottas_max_brake_duration, bottas_throttle_ramp_initial, bottas_throttle_ramp_time)\n",
    "\n",
    "bottas_eda_summary"
   ]
  },
  {
   "cell_type": "markdown",
   "id": "83a19945",
   "metadata": {},
   "source": [
    "Q3 data for Fernando Alonso, Aston Martin"
   ]
  },
  {
   "cell_type": "code",
   "execution_count": 27,
   "id": "4fef75ad",
   "metadata": {},
   "outputs": [],
   "source": [
    "q1, q2, q3 = session.get_laps(alonso).split_qualifying_sessions()\n",
    "alonso_q3_telemetry = session.get_telemetry(q3)\n",
    "\n",
    "sector_1_start = str(f1_pandas_helpers.get_fastest_lap_details(q3)[0])\n",
    "sector_1_end = str(f1_pandas_helpers.get_fastest_lap_details(q3)[1])\n",
    "sector_2_end = str(f1_pandas_helpers.get_fastest_lap_details(q3)[2])\n",
    "sector_3_end = str(f1_pandas_helpers.get_fastest_lap_details(q3)[3])\n",
    "\n",
    "alonso_sector1_telemetry = f1_pandas_helpers.filter_timestamp_range(alonso_q3_telemetry, start=sector_1_start, end=sector_1_end)\n",
    "alonso_sector1_telemetry_cleaned = telemetry_cleaning.clean_driver_sector_telemetry(alonso_sector1_telemetry, alonso)\n",
    "\n",
    "alonso_sector2_telemetry = f1_pandas_helpers.filter_timestamp_range(alonso_q3_telemetry, start=sector_1_end, end=sector_2_end)\n",
    "alonso_sector2_telemetry_cleaned = telemetry_cleaning.clean_driver_sector_telemetry(alonso_sector2_telemetry, alonso)\n",
    "\n",
    "alonso_sector3_telemetry = f1_pandas_helpers.filter_timestamp_range(alonso_q3_telemetry, start=sector_2_end, end=sector_3_end)\n",
    "alonso_sector3_telemetry_cleaned = telemetry_cleaning.clean_driver_sector_telemetry(alonso_sector3_telemetry, alonso)\n",
    "alonso_sector3_telemetry_features = feature_engineering.TelemetryFeatures(alonso_sector3_telemetry_cleaned).acceleration().jerk().g_force().get_features_df()\n",
    "\n",
    "alonso_corner_telemetry = telemetry_cleaning.filter_corner_telemetry(alonso_sector3_telemetry_features, corner_position_cleaned, critical_turn[0], radius)\n",
    "\n",
    "alonso_time_converted_telemetry = feature_engineering.TelemetryFeatures(alonso_corner_telemetry).convert_sector_time_to_seconds().get_features_df()\n"
   ]
  },
  {
   "cell_type": "markdown",
   "id": "4529fa2c",
   "metadata": {},
   "source": [
    "The following code blocks generate new descriptive statistical features to be used as inputs for the clustering model."
   ]
  },
  {
   "cell_type": "code",
   "execution_count": 28,
   "id": "89bfe986",
   "metadata": {},
   "outputs": [],
   "source": [
    "alonso_brake_engage = (alonso_time_converted_telemetry['BrakesApplied'] == 1) & (alonso_time_converted_telemetry['BrakesApplied'].shift() == 0)\n",
    "alonso_initial_brake_timestamp = alonso_time_converted_telemetry.loc[alonso_brake_engage, 'SectorTime (s)'].min()\n",
    "alonso_brake_disengage = (alonso_time_converted_telemetry['BrakesApplied'] == 0) & (alonso_time_converted_telemetry['BrakesApplied'].shift() == 1)\n",
    "alonso_max_brake_duration = (alonso_time_converted_telemetry.loc[alonso_brake_disengage, 'SectorTime (s)'].min()) - alonso_initial_brake_timestamp\n",
    "\n",
    "alonso_throttle_reengage = (alonso_time_converted_telemetry['Throttle (%)'] > 0) & (alonso_time_converted_telemetry['Throttle (%)'].shift() == 0)\n",
    "alonso_throttle_ramp_initial = alonso_time_converted_telemetry.loc[alonso_throttle_reengage, 'SectorTime (s)'].min()\n",
    "alonso_throttle_max = (alonso_time_converted_telemetry['Throttle (%)'] >= 99) & (alonso_time_converted_telemetry['Throttle (%)'].shift() < 99)\n",
    "alonso_throttle_ramp_final = (alonso_time_converted_telemetry.loc[alonso_throttle_max, 'SectorTime (s)'].min())\n",
    "alonso_throttle_ramp_time = alonso_throttle_ramp_final - alonso_throttle_ramp_initial\n"
   ]
  },
  {
   "cell_type": "markdown",
   "id": "dae5425a",
   "metadata": {},
   "source": [
    "Descriptive Statistics - Fernando Alonso - The code below concatenates descriptive statistics for the driver at each turn in the critical_turn list into a single DataFrame."
   ]
  },
  {
   "cell_type": "code",
   "execution_count": 29,
   "id": "d63dca0c",
   "metadata": {},
   "outputs": [
    {
     "data": {
      "text/html": [
       "<div>\n",
       "<style scoped>\n",
       "    .dataframe tbody tr th:only-of-type {\n",
       "        vertical-align: middle;\n",
       "    }\n",
       "\n",
       "    .dataframe tbody tr th {\n",
       "        vertical-align: top;\n",
       "    }\n",
       "\n",
       "    .dataframe thead th {\n",
       "        text-align: right;\n",
       "    }\n",
       "</style>\n",
       "<table border=\"1\" class=\"dataframe\">\n",
       "  <thead>\n",
       "    <tr style=\"text-align: right;\">\n",
       "      <th></th>\n",
       "      <th>Driver</th>\n",
       "      <th>Turn</th>\n",
       "      <th>Row Count</th>\n",
       "      <th>Initial Brake</th>\n",
       "      <th>Brake Duration</th>\n",
       "      <th>Throttle Ramp Initial</th>\n",
       "      <th>Throttle Ramp Time</th>\n",
       "      <th>Max Gs</th>\n",
       "      <th>Gear Shifts</th>\n",
       "      <th>Throttle Events</th>\n",
       "      <th>Brake Events</th>\n",
       "    </tr>\n",
       "  </thead>\n",
       "  <tbody>\n",
       "    <tr>\n",
       "      <th>0</th>\n",
       "      <td>ALO</td>\n",
       "      <td>16</td>\n",
       "      <td>63</td>\n",
       "      <td>2.721</td>\n",
       "      <td>1.479</td>\n",
       "      <td>4.04</td>\n",
       "      <td>1.84</td>\n",
       "      <td>3.806235</td>\n",
       "      <td>6</td>\n",
       "      <td>3</td>\n",
       "      <td>1</td>\n",
       "    </tr>\n",
       "  </tbody>\n",
       "</table>\n",
       "</div>"
      ],
      "text/plain": [
       "  Driver  Turn  Row Count  Initial Brake  Brake Duration  \\\n",
       "0    ALO    16         63          2.721           1.479   \n",
       "\n",
       "   Throttle Ramp Initial  Throttle Ramp Time    Max Gs  Gear Shifts  \\\n",
       "0                   4.04                1.84  3.806235            6   \n",
       "\n",
       "   Throttle Events  Brake Events  \n",
       "0                3             1  "
      ]
     },
     "execution_count": 29,
     "metadata": {},
     "output_type": "execute_result"
    }
   ],
   "source": [
    "alonso_turn_dfs = [(turn, telemetry_cleaning.filter_corner_telemetry(alonso_sector3_telemetry_features, corner_position_cleaned, turn, radius)) for turn in critical_turn]\n",
    "alonso_eda_summary = f1_pandas_helpers.get_driver_eda_multiple_turns(alonso, alonso_turn_dfs, alonso_initial_brake_timestamp, alonso_max_brake_duration, alonso_throttle_ramp_initial, alonso_throttle_ramp_time)\n",
    "\n",
    "alonso_eda_summary"
   ]
  },
  {
   "cell_type": "markdown",
   "id": "6dd5b6c3",
   "metadata": {},
   "source": [
    "Q2 data for Lance Stroll, Aston Martin"
   ]
  },
  {
   "cell_type": "code",
   "execution_count": 30,
   "id": "a93b9cc4",
   "metadata": {},
   "outputs": [],
   "source": [
    "q1, q2, q3 = session.get_laps(stroll).split_qualifying_sessions()\n",
    "stroll_q2_telemetry = session.get_telemetry(q2)\n",
    "\n",
    "sector_1_start = str(f1_pandas_helpers.get_fastest_lap_details(q2)[0])\n",
    "sector_1_end = str(f1_pandas_helpers.get_fastest_lap_details(q2)[1])\n",
    "sector_2_end = str(f1_pandas_helpers.get_fastest_lap_details(q2)[2])\n",
    "sector_3_end = str(f1_pandas_helpers.get_fastest_lap_details(q2)[3])\n",
    "\n",
    "stroll_sector1_telemetry = f1_pandas_helpers.filter_timestamp_range(stroll_q2_telemetry, start=sector_1_start, end=sector_1_end)\n",
    "stroll_sector1_telemetry_cleaned = telemetry_cleaning.clean_driver_sector_telemetry(stroll_sector1_telemetry, stroll)\n",
    "\n",
    "stroll_sector2_telemetry = f1_pandas_helpers.filter_timestamp_range(stroll_q2_telemetry, start=sector_1_end, end=sector_2_end)\n",
    "stroll_sector2_telemetry_cleaned = telemetry_cleaning.clean_driver_sector_telemetry(stroll_sector2_telemetry, stroll)\n",
    "\n",
    "stroll_sector3_telemetry = f1_pandas_helpers.filter_timestamp_range(stroll_q2_telemetry, start=sector_2_end, end=sector_3_end)\n",
    "stroll_sector3_telemetry_cleaned = telemetry_cleaning.clean_driver_sector_telemetry(stroll_sector3_telemetry, stroll)\n",
    "stroll_sector3_telemetry_features = feature_engineering.TelemetryFeatures(stroll_sector3_telemetry_cleaned).acceleration().jerk().g_force().get_features_df()\n",
    "\n",
    "stroll_corner_telemetry = telemetry_cleaning.filter_corner_telemetry(stroll_sector3_telemetry_features, corner_position_cleaned, critical_turn[0], radius)\n",
    "\n",
    "stroll_time_converted_telemetry = feature_engineering.TelemetryFeatures(stroll_corner_telemetry).convert_sector_time_to_seconds().get_features_df()\n"
   ]
  },
  {
   "cell_type": "markdown",
   "id": "f62cf90a",
   "metadata": {},
   "source": [
    "The following code blocks generate new descriptive statistical features to be used as inputs for the clustering model."
   ]
  },
  {
   "cell_type": "code",
   "execution_count": 31,
   "id": "82fe61f1",
   "metadata": {},
   "outputs": [],
   "source": [
    "stroll_brake_engage = (stroll_time_converted_telemetry['BrakesApplied'] == 1) & (stroll_time_converted_telemetry['BrakesApplied'].shift() == 0)\n",
    "stroll_initial_brake_timestamp = stroll_time_converted_telemetry.loc[stroll_brake_engage, 'SectorTime (s)'].min()\n",
    "stroll_brake_disengage = (stroll_time_converted_telemetry['BrakesApplied'] == 0) & (stroll_time_converted_telemetry['BrakesApplied'].shift() == 1)\n",
    "stroll_max_brake_duration = (stroll_time_converted_telemetry.loc[stroll_brake_disengage, 'SectorTime (s)'].min()) - stroll_initial_brake_timestamp\n",
    "\n",
    "stroll_throttle_reengage = (stroll_time_converted_telemetry['Throttle (%)'] > 0) & (stroll_time_converted_telemetry['Throttle (%)'].shift() == 0)\n",
    "stroll_throttle_ramp_initial = stroll_time_converted_telemetry.loc[stroll_throttle_reengage, 'SectorTime (s)'].min()\n",
    "stroll_throttle_max = (stroll_time_converted_telemetry['Throttle (%)'] >= 99) & (stroll_time_converted_telemetry['Throttle (%)'].shift() < 99)\n",
    "stroll_throttle_ramp_final = (stroll_time_converted_telemetry.loc[stroll_throttle_max, 'SectorTime (s)'].min())\n",
    "stroll_throttle_ramp_time = stroll_throttle_ramp_final - stroll_throttle_ramp_initial\n"
   ]
  },
  {
   "cell_type": "markdown",
   "id": "bdeb83c1",
   "metadata": {},
   "source": [
    "Descriptive Statistics - Lance Stroll - The code below concatenates descriptive statistics for the driver at each turn in the critical_turn list into a single DataFrame."
   ]
  },
  {
   "cell_type": "code",
   "execution_count": 32,
   "id": "97c9ae6a",
   "metadata": {},
   "outputs": [
    {
     "data": {
      "text/html": [
       "<div>\n",
       "<style scoped>\n",
       "    .dataframe tbody tr th:only-of-type {\n",
       "        vertical-align: middle;\n",
       "    }\n",
       "\n",
       "    .dataframe tbody tr th {\n",
       "        vertical-align: top;\n",
       "    }\n",
       "\n",
       "    .dataframe thead th {\n",
       "        text-align: right;\n",
       "    }\n",
       "</style>\n",
       "<table border=\"1\" class=\"dataframe\">\n",
       "  <thead>\n",
       "    <tr style=\"text-align: right;\">\n",
       "      <th></th>\n",
       "      <th>Driver</th>\n",
       "      <th>Turn</th>\n",
       "      <th>Row Count</th>\n",
       "      <th>Initial Brake</th>\n",
       "      <th>Brake Duration</th>\n",
       "      <th>Throttle Ramp Initial</th>\n",
       "      <th>Throttle Ramp Time</th>\n",
       "      <th>Max Gs</th>\n",
       "      <th>Gear Shifts</th>\n",
       "      <th>Throttle Events</th>\n",
       "      <th>Brake Events</th>\n",
       "    </tr>\n",
       "  </thead>\n",
       "  <tbody>\n",
       "    <tr>\n",
       "      <th>0</th>\n",
       "      <td>STR</td>\n",
       "      <td>16</td>\n",
       "      <td>61</td>\n",
       "      <td>2.8</td>\n",
       "      <td>1.721</td>\n",
       "      <td>3.961</td>\n",
       "      <td>1.84</td>\n",
       "      <td>5.355066</td>\n",
       "      <td>4</td>\n",
       "      <td>3</td>\n",
       "      <td>1</td>\n",
       "    </tr>\n",
       "  </tbody>\n",
       "</table>\n",
       "</div>"
      ],
      "text/plain": [
       "  Driver  Turn  Row Count  Initial Brake  Brake Duration  \\\n",
       "0    STR    16         61            2.8           1.721   \n",
       "\n",
       "   Throttle Ramp Initial  Throttle Ramp Time    Max Gs  Gear Shifts  \\\n",
       "0                  3.961                1.84  5.355066            4   \n",
       "\n",
       "   Throttle Events  Brake Events  \n",
       "0                3             1  "
      ]
     },
     "execution_count": 32,
     "metadata": {},
     "output_type": "execute_result"
    }
   ],
   "source": [
    "stroll_turn_dfs = [(turn, telemetry_cleaning.filter_corner_telemetry(stroll_sector3_telemetry_features, corner_position_cleaned, turn, radius)) for turn in critical_turn]\n",
    "stroll_eda_summary = f1_pandas_helpers.get_driver_eda_multiple_turns(stroll, stroll_turn_dfs, stroll_initial_brake_timestamp, stroll_max_brake_duration, stroll_throttle_ramp_initial, stroll_throttle_ramp_time)\n",
    "\n",
    "stroll_eda_summary"
   ]
  },
  {
   "cell_type": "markdown",
   "id": "e37f4964",
   "metadata": {},
   "source": [
    "Q3 data for Pierre Gasly, Alpine"
   ]
  },
  {
   "cell_type": "code",
   "execution_count": 33,
   "id": "8fab997d",
   "metadata": {},
   "outputs": [],
   "source": [
    "q1, q2, q3 = session.get_laps(gasly).split_qualifying_sessions()\n",
    "gasly_q3_telemetry = session.get_telemetry(q3)\n",
    "\n",
    "sector_1_start = str(f1_pandas_helpers.get_fastest_lap_details(q3)[0])\n",
    "sector_1_end = str(f1_pandas_helpers.get_fastest_lap_details(q3)[1])\n",
    "sector_2_end = str(f1_pandas_helpers.get_fastest_lap_details(q3)[2])\n",
    "sector_3_end = str(f1_pandas_helpers.get_fastest_lap_details(q3)[3])\n",
    "\n",
    "gasly_sector1_telemetry = f1_pandas_helpers.filter_timestamp_range(gasly_q3_telemetry, start=sector_1_start, end=sector_1_end)\n",
    "gasly_sector1_telemetry_cleaned = telemetry_cleaning.clean_driver_sector_telemetry(gasly_sector1_telemetry, gasly)\n",
    "\n",
    "gasly_sector2_telemetry = f1_pandas_helpers.filter_timestamp_range(gasly_q3_telemetry, start=sector_1_end, end=sector_2_end)\n",
    "gasly_sector2_telemetry_cleaned = telemetry_cleaning.clean_driver_sector_telemetry(gasly_sector2_telemetry, gasly)\n",
    "\n",
    "gasly_sector3_telemetry = f1_pandas_helpers.filter_timestamp_range(gasly_q3_telemetry, start=sector_2_end, end=sector_3_end)\n",
    "gasly_sector3_telemetry_cleaned = telemetry_cleaning.clean_driver_sector_telemetry(gasly_sector3_telemetry, gasly)\n",
    "gasly_sector3_telemetry_features = feature_engineering.TelemetryFeatures(gasly_sector3_telemetry_cleaned).acceleration().jerk().g_force().get_features_df()\n",
    "\n",
    "gasly_corner_telemetry = telemetry_cleaning.filter_corner_telemetry(gasly_sector3_telemetry_features, corner_position_cleaned, critical_turn[0], radius)\n",
    "\n",
    "gasly_time_converted_telemetry = feature_engineering.TelemetryFeatures(gasly_corner_telemetry).convert_sector_time_to_seconds().get_features_df()\n",
    "\n"
   ]
  },
  {
   "cell_type": "markdown",
   "id": "bb092b4a",
   "metadata": {},
   "source": [
    "The following code blocks generate new descriptive statistical features to be used as inputs for the clustering model."
   ]
  },
  {
   "cell_type": "code",
   "execution_count": 34,
   "id": "12b99e31",
   "metadata": {},
   "outputs": [],
   "source": [
    "gasly_brake_engage = (gasly_time_converted_telemetry['BrakesApplied'] == 1) & (gasly_time_converted_telemetry['BrakesApplied'].shift() == 0)\n",
    "gasly_initial_brake_timestamp = gasly_time_converted_telemetry.loc[gasly_brake_engage, 'SectorTime (s)'].min()\n",
    "gasly_brake_disengage = (gasly_time_converted_telemetry['BrakesApplied'] == 0) & (gasly_time_converted_telemetry['BrakesApplied'].shift() == 1)\n",
    "gasly_max_brake_duration = (gasly_time_converted_telemetry.loc[gasly_brake_disengage, 'SectorTime (s)'].min()) - gasly_initial_brake_timestamp\n",
    "\n",
    "gasly_throttle_reengage = (gasly_time_converted_telemetry['Throttle (%)'] > 0) & (gasly_time_converted_telemetry['Throttle (%)'].shift() == 0)\n",
    "gasly_throttle_ramp_initial = gasly_time_converted_telemetry.loc[gasly_throttle_reengage, 'SectorTime (s)'].min()\n",
    "gasly_throttle_max = (gasly_time_converted_telemetry['Throttle (%)'] >= 99) & (gasly_time_converted_telemetry['Throttle (%)'].shift() < 99)\n",
    "gasly_throttle_ramp_final = (gasly_time_converted_telemetry.loc[gasly_throttle_max, 'SectorTime (s)'].min())\n",
    "gasly_throttle_ramp_time = gasly_throttle_ramp_final - gasly_throttle_ramp_initial"
   ]
  },
  {
   "cell_type": "markdown",
   "id": "0cf663f5",
   "metadata": {},
   "source": [
    "Descriptive Statistics - Pierre Gasly - The code below concatenates descriptive statistics for the driver at each turn in the critical_turn list into a single DataFrame."
   ]
  },
  {
   "cell_type": "code",
   "execution_count": 35,
   "id": "f513938e",
   "metadata": {},
   "outputs": [
    {
     "data": {
      "text/html": [
       "<div>\n",
       "<style scoped>\n",
       "    .dataframe tbody tr th:only-of-type {\n",
       "        vertical-align: middle;\n",
       "    }\n",
       "\n",
       "    .dataframe tbody tr th {\n",
       "        vertical-align: top;\n",
       "    }\n",
       "\n",
       "    .dataframe thead th {\n",
       "        text-align: right;\n",
       "    }\n",
       "</style>\n",
       "<table border=\"1\" class=\"dataframe\">\n",
       "  <thead>\n",
       "    <tr style=\"text-align: right;\">\n",
       "      <th></th>\n",
       "      <th>Driver</th>\n",
       "      <th>Turn</th>\n",
       "      <th>Row Count</th>\n",
       "      <th>Initial Brake</th>\n",
       "      <th>Brake Duration</th>\n",
       "      <th>Throttle Ramp Initial</th>\n",
       "      <th>Throttle Ramp Time</th>\n",
       "      <th>Max Gs</th>\n",
       "      <th>Gear Shifts</th>\n",
       "      <th>Throttle Events</th>\n",
       "      <th>Brake Events</th>\n",
       "    </tr>\n",
       "  </thead>\n",
       "  <tbody>\n",
       "    <tr>\n",
       "      <th>0</th>\n",
       "      <td>GAS</td>\n",
       "      <td>16</td>\n",
       "      <td>66</td>\n",
       "      <td>3.043</td>\n",
       "      <td>1.16</td>\n",
       "      <td>4.539</td>\n",
       "      <td>1.623</td>\n",
       "      <td>4.956962</td>\n",
       "      <td>5</td>\n",
       "      <td>2</td>\n",
       "      <td>1</td>\n",
       "    </tr>\n",
       "  </tbody>\n",
       "</table>\n",
       "</div>"
      ],
      "text/plain": [
       "  Driver  Turn  Row Count  Initial Brake  Brake Duration  \\\n",
       "0    GAS    16         66          3.043            1.16   \n",
       "\n",
       "   Throttle Ramp Initial  Throttle Ramp Time    Max Gs  Gear Shifts  \\\n",
       "0                  4.539               1.623  4.956962            5   \n",
       "\n",
       "   Throttle Events  Brake Events  \n",
       "0                2             1  "
      ]
     },
     "execution_count": 35,
     "metadata": {},
     "output_type": "execute_result"
    }
   ],
   "source": [
    "gasly_turn_dfs = [(turn, telemetry_cleaning.filter_corner_telemetry(gasly_sector3_telemetry_features, corner_position_cleaned, turn, radius)) for turn in critical_turn]\n",
    "gasly_eda_summary = f1_pandas_helpers.get_driver_eda_multiple_turns(gasly, gasly_turn_dfs, gasly_initial_brake_timestamp, gasly_max_brake_duration, gasly_throttle_ramp_initial, gasly_throttle_ramp_time)\n",
    "\n",
    "gasly_eda_summary"
   ]
  },
  {
   "cell_type": "markdown",
   "id": "294ab1ca",
   "metadata": {},
   "source": [
    "Q3 data for Nico Hulkenberg, Haas"
   ]
  },
  {
   "cell_type": "code",
   "execution_count": 36,
   "id": "a39ad74a",
   "metadata": {},
   "outputs": [],
   "source": [
    "q1, q2, q3 = session.get_laps(hulkenberg).split_qualifying_sessions()\n",
    "hulkenberg_q3_telemetry = session.get_telemetry(q3)\n",
    "\n",
    "sector_1_start = str(f1_pandas_helpers.get_fastest_lap_details(q3)[0])\n",
    "sector_1_end = str(f1_pandas_helpers.get_fastest_lap_details(q3)[1])\n",
    "sector_2_end = str(f1_pandas_helpers.get_fastest_lap_details(q3)[2])\n",
    "sector_3_end = str(f1_pandas_helpers.get_fastest_lap_details(q3)[3])\n",
    "\n",
    "hulkenberg_sector1_telemetry = f1_pandas_helpers.filter_timestamp_range(hulkenberg_q3_telemetry, start=sector_1_start, end=sector_1_end)\n",
    "hulkenberg_sector1_telemetry_cleaned = telemetry_cleaning.clean_driver_sector_telemetry(hulkenberg_sector1_telemetry, hulkenberg)\n",
    "\n",
    "hulkenberg_sector2_telemetry = f1_pandas_helpers.filter_timestamp_range(hulkenberg_q3_telemetry, start=sector_1_end, end=sector_2_end)\n",
    "hulkenberg_sector2_telemetry_cleaned = telemetry_cleaning.clean_driver_sector_telemetry(hulkenberg_sector2_telemetry, hulkenberg)\n",
    "\n",
    "hulkenberg_sector3_telemetry = f1_pandas_helpers.filter_timestamp_range(hulkenberg_q3_telemetry, start=sector_2_end, end=sector_3_end)\n",
    "hulkenberg_sector3_telemetry_cleaned = telemetry_cleaning.clean_driver_sector_telemetry(hulkenberg_sector3_telemetry, hulkenberg)\n",
    "hulkenberg_sector3_telemetry_features = feature_engineering.TelemetryFeatures(hulkenberg_sector3_telemetry_cleaned).acceleration().jerk().g_force().get_features_df()\n",
    "\n",
    "hulkenberg_corner_telemetry = telemetry_cleaning.filter_corner_telemetry(hulkenberg_sector3_telemetry_features, corner_position_cleaned, critical_turn[0], radius)\n",
    "\n",
    "hulkenberg_time_converted_telemetry = feature_engineering.TelemetryFeatures(hulkenberg_corner_telemetry).convert_sector_time_to_seconds().get_features_df()\n"
   ]
  },
  {
   "cell_type": "markdown",
   "id": "10fa4634",
   "metadata": {},
   "source": [
    "The following code blocks generate new descriptive statistical features to be used as inputs for the clustering model."
   ]
  },
  {
   "cell_type": "code",
   "execution_count": 37,
   "id": "1b7c4530",
   "metadata": {},
   "outputs": [],
   "source": [
    "hulkenberg_brake_engage = (hulkenberg_time_converted_telemetry['BrakesApplied'] == 1) & (hulkenberg_time_converted_telemetry['BrakesApplied'].shift() == 0)\n",
    "hulkenberg_initial_brake_timestamp = hulkenberg_time_converted_telemetry.loc[hulkenberg_brake_engage, 'SectorTime (s)'].min()\n",
    "hulkenberg_brake_disengage = (hulkenberg_time_converted_telemetry['BrakesApplied'] == 0) & (hulkenberg_time_converted_telemetry['BrakesApplied'].shift() == 1)\n",
    "hulkenberg_max_brake_duration = (hulkenberg_time_converted_telemetry.loc[hulkenberg_brake_disengage, 'SectorTime (s)'].min()) - hulkenberg_initial_brake_timestamp\n",
    "\n",
    "hulkenberg_throttle_reengage = (hulkenberg_time_converted_telemetry['Throttle (%)'] > 0) & (hulkenberg_time_converted_telemetry['Throttle (%)'].shift() == 0)\n",
    "hulkenberg_throttle_ramp_initial = hulkenberg_time_converted_telemetry.loc[hulkenberg_throttle_reengage, 'SectorTime (s)'].min()\n",
    "hulkenberg_throttle_max = (hulkenberg_time_converted_telemetry['Throttle (%)'] >= 99) & (hulkenberg_time_converted_telemetry['Throttle (%)'].shift() < 99)\n",
    "hulkenberg_throttle_ramp_final = (hulkenberg_time_converted_telemetry.loc[hulkenberg_throttle_max, 'SectorTime (s)'].min())\n",
    "hulkenberg_throttle_ramp_time = hulkenberg_throttle_ramp_final - hulkenberg_throttle_ramp_initial"
   ]
  },
  {
   "cell_type": "markdown",
   "id": "d1808692",
   "metadata": {},
   "source": [
    "Descriptive Statistics - Nico Hulkenberg - The code below concatenates descriptive statistics for the driver at each turn in the critical_turn list into a single DataFrame."
   ]
  },
  {
   "cell_type": "code",
   "execution_count": 38,
   "id": "a444cc45",
   "metadata": {},
   "outputs": [
    {
     "data": {
      "text/html": [
       "<div>\n",
       "<style scoped>\n",
       "    .dataframe tbody tr th:only-of-type {\n",
       "        vertical-align: middle;\n",
       "    }\n",
       "\n",
       "    .dataframe tbody tr th {\n",
       "        vertical-align: top;\n",
       "    }\n",
       "\n",
       "    .dataframe thead th {\n",
       "        text-align: right;\n",
       "    }\n",
       "</style>\n",
       "<table border=\"1\" class=\"dataframe\">\n",
       "  <thead>\n",
       "    <tr style=\"text-align: right;\">\n",
       "      <th></th>\n",
       "      <th>Driver</th>\n",
       "      <th>Turn</th>\n",
       "      <th>Row Count</th>\n",
       "      <th>Initial Brake</th>\n",
       "      <th>Brake Duration</th>\n",
       "      <th>Throttle Ramp Initial</th>\n",
       "      <th>Throttle Ramp Time</th>\n",
       "      <th>Max Gs</th>\n",
       "      <th>Gear Shifts</th>\n",
       "      <th>Throttle Events</th>\n",
       "      <th>Brake Events</th>\n",
       "    </tr>\n",
       "  </thead>\n",
       "  <tbody>\n",
       "    <tr>\n",
       "      <th>0</th>\n",
       "      <td>HUL</td>\n",
       "      <td>16</td>\n",
       "      <td>67</td>\n",
       "      <td>2.88</td>\n",
       "      <td>1.521</td>\n",
       "      <td>4.881</td>\n",
       "      <td>0.919</td>\n",
       "      <td>6.7273</td>\n",
       "      <td>4</td>\n",
       "      <td>2</td>\n",
       "      <td>1</td>\n",
       "    </tr>\n",
       "  </tbody>\n",
       "</table>\n",
       "</div>"
      ],
      "text/plain": [
       "  Driver  Turn  Row Count  Initial Brake  Brake Duration  \\\n",
       "0    HUL    16         67           2.88           1.521   \n",
       "\n",
       "   Throttle Ramp Initial  Throttle Ramp Time  Max Gs  Gear Shifts  \\\n",
       "0                  4.881               0.919  6.7273            4   \n",
       "\n",
       "   Throttle Events  Brake Events  \n",
       "0                2             1  "
      ]
     },
     "execution_count": 38,
     "metadata": {},
     "output_type": "execute_result"
    }
   ],
   "source": [
    "hulkenberg_turn_dfs = [(turn, telemetry_cleaning.filter_corner_telemetry(hulkenberg_sector3_telemetry_features, corner_position_cleaned, turn, radius)) for turn in critical_turn]\n",
    "hulkenberg_eda_summary = f1_pandas_helpers.get_driver_eda_multiple_turns(hulkenberg, hulkenberg_turn_dfs, hulkenberg_initial_brake_timestamp, hulkenberg_max_brake_duration, hulkenberg_throttle_ramp_initial, hulkenberg_throttle_ramp_time)\n",
    "\n",
    "hulkenberg_eda_summary"
   ]
  },
  {
   "cell_type": "markdown",
   "id": "ec91949e",
   "metadata": {},
   "source": [
    "Q2 data for Kevin Magnussen, Haas"
   ]
  },
  {
   "cell_type": "code",
   "execution_count": 39,
   "id": "c6e0bd74",
   "metadata": {},
   "outputs": [],
   "source": [
    "q1, q2, q3 = session.get_laps(magnussen).split_qualifying_sessions()\n",
    "magnussen_q2_telemetry = session.get_telemetry(q2)\n",
    "\n",
    "sector_1_start = str(f1_pandas_helpers.get_fastest_lap_details(q2)[0])\n",
    "sector_1_end = str(f1_pandas_helpers.get_fastest_lap_details(q2)[1])\n",
    "sector_2_end = str(f1_pandas_helpers.get_fastest_lap_details(q2)[2])\n",
    "sector_3_end = str(f1_pandas_helpers.get_fastest_lap_details(q2)[3])\n",
    "\n",
    "magnussen_sector1_telemetry = f1_pandas_helpers.filter_timestamp_range(magnussen_q2_telemetry, start=sector_1_start, end=sector_1_end)\n",
    "magnussen_sector1_telemetry_cleaned = telemetry_cleaning.clean_driver_sector_telemetry(magnussen_sector1_telemetry, magnussen)\n",
    "\n",
    "magnussen_sector2_telemetry = f1_pandas_helpers.filter_timestamp_range(magnussen_q2_telemetry, start=sector_1_end, end=sector_2_end)\n",
    "magnussen_sector2_telemetry_cleaned = telemetry_cleaning.clean_driver_sector_telemetry(magnussen_sector2_telemetry, magnussen)\n",
    "\n",
    "magnussen_sector3_telemetry = f1_pandas_helpers.filter_timestamp_range(magnussen_q2_telemetry, start=sector_2_end, end=sector_3_end)\n",
    "magnussen_sector3_telemetry_cleaned = telemetry_cleaning.clean_driver_sector_telemetry(magnussen_sector3_telemetry, magnussen)\n",
    "magnussen_sector3_telemetry_features = feature_engineering.TelemetryFeatures(magnussen_sector3_telemetry_cleaned).acceleration().jerk().g_force().get_features_df()\n",
    "\n",
    "magnussen_corner_telemetry = telemetry_cleaning.filter_corner_telemetry(magnussen_sector3_telemetry_features, corner_position_cleaned, critical_turn[0], radius)\n",
    "\n",
    "magnussen_time_converted_telemetry = feature_engineering.TelemetryFeatures(magnussen_corner_telemetry).convert_sector_time_to_seconds().get_features_df()\n"
   ]
  },
  {
   "cell_type": "markdown",
   "id": "d502dfb0",
   "metadata": {},
   "source": [
    "The following code blocks generate new descriptive statistical features to be used as inputs for the clustering model."
   ]
  },
  {
   "cell_type": "code",
   "execution_count": 40,
   "id": "0b63bfd1",
   "metadata": {},
   "outputs": [],
   "source": [
    "magnussen_brake_engage = (magnussen_time_converted_telemetry['BrakesApplied'] == 1) & (magnussen_time_converted_telemetry['BrakesApplied'].shift() == 0)\n",
    "magnussen_initial_brake_timestamp = magnussen_time_converted_telemetry.loc[magnussen_brake_engage, 'SectorTime (s)'].min()\n",
    "magnussen_brake_disengage = (magnussen_time_converted_telemetry['BrakesApplied'] == 0) & (magnussen_time_converted_telemetry['BrakesApplied'].shift() == 1)\n",
    "magnussen_max_brake_duration = (magnussen_time_converted_telemetry.loc[magnussen_brake_disengage, 'SectorTime (s)'].min()) - magnussen_initial_brake_timestamp\n",
    "\n",
    "magnussen_throttle_reengage = (magnussen_time_converted_telemetry['Throttle (%)'] > 0) & (magnussen_time_converted_telemetry['Throttle (%)'].shift() == 0)\n",
    "magnussen_throttle_ramp_initial = magnussen_time_converted_telemetry.loc[magnussen_throttle_reengage, 'SectorTime (s)'].min()\n",
    "magnussen_throttle_max = (magnussen_time_converted_telemetry['Throttle (%)'] >= 99) & (magnussen_time_converted_telemetry['Throttle (%)'].shift() < 99)\n",
    "magnussen_throttle_ramp_final = (magnussen_time_converted_telemetry.loc[magnussen_throttle_max, 'SectorTime (s)'].min())\n",
    "magnussen_throttle_ramp_time = magnussen_throttle_ramp_final - magnussen_throttle_ramp_initial"
   ]
  },
  {
   "cell_type": "markdown",
   "id": "97d330d5",
   "metadata": {},
   "source": [
    "Descriptive Statistics - Kevin Magnussen - The code below concatenates descriptive statistics for the driver at each turn in the critical_turn list into a single DataFrame."
   ]
  },
  {
   "cell_type": "code",
   "execution_count": 41,
   "id": "a8725ea6",
   "metadata": {},
   "outputs": [
    {
     "data": {
      "text/html": [
       "<div>\n",
       "<style scoped>\n",
       "    .dataframe tbody tr th:only-of-type {\n",
       "        vertical-align: middle;\n",
       "    }\n",
       "\n",
       "    .dataframe tbody tr th {\n",
       "        vertical-align: top;\n",
       "    }\n",
       "\n",
       "    .dataframe thead th {\n",
       "        text-align: right;\n",
       "    }\n",
       "</style>\n",
       "<table border=\"1\" class=\"dataframe\">\n",
       "  <thead>\n",
       "    <tr style=\"text-align: right;\">\n",
       "      <th></th>\n",
       "      <th>Driver</th>\n",
       "      <th>Turn</th>\n",
       "      <th>Row Count</th>\n",
       "      <th>Initial Brake</th>\n",
       "      <th>Brake Duration</th>\n",
       "      <th>Throttle Ramp Initial</th>\n",
       "      <th>Throttle Ramp Time</th>\n",
       "      <th>Max Gs</th>\n",
       "      <th>Gear Shifts</th>\n",
       "      <th>Throttle Events</th>\n",
       "      <th>Brake Events</th>\n",
       "    </tr>\n",
       "  </thead>\n",
       "  <tbody>\n",
       "    <tr>\n",
       "      <th>0</th>\n",
       "      <td>MAG</td>\n",
       "      <td>16</td>\n",
       "      <td>62</td>\n",
       "      <td>3.041</td>\n",
       "      <td>1.719</td>\n",
       "      <td>4.181</td>\n",
       "      <td>2.299</td>\n",
       "      <td>4.956958</td>\n",
       "      <td>4</td>\n",
       "      <td>2</td>\n",
       "      <td>1</td>\n",
       "    </tr>\n",
       "  </tbody>\n",
       "</table>\n",
       "</div>"
      ],
      "text/plain": [
       "  Driver  Turn  Row Count  Initial Brake  Brake Duration  \\\n",
       "0    MAG    16         62          3.041           1.719   \n",
       "\n",
       "   Throttle Ramp Initial  Throttle Ramp Time    Max Gs  Gear Shifts  \\\n",
       "0                  4.181               2.299  4.956958            4   \n",
       "\n",
       "   Throttle Events  Brake Events  \n",
       "0                2             1  "
      ]
     },
     "execution_count": 41,
     "metadata": {},
     "output_type": "execute_result"
    }
   ],
   "source": [
    "magnussen_turn_dfs = [(turn, telemetry_cleaning.filter_corner_telemetry(magnussen_sector3_telemetry_features, corner_position_cleaned, turn, radius)) for turn in critical_turn]\n",
    "magnussen_eda_summary = f1_pandas_helpers.get_driver_eda_multiple_turns(magnussen, magnussen_turn_dfs, magnussen_initial_brake_timestamp, magnussen_max_brake_duration, magnussen_throttle_ramp_initial, magnussen_throttle_ramp_time)\n",
    "\n",
    "magnussen_eda_summary"
   ]
  },
  {
   "cell_type": "markdown",
   "id": "b5b3b5b8",
   "metadata": {},
   "source": [
    "Q2 data for Liam Lawson, Visa CashApp"
   ]
  },
  {
   "cell_type": "code",
   "execution_count": 42,
   "id": "2d23d359",
   "metadata": {},
   "outputs": [],
   "source": [
    "q1, q2, q3 = session.get_laps(lawson).split_qualifying_sessions()\n",
    "lawson_q2_telemetry = session.get_telemetry(q2)\n",
    "\n",
    "sector_1_start = str(f1_pandas_helpers.get_fastest_lap_details(q2)[0])\n",
    "sector_1_end = str(f1_pandas_helpers.get_fastest_lap_details(q2)[1])\n",
    "sector_2_end = str(f1_pandas_helpers.get_fastest_lap_details(q2)[2])\n",
    "sector_3_end = str(f1_pandas_helpers.get_fastest_lap_details(q2)[3])\n",
    "\n",
    "lawson_sector1_telemetry = f1_pandas_helpers.filter_timestamp_range(lawson_q2_telemetry, start=sector_1_start, end=sector_1_end)\n",
    "lawson_sector1_telemetry_cleaned = telemetry_cleaning.clean_driver_sector_telemetry(lawson_sector1_telemetry, lawson)\n",
    "\n",
    "lawson_sector2_telemetry = f1_pandas_helpers.filter_timestamp_range(lawson_q2_telemetry, start=sector_1_end, end=sector_2_end)\n",
    "lawson_sector2_telemetry_cleaned = telemetry_cleaning.clean_driver_sector_telemetry(lawson_sector2_telemetry, lawson)\n",
    "\n",
    "lawson_sector3_telemetry = f1_pandas_helpers.filter_timestamp_range(lawson_q2_telemetry, start=sector_2_end, end=sector_3_end)\n",
    "lawson_sector3_telemetry_cleaned = telemetry_cleaning.clean_driver_sector_telemetry(lawson_sector3_telemetry, lawson)\n",
    "lawson_sector3_telemetry_features = feature_engineering.TelemetryFeatures(lawson_sector3_telemetry_cleaned).acceleration().jerk().g_force().get_features_df()\n",
    "\n",
    "lawson_corner_telemetry = telemetry_cleaning.filter_corner_telemetry(lawson_sector3_telemetry_features, corner_position_cleaned, critical_turn[0], radius)\n",
    "\n",
    "lawson_time_converted_telemetry = feature_engineering.TelemetryFeatures(lawson_corner_telemetry).convert_sector_time_to_seconds().get_features_df()\n",
    "\n"
   ]
  },
  {
   "cell_type": "markdown",
   "id": "566ff45c",
   "metadata": {},
   "source": [
    "The following code blocks generate new descriptive statistical features to be used as inputs for the clustering model."
   ]
  },
  {
   "cell_type": "code",
   "execution_count": 43,
   "id": "fc755d2c",
   "metadata": {},
   "outputs": [],
   "source": [
    "lawson_brake_engage = (lawson_time_converted_telemetry['BrakesApplied'] == 1) & (lawson_time_converted_telemetry['BrakesApplied'].shift() == 0)\n",
    "lawson_initial_brake_timestamp = lawson_time_converted_telemetry.loc[lawson_brake_engage, 'SectorTime (s)'].min()\n",
    "lawson_brake_disengage = (lawson_time_converted_telemetry['BrakesApplied'] == 0) & (lawson_time_converted_telemetry['BrakesApplied'].shift() == 1)\n",
    "lawson_max_brake_duration = (lawson_time_converted_telemetry.loc[lawson_brake_disengage, 'SectorTime (s)'].min()) - lawson_initial_brake_timestamp\n",
    "\n",
    "lawson_throttle_reengage = (lawson_time_converted_telemetry['Throttle (%)'] > 0) & (lawson_time_converted_telemetry['Throttle (%)'].shift() == 0)\n",
    "lawson_throttle_ramp_initial = lawson_time_converted_telemetry.loc[lawson_throttle_reengage, 'SectorTime (s)'].min()\n",
    "lawson_throttle_max = (lawson_time_converted_telemetry['Throttle (%)'] >= 99) & (lawson_time_converted_telemetry['Throttle (%)'].shift() < 99)\n",
    "lawson_throttle_ramp_final = (lawson_time_converted_telemetry.loc[lawson_throttle_max, 'SectorTime (s)'].min())\n",
    "lawson_throttle_ramp_time = lawson_throttle_ramp_final - lawson_throttle_ramp_initial"
   ]
  },
  {
   "cell_type": "markdown",
   "id": "ec95066d",
   "metadata": {},
   "source": [
    "Descriptive Statistics - Liam Lawson - The code below concatenates descriptive statistics for the driver at each turn in the critical_turn list into a single DataFrame."
   ]
  },
  {
   "cell_type": "code",
   "execution_count": 44,
   "id": "1410910e",
   "metadata": {},
   "outputs": [
    {
     "data": {
      "text/html": [
       "<div>\n",
       "<style scoped>\n",
       "    .dataframe tbody tr th:only-of-type {\n",
       "        vertical-align: middle;\n",
       "    }\n",
       "\n",
       "    .dataframe tbody tr th {\n",
       "        vertical-align: top;\n",
       "    }\n",
       "\n",
       "    .dataframe thead th {\n",
       "        text-align: right;\n",
       "    }\n",
       "</style>\n",
       "<table border=\"1\" class=\"dataframe\">\n",
       "  <thead>\n",
       "    <tr style=\"text-align: right;\">\n",
       "      <th></th>\n",
       "      <th>Driver</th>\n",
       "      <th>Turn</th>\n",
       "      <th>Row Count</th>\n",
       "      <th>Initial Brake</th>\n",
       "      <th>Brake Duration</th>\n",
       "      <th>Throttle Ramp Initial</th>\n",
       "      <th>Throttle Ramp Time</th>\n",
       "      <th>Max Gs</th>\n",
       "      <th>Gear Shifts</th>\n",
       "      <th>Throttle Events</th>\n",
       "      <th>Brake Events</th>\n",
       "    </tr>\n",
       "  </thead>\n",
       "  <tbody>\n",
       "    <tr>\n",
       "      <th>0</th>\n",
       "      <td>LAW</td>\n",
       "      <td>16</td>\n",
       "      <td>59</td>\n",
       "      <td>2.8</td>\n",
       "      <td>1.36</td>\n",
       "      <td>4.88</td>\n",
       "      <td>1.2</td>\n",
       "      <td>7.169885</td>\n",
       "      <td>4</td>\n",
       "      <td>2</td>\n",
       "      <td>1</td>\n",
       "    </tr>\n",
       "  </tbody>\n",
       "</table>\n",
       "</div>"
      ],
      "text/plain": [
       "  Driver  Turn  Row Count  Initial Brake  Brake Duration  \\\n",
       "0    LAW    16         59            2.8            1.36   \n",
       "\n",
       "   Throttle Ramp Initial  Throttle Ramp Time    Max Gs  Gear Shifts  \\\n",
       "0                   4.88                 1.2  7.169885            4   \n",
       "\n",
       "   Throttle Events  Brake Events  \n",
       "0                2             1  "
      ]
     },
     "execution_count": 44,
     "metadata": {},
     "output_type": "execute_result"
    }
   ],
   "source": [
    "lawson_turn_dfs = [(turn, telemetry_cleaning.filter_corner_telemetry(lawson_sector3_telemetry_features, corner_position_cleaned, turn, radius)) for turn in critical_turn]\n",
    "lawson_eda_summary = f1_pandas_helpers.get_driver_eda_multiple_turns(lawson, lawson_turn_dfs, lawson_initial_brake_timestamp, lawson_max_brake_duration, lawson_throttle_ramp_initial, lawson_throttle_ramp_time)\n",
    "\n",
    "lawson_eda_summary"
   ]
  },
  {
   "cell_type": "markdown",
   "id": "3722c76e",
   "metadata": {},
   "source": [
    "Q2 data for Yuki Tsunoda, Visa CashApp"
   ]
  },
  {
   "cell_type": "code",
   "execution_count": 45,
   "id": "826b8750",
   "metadata": {},
   "outputs": [],
   "source": [
    "q1, q2, q3 = session.get_laps(tsunoda).split_qualifying_sessions()\n",
    "tsunoda_q2_telemetry = session.get_telemetry(q2)\n",
    "\n",
    "sector_1_start = str(f1_pandas_helpers.get_fastest_lap_details(q2)[0])\n",
    "sector_1_end = str(f1_pandas_helpers.get_fastest_lap_details(q2)[1])\n",
    "sector_2_end = str(f1_pandas_helpers.get_fastest_lap_details(q2)[2])\n",
    "sector_3_end = str(f1_pandas_helpers.get_fastest_lap_details(q2)[3])\n",
    "\n",
    "tsunoda_sector1_telemetry = f1_pandas_helpers.filter_timestamp_range(tsunoda_q2_telemetry, start=sector_1_start, end=sector_1_end)\n",
    "tsunoda_sector1_telemetry_cleaned = telemetry_cleaning.clean_driver_sector_telemetry(tsunoda_sector1_telemetry, tsunoda)\n",
    "\n",
    "tsunoda_sector2_telemetry = f1_pandas_helpers.filter_timestamp_range(tsunoda_q2_telemetry, start=sector_1_end, end=sector_2_end)\n",
    "tsunoda_sector2_telemetry_cleaned = telemetry_cleaning.clean_driver_sector_telemetry(tsunoda_sector2_telemetry, tsunoda)\n",
    "\n",
    "tsunoda_sector3_telemetry = f1_pandas_helpers.filter_timestamp_range(tsunoda_q2_telemetry, start=sector_2_end, end=sector_3_end)\n",
    "tsunoda_sector3_telemetry_cleaned = telemetry_cleaning.clean_driver_sector_telemetry(tsunoda_sector3_telemetry, tsunoda)\n",
    "tsunoda_sector3_telemetry_features = feature_engineering.TelemetryFeatures(tsunoda_sector3_telemetry_cleaned).acceleration().jerk().g_force().get_features_df()\n",
    "\n",
    "tsunoda_corner_telemetry = telemetry_cleaning.filter_corner_telemetry(tsunoda_sector3_telemetry_features, corner_position_cleaned, critical_turn[0], radius)\n",
    "\n",
    "tsunoda_time_converted_telemetry = feature_engineering.TelemetryFeatures(tsunoda_corner_telemetry).convert_sector_time_to_seconds().get_features_df()"
   ]
  },
  {
   "cell_type": "markdown",
   "id": "f1360a52",
   "metadata": {},
   "source": [
    "The following code blocks generate new descriptive statistical features to be used as inputs for the clustering model."
   ]
  },
  {
   "cell_type": "code",
   "execution_count": 46,
   "id": "991895cf",
   "metadata": {},
   "outputs": [],
   "source": [
    "tsunoda_brake_engage = (tsunoda_time_converted_telemetry['BrakesApplied'] == 1) & (tsunoda_time_converted_telemetry['BrakesApplied'].shift() == 0)\n",
    "tsunoda_initial_brake_timestamp = tsunoda_time_converted_telemetry.loc[tsunoda_brake_engage, 'SectorTime (s)'].min()\n",
    "tsunoda_brake_disengage = (tsunoda_time_converted_telemetry['BrakesApplied'] == 0) & (tsunoda_time_converted_telemetry['BrakesApplied'].shift() == 1)\n",
    "tsunoda_max_brake_duration = (tsunoda_time_converted_telemetry.loc[tsunoda_brake_disengage, 'SectorTime (s)'].min()) - tsunoda_initial_brake_timestamp\n",
    "\n",
    "tsunoda_throttle_reengage = (tsunoda_time_converted_telemetry['Throttle (%)'] > 0) & (tsunoda_time_converted_telemetry['Throttle (%)'].shift() == 0)\n",
    "tsunoda_throttle_ramp_initial = tsunoda_time_converted_telemetry.loc[tsunoda_throttle_reengage, 'SectorTime (s)'].min()\n",
    "tsunoda_throttle_max = (tsunoda_time_converted_telemetry['Throttle (%)'] >= 99) & (tsunoda_time_converted_telemetry['Throttle (%)'].shift() < 99)\n",
    "tsunoda_throttle_ramp_final = (tsunoda_time_converted_telemetry.loc[tsunoda_throttle_max, 'SectorTime (s)'].min())\n",
    "tsunoda_throttle_ramp_time = tsunoda_throttle_ramp_final - tsunoda_throttle_ramp_initial"
   ]
  },
  {
   "cell_type": "markdown",
   "id": "f3716b46",
   "metadata": {},
   "source": [
    "Descriptive Statistics - Yuki Tsunoda - The code below concatenates descriptive statistics for the driver at each turn in the critical_turn list into a single DataFrame."
   ]
  },
  {
   "cell_type": "code",
   "execution_count": 47,
   "id": "bf560083",
   "metadata": {},
   "outputs": [
    {
     "data": {
      "text/html": [
       "<div>\n",
       "<style scoped>\n",
       "    .dataframe tbody tr th:only-of-type {\n",
       "        vertical-align: middle;\n",
       "    }\n",
       "\n",
       "    .dataframe tbody tr th {\n",
       "        vertical-align: top;\n",
       "    }\n",
       "\n",
       "    .dataframe thead th {\n",
       "        text-align: right;\n",
       "    }\n",
       "</style>\n",
       "<table border=\"1\" class=\"dataframe\">\n",
       "  <thead>\n",
       "    <tr style=\"text-align: right;\">\n",
       "      <th></th>\n",
       "      <th>Driver</th>\n",
       "      <th>Turn</th>\n",
       "      <th>Row Count</th>\n",
       "      <th>Initial Brake</th>\n",
       "      <th>Brake Duration</th>\n",
       "      <th>Throttle Ramp Initial</th>\n",
       "      <th>Throttle Ramp Time</th>\n",
       "      <th>Max Gs</th>\n",
       "      <th>Gear Shifts</th>\n",
       "      <th>Throttle Events</th>\n",
       "      <th>Brake Events</th>\n",
       "    </tr>\n",
       "  </thead>\n",
       "  <tbody>\n",
       "    <tr>\n",
       "      <th>0</th>\n",
       "      <td>TSU</td>\n",
       "      <td>16</td>\n",
       "      <td>61</td>\n",
       "      <td>2.681</td>\n",
       "      <td>1.4</td>\n",
       "      <td>4.661</td>\n",
       "      <td>1.1</td>\n",
       "      <td>4.184445</td>\n",
       "      <td>5</td>\n",
       "      <td>2</td>\n",
       "      <td>1</td>\n",
       "    </tr>\n",
       "  </tbody>\n",
       "</table>\n",
       "</div>"
      ],
      "text/plain": [
       "  Driver  Turn  Row Count  Initial Brake  Brake Duration  \\\n",
       "0    TSU    16         61          2.681             1.4   \n",
       "\n",
       "   Throttle Ramp Initial  Throttle Ramp Time    Max Gs  Gear Shifts  \\\n",
       "0                  4.661                 1.1  4.184445            5   \n",
       "\n",
       "   Throttle Events  Brake Events  \n",
       "0                2             1  "
      ]
     },
     "execution_count": 47,
     "metadata": {},
     "output_type": "execute_result"
    }
   ],
   "source": [
    "tsunoda_turn_dfs = [(turn, telemetry_cleaning.filter_corner_telemetry(tsunoda_sector3_telemetry_features, corner_position_cleaned, turn, radius)) for turn in critical_turn]\n",
    "tsunoda_eda_summary = f1_pandas_helpers.get_driver_eda_multiple_turns(tsunoda, tsunoda_turn_dfs, tsunoda_initial_brake_timestamp, tsunoda_max_brake_duration, tsunoda_throttle_ramp_initial, tsunoda_throttle_ramp_time)\n",
    "\n",
    "tsunoda_eda_summary"
   ]
  },
  {
   "cell_type": "markdown",
   "id": "e789a3d9",
   "metadata": {},
   "source": [
    "Q3 data for George Russell, Mercedes"
   ]
  },
  {
   "cell_type": "code",
   "execution_count": 48,
   "id": "90bf1fe1",
   "metadata": {},
   "outputs": [],
   "source": [
    "q1, q2, q3 = session.get_laps(russell).split_qualifying_sessions()\n",
    "russell_q3_telemetry = session.get_telemetry(q3)\n",
    "\n",
    "sector_1_start = str(f1_pandas_helpers.get_fastest_lap_details(q3)[0])\n",
    "sector_1_end = str(f1_pandas_helpers.get_fastest_lap_details(q3)[1])\n",
    "sector_2_end = str(f1_pandas_helpers.get_fastest_lap_details(q3)[2])\n",
    "sector_3_end = str(f1_pandas_helpers.get_fastest_lap_details(q3)[3])\n",
    "\n",
    "russell_sector1_telemetry = f1_pandas_helpers.filter_timestamp_range(russell_q3_telemetry, start=sector_1_start, end=sector_1_end)\n",
    "russell_sector1_telemetry_cleaned = telemetry_cleaning.clean_driver_sector_telemetry(russell_sector1_telemetry, russell)\n",
    "\n",
    "russell_sector2_telemetry = f1_pandas_helpers.filter_timestamp_range(russell_q3_telemetry, start=sector_1_end, end=sector_2_end)\n",
    "russell_sector2_telemetry_cleaned = telemetry_cleaning.clean_driver_sector_telemetry(russell_sector2_telemetry, russell)\n",
    "\n",
    "russell_sector3_telemetry = f1_pandas_helpers.filter_timestamp_range(russell_q3_telemetry, start=sector_2_end, end=sector_3_end)\n",
    "russell_sector3_telemetry_cleaned = telemetry_cleaning.clean_driver_sector_telemetry(russell_sector3_telemetry, russell)\n",
    "russell_sector3_telemetry_features = feature_engineering.TelemetryFeatures(russell_sector3_telemetry_cleaned).acceleration().jerk().g_force().get_features_df()\n",
    "\n",
    "russell_corner_telemetry = telemetry_cleaning.filter_corner_telemetry(russell_sector3_telemetry_features, corner_position_cleaned, critical_turn[0], radius)\n",
    "\n",
    "russell_time_converted_telemetry = feature_engineering.TelemetryFeatures(russell_corner_telemetry).convert_sector_time_to_seconds().get_features_df()"
   ]
  },
  {
   "cell_type": "markdown",
   "id": "06676f67",
   "metadata": {},
   "source": [
    "The following code blocks generate new descriptive statistical features to be used as inputs for the clustering model."
   ]
  },
  {
   "cell_type": "code",
   "execution_count": 49,
   "id": "d63204e7",
   "metadata": {},
   "outputs": [],
   "source": [
    "russell_brake_engage = (russell_time_converted_telemetry['BrakesApplied'] == 1) & (russell_time_converted_telemetry['BrakesApplied'].shift() == 0)\n",
    "russell_initial_brake_timestamp = russell_time_converted_telemetry.loc[russell_brake_engage, 'SectorTime (s)'].min()\n",
    "russell_brake_disengage = (russell_time_converted_telemetry['BrakesApplied'] == 0) & (russell_time_converted_telemetry['BrakesApplied'].shift() == 1)\n",
    "russell_max_brake_duration = (russell_time_converted_telemetry.loc[russell_brake_disengage, 'SectorTime (s)'].min()) - russell_initial_brake_timestamp\n",
    "\n",
    "russell_throttle_reengage = (russell_time_converted_telemetry['Throttle (%)'] > 0) & (russell_time_converted_telemetry['Throttle (%)'].shift() == 0)\n",
    "russell_throttle_ramp_initial = russell_time_converted_telemetry.loc[russell_throttle_reengage, 'SectorTime (s)'].min()\n",
    "russell_throttle_max = (russell_time_converted_telemetry['Throttle (%)'] >= 99) & (russell_time_converted_telemetry['Throttle (%)'].shift() < 99)\n",
    "russell_throttle_ramp_final = (russell_time_converted_telemetry.loc[russell_throttle_max, 'SectorTime (s)'].min())\n",
    "russell_throttle_ramp_time = russell_throttle_ramp_final - russell_throttle_ramp_initial"
   ]
  },
  {
   "cell_type": "markdown",
   "id": "2a613e5d",
   "metadata": {},
   "source": [
    "Descriptive Statistics - George Russell - The code below concatenates descriptive statistics for the driver at each turn in the critical_turn list into a single DataFrame."
   ]
  },
  {
   "cell_type": "code",
   "execution_count": 50,
   "id": "7363e326",
   "metadata": {},
   "outputs": [
    {
     "data": {
      "text/html": [
       "<div>\n",
       "<style scoped>\n",
       "    .dataframe tbody tr th:only-of-type {\n",
       "        vertical-align: middle;\n",
       "    }\n",
       "\n",
       "    .dataframe tbody tr th {\n",
       "        vertical-align: top;\n",
       "    }\n",
       "\n",
       "    .dataframe thead th {\n",
       "        text-align: right;\n",
       "    }\n",
       "</style>\n",
       "<table border=\"1\" class=\"dataframe\">\n",
       "  <thead>\n",
       "    <tr style=\"text-align: right;\">\n",
       "      <th></th>\n",
       "      <th>Driver</th>\n",
       "      <th>Turn</th>\n",
       "      <th>Row Count</th>\n",
       "      <th>Initial Brake</th>\n",
       "      <th>Brake Duration</th>\n",
       "      <th>Throttle Ramp Initial</th>\n",
       "      <th>Throttle Ramp Time</th>\n",
       "      <th>Max Gs</th>\n",
       "      <th>Gear Shifts</th>\n",
       "      <th>Throttle Events</th>\n",
       "      <th>Brake Events</th>\n",
       "    </tr>\n",
       "  </thead>\n",
       "  <tbody>\n",
       "    <tr>\n",
       "      <th>0</th>\n",
       "      <td>RUS</td>\n",
       "      <td>16</td>\n",
       "      <td>54</td>\n",
       "      <td>3.003</td>\n",
       "      <td>1.361</td>\n",
       "      <td>4.5</td>\n",
       "      <td>1.5</td>\n",
       "      <td>4.248822</td>\n",
       "      <td>5</td>\n",
       "      <td>2</td>\n",
       "      <td>1</td>\n",
       "    </tr>\n",
       "  </tbody>\n",
       "</table>\n",
       "</div>"
      ],
      "text/plain": [
       "  Driver  Turn  Row Count  Initial Brake  Brake Duration  \\\n",
       "0    RUS    16         54          3.003           1.361   \n",
       "\n",
       "   Throttle Ramp Initial  Throttle Ramp Time    Max Gs  Gear Shifts  \\\n",
       "0                    4.5                 1.5  4.248822            5   \n",
       "\n",
       "   Throttle Events  Brake Events  \n",
       "0                2             1  "
      ]
     },
     "execution_count": 50,
     "metadata": {},
     "output_type": "execute_result"
    }
   ],
   "source": [
    "russell_turn_dfs = [(turn, telemetry_cleaning.filter_corner_telemetry(russell_sector3_telemetry_features, corner_position_cleaned, turn, radius)) for turn in critical_turn]\n",
    "russell_eda_summary = f1_pandas_helpers.get_driver_eda_multiple_turns(russell, russell_turn_dfs, russell_initial_brake_timestamp, russell_max_brake_duration, russell_throttle_ramp_initial, russell_throttle_ramp_time)\n",
    "\n",
    "russell_eda_summary"
   ]
  },
  {
   "cell_type": "markdown",
   "id": "82a823d1",
   "metadata": {},
   "source": [
    "Descriptive Statistics - All Drivers - The following code concatenates descriptive statistics for each driver into a single DataFrame for downstream visualization validation."
   ]
  },
  {
   "cell_type": "code",
   "execution_count": 53,
   "id": "c71fb0d4",
   "metadata": {},
   "outputs": [
    {
     "data": {
      "text/html": [
       "<div>\n",
       "<style scoped>\n",
       "    .dataframe tbody tr th:only-of-type {\n",
       "        vertical-align: middle;\n",
       "    }\n",
       "\n",
       "    .dataframe tbody tr th {\n",
       "        vertical-align: top;\n",
       "    }\n",
       "\n",
       "    .dataframe thead th {\n",
       "        text-align: right;\n",
       "    }\n",
       "</style>\n",
       "<table border=\"1\" class=\"dataframe\">\n",
       "  <thead>\n",
       "    <tr style=\"text-align: right;\">\n",
       "      <th></th>\n",
       "      <th>Driver</th>\n",
       "      <th>Turn</th>\n",
       "      <th>Row Count</th>\n",
       "      <th>Initial Brake</th>\n",
       "      <th>Brake Duration</th>\n",
       "      <th>Throttle Ramp Initial</th>\n",
       "      <th>Throttle Ramp Time</th>\n",
       "      <th>Max Gs</th>\n",
       "      <th>Gear Shifts</th>\n",
       "      <th>Throttle Events</th>\n",
       "      <th>Brake Events</th>\n",
       "    </tr>\n",
       "  </thead>\n",
       "  <tbody>\n",
       "    <tr>\n",
       "      <th>0</th>\n",
       "      <td>NOR</td>\n",
       "      <td>16</td>\n",
       "      <td>63</td>\n",
       "      <td>2.485</td>\n",
       "      <td>1.799</td>\n",
       "      <td>4.401</td>\n",
       "      <td>1.483</td>\n",
       "      <td>4.602889</td>\n",
       "      <td>4</td>\n",
       "      <td>2</td>\n",
       "      <td>1</td>\n",
       "    </tr>\n",
       "    <tr>\n",
       "      <th>0</th>\n",
       "      <td>PIA</td>\n",
       "      <td>16</td>\n",
       "      <td>67</td>\n",
       "      <td>2.724</td>\n",
       "      <td>1.200</td>\n",
       "      <td>4.402</td>\n",
       "      <td>1.563</td>\n",
       "      <td>3.068595</td>\n",
       "      <td>5</td>\n",
       "      <td>2</td>\n",
       "      <td>1</td>\n",
       "    </tr>\n",
       "    <tr>\n",
       "      <th>0</th>\n",
       "      <td>VER</td>\n",
       "      <td>16</td>\n",
       "      <td>62</td>\n",
       "      <td>2.882</td>\n",
       "      <td>1.440</td>\n",
       "      <td>4.321</td>\n",
       "      <td>1.321</td>\n",
       "      <td>3.934345</td>\n",
       "      <td>4</td>\n",
       "      <td>2</td>\n",
       "      <td>1</td>\n",
       "    </tr>\n",
       "    <tr>\n",
       "      <th>0</th>\n",
       "      <td>PER</td>\n",
       "      <td>16</td>\n",
       "      <td>64</td>\n",
       "      <td>2.783</td>\n",
       "      <td>1.801</td>\n",
       "      <td>4.080</td>\n",
       "      <td>1.943</td>\n",
       "      <td>3.717724</td>\n",
       "      <td>3</td>\n",
       "      <td>2</td>\n",
       "      <td>1</td>\n",
       "    </tr>\n",
       "    <tr>\n",
       "      <th>0</th>\n",
       "      <td>SAI</td>\n",
       "      <td>16</td>\n",
       "      <td>64</td>\n",
       "      <td>2.760</td>\n",
       "      <td>1.839</td>\n",
       "      <td>4.616</td>\n",
       "      <td>1.143</td>\n",
       "      <td>3.540684</td>\n",
       "      <td>4</td>\n",
       "      <td>2</td>\n",
       "      <td>1</td>\n",
       "    </tr>\n",
       "    <tr>\n",
       "      <th>0</th>\n",
       "      <td>LEC</td>\n",
       "      <td>16</td>\n",
       "      <td>63</td>\n",
       "      <td>2.599</td>\n",
       "      <td>1.400</td>\n",
       "      <td>NaN</td>\n",
       "      <td>NaN</td>\n",
       "      <td>5.979823</td>\n",
       "      <td>5</td>\n",
       "      <td>1</td>\n",
       "      <td>1</td>\n",
       "    </tr>\n",
       "    <tr>\n",
       "      <th>0</th>\n",
       "      <td>BOT</td>\n",
       "      <td>16</td>\n",
       "      <td>65</td>\n",
       "      <td>2.804</td>\n",
       "      <td>1.760</td>\n",
       "      <td>4.764</td>\n",
       "      <td>1.160</td>\n",
       "      <td>4.868446</td>\n",
       "      <td>4</td>\n",
       "      <td>2</td>\n",
       "      <td>1</td>\n",
       "    </tr>\n",
       "    <tr>\n",
       "      <th>0</th>\n",
       "      <td>ALO</td>\n",
       "      <td>16</td>\n",
       "      <td>63</td>\n",
       "      <td>2.721</td>\n",
       "      <td>1.479</td>\n",
       "      <td>4.040</td>\n",
       "      <td>1.840</td>\n",
       "      <td>3.806235</td>\n",
       "      <td>6</td>\n",
       "      <td>3</td>\n",
       "      <td>1</td>\n",
       "    </tr>\n",
       "    <tr>\n",
       "      <th>0</th>\n",
       "      <td>STR</td>\n",
       "      <td>16</td>\n",
       "      <td>61</td>\n",
       "      <td>2.800</td>\n",
       "      <td>1.721</td>\n",
       "      <td>3.961</td>\n",
       "      <td>1.840</td>\n",
       "      <td>5.355066</td>\n",
       "      <td>4</td>\n",
       "      <td>3</td>\n",
       "      <td>1</td>\n",
       "    </tr>\n",
       "    <tr>\n",
       "      <th>0</th>\n",
       "      <td>GAS</td>\n",
       "      <td>16</td>\n",
       "      <td>66</td>\n",
       "      <td>3.043</td>\n",
       "      <td>1.160</td>\n",
       "      <td>4.539</td>\n",
       "      <td>1.623</td>\n",
       "      <td>4.956962</td>\n",
       "      <td>5</td>\n",
       "      <td>2</td>\n",
       "      <td>1</td>\n",
       "    </tr>\n",
       "    <tr>\n",
       "      <th>0</th>\n",
       "      <td>HUL</td>\n",
       "      <td>16</td>\n",
       "      <td>67</td>\n",
       "      <td>2.880</td>\n",
       "      <td>1.521</td>\n",
       "      <td>4.881</td>\n",
       "      <td>0.919</td>\n",
       "      <td>6.727300</td>\n",
       "      <td>4</td>\n",
       "      <td>2</td>\n",
       "      <td>1</td>\n",
       "    </tr>\n",
       "    <tr>\n",
       "      <th>0</th>\n",
       "      <td>MAG</td>\n",
       "      <td>16</td>\n",
       "      <td>62</td>\n",
       "      <td>3.041</td>\n",
       "      <td>1.719</td>\n",
       "      <td>4.181</td>\n",
       "      <td>2.299</td>\n",
       "      <td>4.956958</td>\n",
       "      <td>4</td>\n",
       "      <td>2</td>\n",
       "      <td>1</td>\n",
       "    </tr>\n",
       "    <tr>\n",
       "      <th>0</th>\n",
       "      <td>LAW</td>\n",
       "      <td>16</td>\n",
       "      <td>59</td>\n",
       "      <td>2.800</td>\n",
       "      <td>1.360</td>\n",
       "      <td>4.880</td>\n",
       "      <td>1.200</td>\n",
       "      <td>7.169885</td>\n",
       "      <td>4</td>\n",
       "      <td>2</td>\n",
       "      <td>1</td>\n",
       "    </tr>\n",
       "    <tr>\n",
       "      <th>0</th>\n",
       "      <td>TSU</td>\n",
       "      <td>16</td>\n",
       "      <td>61</td>\n",
       "      <td>2.681</td>\n",
       "      <td>1.400</td>\n",
       "      <td>4.661</td>\n",
       "      <td>1.100</td>\n",
       "      <td>4.184445</td>\n",
       "      <td>5</td>\n",
       "      <td>2</td>\n",
       "      <td>1</td>\n",
       "    </tr>\n",
       "    <tr>\n",
       "      <th>0</th>\n",
       "      <td>RUS</td>\n",
       "      <td>16</td>\n",
       "      <td>54</td>\n",
       "      <td>3.003</td>\n",
       "      <td>1.361</td>\n",
       "      <td>4.500</td>\n",
       "      <td>1.500</td>\n",
       "      <td>4.248822</td>\n",
       "      <td>5</td>\n",
       "      <td>2</td>\n",
       "      <td>1</td>\n",
       "    </tr>\n",
       "  </tbody>\n",
       "</table>\n",
       "</div>"
      ],
      "text/plain": [
       "  Driver  Turn  Row Count  Initial Brake  Brake Duration  \\\n",
       "0    NOR    16         63          2.485           1.799   \n",
       "0    PIA    16         67          2.724           1.200   \n",
       "0    VER    16         62          2.882           1.440   \n",
       "0    PER    16         64          2.783           1.801   \n",
       "0    SAI    16         64          2.760           1.839   \n",
       "0    LEC    16         63          2.599           1.400   \n",
       "0    BOT    16         65          2.804           1.760   \n",
       "0    ALO    16         63          2.721           1.479   \n",
       "0    STR    16         61          2.800           1.721   \n",
       "0    GAS    16         66          3.043           1.160   \n",
       "0    HUL    16         67          2.880           1.521   \n",
       "0    MAG    16         62          3.041           1.719   \n",
       "0    LAW    16         59          2.800           1.360   \n",
       "0    TSU    16         61          2.681           1.400   \n",
       "0    RUS    16         54          3.003           1.361   \n",
       "\n",
       "   Throttle Ramp Initial  Throttle Ramp Time    Max Gs  Gear Shifts  \\\n",
       "0                  4.401               1.483  4.602889            4   \n",
       "0                  4.402               1.563  3.068595            5   \n",
       "0                  4.321               1.321  3.934345            4   \n",
       "0                  4.080               1.943  3.717724            3   \n",
       "0                  4.616               1.143  3.540684            4   \n",
       "0                    NaN                 NaN  5.979823            5   \n",
       "0                  4.764               1.160  4.868446            4   \n",
       "0                  4.040               1.840  3.806235            6   \n",
       "0                  3.961               1.840  5.355066            4   \n",
       "0                  4.539               1.623  4.956962            5   \n",
       "0                  4.881               0.919  6.727300            4   \n",
       "0                  4.181               2.299  4.956958            4   \n",
       "0                  4.880               1.200  7.169885            4   \n",
       "0                  4.661               1.100  4.184445            5   \n",
       "0                  4.500               1.500  4.248822            5   \n",
       "\n",
       "   Throttle Events  Brake Events  \n",
       "0                2             1  \n",
       "0                2             1  \n",
       "0                2             1  \n",
       "0                2             1  \n",
       "0                2             1  \n",
       "0                1             1  \n",
       "0                2             1  \n",
       "0                3             1  \n",
       "0                3             1  \n",
       "0                2             1  \n",
       "0                2             1  \n",
       "0                2             1  \n",
       "0                2             1  \n",
       "0                2             1  \n",
       "0                2             1  "
      ]
     },
     "execution_count": 53,
     "metadata": {},
     "output_type": "execute_result"
    }
   ],
   "source": [
    "all_driver_eda_summaries = pd.concat([\n",
    "    norris_eda_summary, \n",
    "    piastri_eda_summary,\n",
    "    verstappen_eda_summary,\n",
    "    perez_eda_summary,\n",
    "    sainz_eda_summary,\n",
    "    leclerc_eda_summary,\n",
    "    bottas_eda_summary,\n",
    "    alonso_eda_summary,\n",
    "    stroll_eda_summary,\n",
    "    gasly_eda_summary,\n",
    "    hulkenberg_eda_summary,\n",
    "    magnussen_eda_summary,\n",
    "    lawson_eda_summary,\n",
    "    tsunoda_eda_summary,\n",
    "    russell_eda_summary\n",
    "    ])\n",
    "\n",
    "all_driver_eda_summaries"
   ]
  },
  {
   "cell_type": "markdown",
   "id": "95227ce2",
   "metadata": {},
   "source": [
    "Visualizations - Multiple Drivers - This multi-axis plot can dynamically display telemetry data to reveal unique driver performance for given driver dataframes.\n",
    "Limit the number of features and drivers to maintain clarity."
   ]
  },
  {
   "cell_type": "code",
   "execution_count": 52,
   "id": "ae238928",
   "metadata": {},
   "outputs": [
    {
     "data": {
      "image/png": "[encoded data removed]",
      "text/plain": [
       "<Figure size 4200x1000 with 1 Axes>"
      ]
     },
     "metadata": {},
     "output_type": "display_data"
    }
   ],
   "source": [
    "plots.plot_multiple_drivers_telemetry(dfs=[norris_corner_telemetry, piastri_corner_telemetry, verstappen_corner_telemetry, leclerc_corner_telemetry, bottas_corner_telemetry, perez_corner_telemetry, russell_corner_telemetry, gasly_corner_telemetry],\n",
    "                                      drivers=[norris, piastri, verstappen, leclerc, bottas, perez, russell, gasly],\n",
    "                                      telemetry_cols=[speed])"
   ]
  },
  {
   "cell_type": "markdown",
   "id": "1bf5a447",
   "metadata": {},
   "source": [
    "Updated Hypotheses:\n",
    "1) Faster corner exits translate to greater straight-line speed and reduced lap times.\n",
    "2) Drivers who re-engage full throttle at the optimal moment after the apex tend to achieve higher corner exit speeds.\n",
    "3) Drivers who brake precisely at the optimal point maintain greater stability, enabling higher corner exit speeds.\n",
    "4) Aggressive, late breakers are more likely to lose stability through an apex, leading to slower corner exit speeds.\n",
    "5) Drivers who apply fewer braking events through a sequence of turns tend to sustain higher RPM levels, resulting in faster corner exit speeds.\n",
    "\n",
    "Additional data columns that will need to be ‘engineered’:\n",
    "1) Steering angle (telemetry data)\n",
    "2) Max throttle re-engagement timestamp (descriptive statistic)\n",
    "3) Max throttle re-engagment slope (descriptive statistic)\n",
    "4) Initial braking timestamp (descriptive statistic)"
   ]
  }
 ],
 "metadata": {
  "kernelspec": {
   "display_name": "gmms_dsat_fastf1",
   "language": "python",
   "name": "python3"
  },
  "language_info": {
   "codemirror_mode": {
    "name": "ipython",
    "version": 3
   },
   "file_extension": ".py",
   "mimetype": "text/x-python",
   "name": "python",
   "nbconvert_exporter": "python",
   "pygments_lexer": "ipython3",
   "version": "3.13.5"
  }
 },
 "nbformat": 4,
 "nbformat_minor": 5
}
