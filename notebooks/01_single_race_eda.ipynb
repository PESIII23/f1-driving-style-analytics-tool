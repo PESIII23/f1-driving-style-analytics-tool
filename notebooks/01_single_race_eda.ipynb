{
 "cells": [
  {
   "cell_type": "markdown",
   "id": "752128ae",
   "metadata": {},
   "source": [
    "Single Race Exploratory Data Analysis\n",
    "\n",
    "This notebook explores and wrangles telemetry data from the Fast-F1 API for critical turns in a single race. It establishes a structured workflow for data acquisition, preparation, and initial exploration before scaling to multi-race analysis. Descriptive statistics and preliminary visualizations are generated to provide insights into the data, identify patterns or anomalies, and guide subsequent feature engineering and modeling decisions.\n",
    "\n",
    "NOTE: This notebook will not compile as standalone. Please pull down the project from GitHub (git clone https://github.com/yourusername/f1-driving-style-analytics-tool.git) and install the necessary dependencies. Further instruction is included in the README.md"
   ]
  },
  {
   "cell_type": "markdown",
   "id": "3e20a0c0",
   "metadata": {},
   "source": [
    "The code below adds the parent directory to Python’s module search path and configures logging to suppress all FastF1 logs below the warning level. This will enable subsequent code blocks that use imports to work seamlessly and keep my resulting code compilations clean and easy to read."
   ]
  },
  {
   "cell_type": "code",
   "execution_count": null,
   "id": "706a7d6d",
   "metadata": {},
   "outputs": [],
   "source": [
    "import sys\n",
    "import os\n",
    "import logging\n",
    "\n",
    "root = os.path.abspath(\"..\")\n",
    "sys.path.append(root)\n",
    "\n",
    "logging.getLogger('fastf1').setLevel(logging.WARNING)"
   ]
  },
  {
   "cell_type": "markdown",
   "id": "67fb729b",
   "metadata": {},
   "source": [
    "In this section, I import Python libraries for data visualization, numerical analysis, and working with Pandas dataframes that the FastF1 API is primarily structured with. I also import custom functions and modules for preprocessing F1 data and constants. To support full visibility into the datasets without truncation, I configure Pandas display options to show all rows and columns."
   ]
  },
  {
   "cell_type": "code",
   "execution_count": null,
   "id": "33c3b78c",
   "metadata": {},
   "outputs": [],
   "source": [
    "from src.data import f1_data\n",
    "from src.utils import f1_constants, f1_pandas_helpers\n",
    "from src.preprocessing import telemetry_cleaning, feature_engineering\n",
    "\n",
    "import matplotlib.pyplot as plt\n",
    "import pandas as pd\n",
    "import numpy as np\n",
    "\n",
    "pd.set_option('display.max_rows', None)  # reset_option to compact view\n",
    "pd.set_option('display.max_columns', None)\n"
   ]
  },
  {
   "cell_type": "markdown",
   "id": "b78f67a9",
   "metadata": {},
   "source": [
    "The following code initializes a single F1 race session by defining parameters such as year, location, and session type. These values are passed into the custom F1Session class (from f1_data.py), which creates a session object built on top of Fast-F1. This object provides access to race data as well as custom functions I’ve implemented.\n",
    "\n",
    "The session parameters were chosen to best match Tier 1 control qualities:\n",
    "\n",
    "- Weather: Abu Dhabi (clear, dry conditions)\n",
    "- Max Speed: C5 Ultra Soft Tires\n",
    "- Minimize Outliers: Qualifying Sessions (Q3 & Q2)\n",
    "- Traffic: Avoid tow laps to avoid slipstream bias"
   ]
  },
  {
   "cell_type": "code",
   "execution_count": null,
   "id": "087da416",
   "metadata": {},
   "outputs": [],
   "source": [
    "year = 2024\n",
    "grand_prix = f1_constants.F1Constants.LOCATIONS[\"Abu Dhabi\"]\n",
    "session_type = f1_constants.F1Constants.SESSIONS[\"Q\"]\n",
    "\n",
    "session = f1_data.F1Session(year, grand_prix, session_type)"
   ]
  },
  {
   "cell_type": "markdown",
   "id": "b18ca600",
   "metadata": {},
   "source": [
    "All drivers who participated in the specific location's Q2 and Q3 sessions will be analyzed and assigned variables to be identified by their three-letter name code. Q3 data will be used for each driver whenever available; otherwise, Q2 data will be selected."
   ]
  },
  {
   "cell_type": "code",
   "execution_count": null,
   "id": "d96e96e8",
   "metadata": {},
   "outputs": [],
   "source": [
    "norris = f1_constants.F1Constants.DRIVERS[\"Lando Norris\"]\n",
    "piastri = f1_constants.F1Constants.DRIVERS[\"Oscar Piastri\"]\n",
    "verstappen = f1_constants.F1Constants.DRIVERS[\"Max Verstappen\"]\n",
    "perez = f1_constants.F1Constants.DRIVERS[\"Sergio Perez\"]\n",
    "sainz = f1_constants.F1Constants.DRIVERS[\"Carlos Sainz\"]\n",
    "leclerc = f1_constants.F1Constants.DRIVERS[\"Charles Leclerc\"]\n",
    "bottas = f1_constants.F1Constants.DRIVERS[\"Valtteri Bottas\"]\n",
    "alonso = f1_constants.F1Constants.DRIVERS[\"Fernando Alonso\"]\n",
    "stroll = f1_constants.F1Constants.DRIVERS[\"Lance Stroll\"]\n",
    "gasly = f1_constants.F1Constants.DRIVERS[\"Pierre Gasly\"]\n",
    "hulkenberg = f1_constants.F1Constants.DRIVERS[\"Nico Hulkenberg\"]\n",
    "magnussen = f1_constants.F1Constants.DRIVERS[\"Kevin Magnussen\"]\n",
    "lawson = f1_constants.F1Constants.DRIVERS[\"Liam Lawson\"]\n",
    "tsunoda = f1_constants.F1Constants.DRIVERS[\"Yuki Tsunoda\"]\n",
    "russell = f1_constants.F1Constants.DRIVERS[\"George Russell\"]"
   ]
  },
  {
   "cell_type": "markdown",
   "id": "9387c5d8",
   "metadata": {},
   "source": [
    "Here’s a concise, polished version of your description:\n",
    "\n",
    "The code extracts circuit information for the session’s corner turns. The `critical_turn` array identifies corners where driver behavior is especially important for sector and overall lap performance. Adjusting the `radius` value controls how much telemetry around each turn is included, allowing you to visualize throttle and braking traces at the desired level of detail."
   ]
  },
  {
   "cell_type": "code",
   "execution_count": null,
   "id": "7f8b12b4",
   "metadata": {},
   "outputs": [],
   "source": [
    "corner_position = session.get_circuit_info().corners\n",
    "corner_position_cleaned = telemetry_cleaning.clean_circuit_corner_data(corner_position)\n",
    "\n",
    "critical_turn = [16, 14, 9]\n",
    "radius = 1500\n",
    "\n",
    "corner_position_cleaned"
   ]
  },
  {
   "cell_type": "markdown",
   "id": "be4db11a",
   "metadata": {},
   "source": [
    "For each driver, the telemetry from their fastest qualifying lap is isolated by filtering based on sector timestamps. These sector datasets are then cleaned, enriched with derived features, and filtered by turn to focus on the segments most informative for analyzing driver behavior and responses in complex areas."
   ]
  },
  {
   "cell_type": "markdown",
   "id": "58121ca6",
   "metadata": {},
   "source": [
    "Q3 data for Lando Norris, McLaren"
   ]
  },
  {
   "cell_type": "code",
   "execution_count": null,
   "id": "ff591efe",
   "metadata": {},
   "outputs": [],
   "source": [
    "q1, q2, q3 = session.get_laps(norris).split_qualifying_sessions()\n",
    "norris_q3_telemetry = session.get_telemetry(q3)\n",
    "\n",
    "sector_1_start = \"0 days 01:16:59.496000\"\n",
    "sector_1_end = \"0 days 01:17:16.260000\"\n",
    "sector_2_end = \"0 days 01:17:52.036000\"\n",
    "sector_3_end = \"0 days 01:18:21.897000\"\n",
    "\n",
    "# norris_sector1_telemetry = f1_pandas_helpers.filter_timestamp_range(norris_q3_telemetry, start=sector_1_start, end=sector_1_end)\n",
    "# norris_sector1_telemetry_cleaned = telemetry_cleaning.clean_driver_sector_telemetry(norris_sector1_telemetry, norris)\n",
    "# norris_sector1_telemetry_cleaned\n",
    "\n",
    "# norris_sector2_telemetry = f1_pandas_helpers.filter_timestamp_range(norris_q3_telemetry, start=sector_1_end, end=sector_2_end)\n",
    "# norris_sector2_telemetry_cleaned = telemetry_cleaning.clean_driver_sector_telemetry(norris_sector2_telemetry, norris)\n",
    "# norris_sector2_telemetry_cleaned\n",
    "\n",
    "norris_sector3_telemetry = f1_pandas_helpers.filter_timestamp_range(norris_q3_telemetry, start=sector_2_end, end=sector_3_end)\n",
    "norris_sector3_telemetry_cleaned = telemetry_cleaning.clean_driver_sector_telemetry(norris_sector3_telemetry, norris)\n",
    "norris_sector3_telemetry_features = feature_engineering.TelemetryFeatures(norris_sector3_telemetry_cleaned).acceleration().jerk().g_force().get_features_df()\n",
    "\n",
    "norris_corner_telemetry = telemetry_cleaning.filter_corner_telemetry(norris_sector3_telemetry_features, corner_position_cleaned, critical_turn[0], radius)\n",
    "norris_corner_telemetry"
   ]
  },
  {
   "cell_type": "markdown",
   "id": "7b47f9e9",
   "metadata": {},
   "source": [
    "Exploratory Data Analysis - Lando Norris"
   ]
  },
  {
   "cell_type": "code",
   "execution_count": null,
   "id": "f49c4e76",
   "metadata": {},
   "outputs": [],
   "source": [
    "norris_turn_dfs = [(turn, telemetry_cleaning.filter_corner_telemetry(norris_sector3_telemetry_features, corner_position_cleaned, turn, radius)) for turn in critical_turn]\n",
    "norris_eda_summary = f1_pandas_helpers.get_driver_eda_multiple_turns(norris, norris_turn_dfs)\n",
    "norris_eda_summary"
   ]
  },
  {
   "cell_type": "markdown",
   "id": "1f378105",
   "metadata": {},
   "source": [
    "Q3 data for Oscar Piastri, McLaren"
   ]
  },
  {
   "cell_type": "code",
   "execution_count": null,
   "id": "80e2ab9e",
   "metadata": {},
   "outputs": [],
   "source": [
    "q1, q2, q3 = session.get_laps(piastri).split_qualifying_sessions()\n",
    "piastri_q3_telemetry = session.get_telemetry(q3)\n",
    "\n",
    "sector_1_start = \"0 days 01:16:27.506000\"\n",
    "sector_1_end = \"0 days 01:16:44.333000\"\n",
    "sector_2_end = \"0 days 01:17:20.186000\"\n",
    "sector_3_end = \"0 days 01:17:50.110000\"\n",
    "\n",
    "# piastri_sector1_telemetry = f1_pandas_helpers.filter_timestamp_range(piastri_q3_telemetry, start=sector_1_start, end=sector_1_end)\n",
    "# piastri_sector1_telemetry_cleaned = telemetry_cleaning.clean_driver_sector_telemetry(piastri_sector1_telemetry, piastri)\n",
    "# piastri_sector1_telemetry_cleaned\n",
    "\n",
    "# piastri_sector2_telemetry = f1_pandas_helpers.filter_timestamp_range(piastri_q3_telemetry, start=sector_1_end, end=sector_2_end)\n",
    "# piastri_sector2_telemetry_cleaned = telemetry_cleaning.clean_driver_sector_telemetry(piastri_sector2_telemetry, piastri)\n",
    "# piastri_sector2_telemetry_cleaned\n",
    "\n",
    "piastri_sector3_telemetry = f1_pandas_helpers.filter_timestamp_range(piastri_q3_telemetry, start=sector_2_end, end=sector_3_end)\n",
    "piastri_sector3_telemetry_cleaned = telemetry_cleaning.clean_driver_sector_telemetry(piastri_sector3_telemetry, piastri)\n",
    "piastri_sector3_telemetry_features = feature_engineering.TelemetryFeatures(piastri_sector3_telemetry_cleaned).acceleration().jerk().g_force().get_features_df()\n",
    "\n",
    "piastri_corner_telemetry = telemetry_cleaning.filter_corner_telemetry(piastri_sector3_telemetry_features, corner_position_cleaned, critical_turn[0], radius)\n",
    "piastri_corner_telemetry"
   ]
  },
  {
   "cell_type": "markdown",
   "id": "04b59fa6",
   "metadata": {},
   "source": [
    "Exploratory Data Analysis - Oscar Piastri"
   ]
  },
  {
   "cell_type": "code",
   "execution_count": null,
   "id": "78212380",
   "metadata": {},
   "outputs": [],
   "source": [
    "piastri_turn_dfs = [(turn, telemetry_cleaning.filter_corner_telemetry(piastri_sector3_telemetry_features, corner_position_cleaned, turn, radius)) for turn in critical_turn]\n",
    "piastri_eda_summary = f1_pandas_helpers.get_driver_eda_multiple_turns(piastri, piastri_turn_dfs)\n",
    "piastri_eda_summary"
   ]
  },
  {
   "cell_type": "markdown",
   "id": "8dfa40b9",
   "metadata": {},
   "source": [
    "Q3 data for Max Verstappen, Red Bull"
   ]
  },
  {
   "cell_type": "code",
   "execution_count": null,
   "id": "a97aaa65",
   "metadata": {},
   "outputs": [],
   "source": [
    "q1, q2, q3 = session.get_laps(verstappen).split_qualifying_sessions()\n",
    "verstappen_q3_telemetry = session.get_telemetry(q3)\n",
    "\n",
    "sector_1_start = \"0 days 01:08:27.031000\"\n",
    "sector_1_end = \"0 days 01:08:44.036000\"\n",
    "sector_2_end = \"0 days 01:09:19.766000\"\n",
    "sector_3_end = \"0 days 01:09:49.959000\"\n",
    "\n",
    "# verstappen_sector1_telemetry = f1_pandas_helpers.filter_timestamp_range(verstappen_q3_telemetry, start=sector_1_start, end=sector_1_end)\n",
    "# verstappen_sector1_telemetry_cleaned = telemetry_cleaning.clean_driver_sector_telemetry(verstappen_sector1_telemetry, verstappen)\n",
    "# verstappen_sector1_telemetry_cleaned\n",
    "\n",
    "# verstappen_sector2_telemetry = f1_pandas_helpers.filter_timestamp_range(verstappen_q3_telemetry, start=sector_1_end, end=sector_2_end)\n",
    "# verstappen_sector2_telemetry_cleaned = telemetry_cleaning.clean_driver_sector_telemetry(verstappen_sector2_telemetry, verstappen)\n",
    "# verstappen_sector2_telemetry_cleaned\n",
    "\n",
    "verstappen_sector3_telemetry = f1_pandas_helpers.filter_timestamp_range(verstappen_q3_telemetry, start=sector_2_end, end=sector_3_end)\n",
    "verstappen_sector3_telemetry_cleaned = telemetry_cleaning.clean_driver_sector_telemetry(verstappen_sector3_telemetry, verstappen)\n",
    "verstappen_sector3_telemetry_features = feature_engineering.TelemetryFeatures(verstappen_sector3_telemetry_cleaned).acceleration().jerk().g_force().get_features_df()\n",
    "\n",
    "verstappen_corner_telemetry = telemetry_cleaning.filter_corner_telemetry(verstappen_sector3_telemetry_features, corner_position_cleaned, critical_turn[0], radius)\n",
    "verstappen_corner_telemetry\n"
   ]
  },
  {
   "cell_type": "markdown",
   "id": "98d69aeb",
   "metadata": {},
   "source": [
    "Exploratory Data Analysis - Max Verstappen"
   ]
  },
  {
   "cell_type": "code",
   "execution_count": null,
   "id": "56866b54",
   "metadata": {},
   "outputs": [],
   "source": [
    "verstappen_turn_dfs = [(turn, telemetry_cleaning.filter_corner_telemetry(verstappen_sector3_telemetry_features, corner_position_cleaned, turn, radius)) for turn in critical_turn]\n",
    "verstappen_eda_summary = f1_pandas_helpers.get_driver_eda_multiple_turns(verstappen, verstappen_turn_dfs)\n",
    "verstappen_eda_summary"
   ]
  },
  {
   "cell_type": "markdown",
   "id": "2d2a2e86",
   "metadata": {},
   "source": [
    "Q3 data for Sergio Perez, Red Bull"
   ]
  },
  {
   "cell_type": "code",
   "execution_count": null,
   "id": "2dece56f",
   "metadata": {},
   "outputs": [],
   "source": [
    "q1, q2, q3 = session.get_laps(perez).split_qualifying_sessions()\n",
    "perez_q3_telemetry = session.get_telemetry(q3)\n",
    "\n",
    "sector_1_start = \"0 days 01:14:50.040000\"\n",
    "sector_1_end = \"0 days 01:15:06.945000\"\n",
    "sector_2_end = \"0 days 01:15:42.890000\"\n",
    "sector_3_end = \"0 days 01:16:13.127000\"\n",
    "\n",
    "# perez_sector1_telemetry = f1_pandas_helpers.filter_timestamp_range(perez_q3_telemetry, start=sector_1_start, end=sector_1_end)\n",
    "# perez_sector1_telemetry_cleaned = telemetry_cleaning.clean_driver_sector_telemetry(perez_sector1_telemetry, perez)\n",
    "# perez_sector1_telemetry_cleaned\n",
    "\n",
    "# perez_sector2_telemetry = f1_pandas_helpers.filter_timestamp_range(perez_q3_telemetry, start=sector_1_end, end=sector_2_end)\n",
    "# perez_sector2_telemetry_cleaned = telemetry_cleaning.clean_driver_sector_telemetry(perez_sector2_telemetry, perez)\n",
    "# perez_sector2_telemetry_cleaned\n",
    "\n",
    "perez_sector3_telemetry = f1_pandas_helpers.filter_timestamp_range(perez_q3_telemetry, start=sector_2_end, end=sector_3_end)\n",
    "perez_sector3_telemetry_cleaned = telemetry_cleaning.clean_driver_sector_telemetry(perez_sector3_telemetry, perez)\n",
    "perez_sector3_telemetry_features = feature_engineering.TelemetryFeatures(perez_sector3_telemetry_cleaned).acceleration().jerk().g_force().get_features_df()\n",
    "\n",
    "perez_corner_telemetry = telemetry_cleaning.filter_corner_telemetry(perez_sector3_telemetry_features, corner_position_cleaned, critical_turn[0], radius)\n",
    "perez_corner_telemetry"
   ]
  },
  {
   "cell_type": "markdown",
   "id": "620fdcb4",
   "metadata": {},
   "source": [
    "Exploratory Data Analysis - Sergio Perez"
   ]
  },
  {
   "cell_type": "code",
   "execution_count": null,
   "id": "dafff830",
   "metadata": {},
   "outputs": [],
   "source": [
    "perez_turn_dfs = [(turn, telemetry_cleaning.filter_corner_telemetry(perez_sector3_telemetry_features, corner_position_cleaned, turn, radius)) for turn in critical_turn]\n",
    "perez_eda_summary = f1_pandas_helpers.get_driver_eda_multiple_turns(perez, perez_turn_dfs)\n",
    "perez_eda_summary"
   ]
  },
  {
   "cell_type": "markdown",
   "id": "e8ecfd30",
   "metadata": {},
   "source": [
    "Q3 data for Carlos Sainz, Ferrari"
   ]
  },
  {
   "cell_type": "code",
   "execution_count": null,
   "id": "42e9f037",
   "metadata": {},
   "outputs": [],
   "source": [
    "q1, q2, q3 = session.get_laps(sainz).split_qualifying_sessions()\n",
    "sainz_q3_telemetry = session.get_telemetry(q3)\n",
    "\n",
    "sector_1_start = \"0 days 01:16:53.219000\"\n",
    "sector_1_end = \"0 days 01:17:10.014000\"\n",
    "sector_2_end = \"0 days 01:17:45.801000\"\n",
    "sector_3_end = \"0 days 01:18:15.858000\"\n",
    "\n",
    "# sainz_sector1_telemetry = f1_pandas_helpers.filter_timestamp_range(sainz_q3_telemetry, start=sector_1_start, end=sector_1_end)\n",
    "# sainz_sector1_telemetry_cleaned = telemetry_cleaning.clean_driver_sector_telemetry(sainz_sector1_telemetry, sainz)\n",
    "# sainz_sector1_telemetry_cleaned\n",
    "\n",
    "# sainz_sector2_telemetry = f1_pandas_helpers.filter_timestamp_range(sainz_q3_telemetry, start=sector_1_end, end=sector_2_end)\n",
    "# sainz_sector2_telemetry_cleaned = telemetry_cleaning.clean_driver_sector_telemetry(sainz_sector2_telemetry, sainz)\n",
    "# sainz_sector2_telemetry_cleaned\n",
    "\n",
    "sainz_sector3_telemetry = f1_pandas_helpers.filter_timestamp_range(sainz_q3_telemetry, start=sector_2_end, end=sector_3_end)\n",
    "sainz_sector3_telemetry_cleaned = telemetry_cleaning.clean_driver_sector_telemetry(sainz_sector3_telemetry, sainz)\n",
    "sainz_sector3_telemetry_features = feature_engineering.TelemetryFeatures(sainz_sector3_telemetry_cleaned).acceleration().jerk().g_force().get_features_df()\n",
    "\n",
    "sainz_corner_telemetry = telemetry_cleaning.filter_corner_telemetry(sainz_sector3_telemetry_features, corner_position_cleaned, critical_turn[0], radius)\n",
    "sainz_corner_telemetry"
   ]
  },
  {
   "cell_type": "markdown",
   "id": "5e4cbed4",
   "metadata": {},
   "source": [
    "Exploratory Data Analysis - Carlos Sainz"
   ]
  },
  {
   "cell_type": "code",
   "execution_count": null,
   "id": "2613feb4",
   "metadata": {},
   "outputs": [],
   "source": [
    "sainz_turn_dfs = [(turn, telemetry_cleaning.filter_corner_telemetry(sainz_sector3_telemetry_features, corner_position_cleaned, turn, radius)) for turn in critical_turn]\n",
    "sainz_eda_summary = f1_pandas_helpers.get_driver_eda_multiple_turns(sainz, sainz_turn_dfs)\n",
    "sainz_eda_summary"
   ]
  },
  {
   "cell_type": "markdown",
   "id": "5d836600",
   "metadata": {},
   "source": [
    "Q2 data for Charles Leclerc, Ferrari"
   ]
  },
  {
   "cell_type": "code",
   "execution_count": null,
   "id": "4cb92159",
   "metadata": {},
   "outputs": [],
   "source": [
    "q1, q2, q3 = session.get_laps(leclerc).split_qualifying_sessions()\n",
    "leclerc_q2_telemetry = session.get_telemetry(q2)\n",
    "\n",
    "sector_1_start = \"0 days 00:57:03.473000\"\n",
    "sector_1_end = \"0 days 00:57:20.332000\"\n",
    "sector_2_end = \"0 days 00:57:56.296000\"\n",
    "sector_3_end = \"0 days 00:58:26.338000\"\n",
    "\n",
    "# leclerc_sector1_telemetry = f1_pandas_helpers.filter_timestamp_range(leclerc_q2_telemetry, start=sector_1_start, end=sector_1_end)\n",
    "# leclerc_sector1_telemetry_cleaned = telemetry_cleaning.clean_driver_sector_telemetry(leclerc_sector1_telemetry, leclerc)\n",
    "# leclerc_sector1_telemetry_cleaned\n",
    "\n",
    "# leclerc_sector2_telemetry = f1_pandas_helpers.filter_timestamp_range(leclerc_q2_telemetry, start=sector_1_end, end=sector_2_end)\n",
    "# leclerc_sector2_telemetry_cleaned = telemetry_cleaning.clean_driver_sector_telemetry(leclerc_sector2_telemetry, leclerc)\n",
    "# leclerc_sector2_telemetry_cleaned\n",
    "\n",
    "leclerc_sector3_telemetry = f1_pandas_helpers.filter_timestamp_range(leclerc_q2_telemetry, start=sector_2_end, end=sector_3_end)\n",
    "leclerc_sector3_telemetry_cleaned = telemetry_cleaning.clean_driver_sector_telemetry(leclerc_sector3_telemetry, leclerc)\n",
    "leclerc_sector3_telemetry_features = feature_engineering.TelemetryFeatures(leclerc_sector3_telemetry_cleaned).acceleration().jerk().g_force().get_features_df()\n",
    "\n",
    "leclerc_corner_telemetry = telemetry_cleaning.filter_corner_telemetry(leclerc_sector3_telemetry_features, corner_position_cleaned, critical_turn[0], radius)\n",
    "leclerc_corner_telemetry"
   ]
  },
  {
   "cell_type": "markdown",
   "id": "186538d6",
   "metadata": {},
   "source": [
    "Exploratory Data Analysis - Charles Leclerc"
   ]
  },
  {
   "cell_type": "code",
   "execution_count": null,
   "id": "873b8a40",
   "metadata": {},
   "outputs": [],
   "source": [
    "leclerc_turn_dfs = [(turn, telemetry_cleaning.filter_corner_telemetry(leclerc_sector3_telemetry_features, corner_position_cleaned, turn, radius)) for turn in critical_turn]\n",
    "leclerc_eda_summary = f1_pandas_helpers.get_driver_eda_multiple_turns(leclerc, leclerc_turn_dfs)\n",
    "leclerc_eda_summary"
   ]
  },
  {
   "cell_type": "markdown",
   "id": "24a0c44f",
   "metadata": {},
   "source": [
    "Q3 data for Valtteri Bottas, Alfa Romeo"
   ]
  },
  {
   "cell_type": "code",
   "execution_count": null,
   "id": "1551aed8",
   "metadata": {},
   "outputs": [],
   "source": [
    "q1, q2, q3 = session.get_laps(bottas).split_qualifying_sessions()\n",
    "bottas_q3_telemetry = session.get_telemetry(q3)\n",
    "\n",
    "sector_1_start = \"0 days 01:15:46.639000\"\n",
    "sector_1_end = \"0 days 01:16:03.650000\"\n",
    "sector_2_end = \"0 days 01:16:39.552000\"\n",
    "sector_3_end = \"0 days 01:17:09.702000\"\n",
    "\n",
    "# bottas_sector1_telemetry = f1_pandas_helpers.filter_timestamp_range(bottas_q3_telemetry, start=sector_1_start, end=sector_1_end)\n",
    "# bottas_sector1_telemetry_cleaned = telemetry_cleaning.clean_driver_sector_telemetry(bottas_sector1_telemetry, bottas)\n",
    "# bottas_sector1_telemetry_cleaned\n",
    "\n",
    "# bottas_sector2_telemetry = f1_pandas_helpers.filter_timestamp_range(bottas_q3_telemetry, start=sector_1_end, end=sector_2_end)\n",
    "# bottas_sector2_telemetry_cleaned = telemetry_cleaning.clean_driver_sector_telemetry(bottas_sector2_telemetry, bottas)\n",
    "# bottas_sector2_telemetry_cleaned\n",
    "\n",
    "bottas_sector3_telemetry = f1_pandas_helpers.filter_timestamp_range(bottas_q3_telemetry, start=sector_2_end, end=sector_3_end)\n",
    "bottas_sector3_telemetry_cleaned = telemetry_cleaning.clean_driver_sector_telemetry(bottas_sector3_telemetry, bottas)\n",
    "bottas_sector3_telemetry_features = feature_engineering.TelemetryFeatures(bottas_sector3_telemetry_cleaned).acceleration().jerk().g_force().get_features_df()\n",
    "\n",
    "bottas_corner_telemetry = telemetry_cleaning.filter_corner_telemetry(bottas_sector3_telemetry_features, corner_position_cleaned, critical_turn[0], radius)\n",
    "bottas_corner_telemetry"
   ]
  },
  {
   "cell_type": "markdown",
   "id": "04846182",
   "metadata": {},
   "source": [
    "Exploratory Data Analysis - Valtteri Bottas"
   ]
  },
  {
   "cell_type": "code",
   "execution_count": null,
   "id": "bd1bda22",
   "metadata": {},
   "outputs": [],
   "source": [
    "bottas_turn_dfs = [(turn, telemetry_cleaning.filter_corner_telemetry(bottas_sector3_telemetry_features, corner_position_cleaned, turn, radius)) for turn in critical_turn]\n",
    "bottas_eda_summary = f1_pandas_helpers.get_driver_eda_multiple_turns(bottas, bottas_turn_dfs)\n",
    "bottas_eda_summary"
   ]
  },
  {
   "cell_type": "markdown",
   "id": "83a19945",
   "metadata": {},
   "source": [
    "Q3 data for Fernando Alonso, Aston Martin"
   ]
  },
  {
   "cell_type": "code",
   "execution_count": null,
   "id": "4fef75ad",
   "metadata": {},
   "outputs": [],
   "source": [
    "q1, q2, q3 = session.get_laps(alonso).split_qualifying_sessions()\n",
    "alonso_q3_telemetry = session.get_telemetry(q3)\n",
    "\n",
    "sector_1_start = \"0 days 01:16:45.371000\"\n",
    "sector_1_end = \"0 days 01:17:02.191000\"\n",
    "sector_2_end = \"0 days 01:17:38.197000\"\n",
    "sector_3_end = \"0 days 01:18:08.377000\"\n",
    "\n",
    "# alonso_sector1_telemetry = f1_pandas_helpers.filter_timestamp_range(alonso_q3_telemetry, start=sector_1_start, end=sector_1_end)\n",
    "# alonso_sector1_telemetry_cleaned = telemetry_cleaning.clean_driver_sector_telemetry(alonso_sector1_telemetry, alonso)\n",
    "# alonso_sector1_telemetry_cleaned\n",
    "\n",
    "# alonso_sector2_telemetry = f1_pandas_helpers.filter_timestamp_range(alonso_q3_telemetry, start=sector_1_end, end=sector_2_end)\n",
    "# alonso_sector2_telemetry_cleaned = telemetry_cleaning.clean_driver_sector_telemetry(alonso_sector2_telemetry, alonso)\n",
    "# alonso_sector2_telemetry_cleaned\n",
    "\n",
    "alonso_sector3_telemetry = f1_pandas_helpers.filter_timestamp_range(alonso_q3_telemetry, start=sector_2_end, end=sector_3_end)\n",
    "alonso_sector3_telemetry_cleaned = telemetry_cleaning.clean_driver_sector_telemetry(alonso_sector3_telemetry, alonso)\n",
    "alonso_sector3_telemetry_features = feature_engineering.TelemetryFeatures(alonso_sector3_telemetry_cleaned).acceleration().jerk().g_force().get_features_df()\n",
    "\n",
    "alonso_corner_telemetry = telemetry_cleaning.filter_corner_telemetry(alonso_sector3_telemetry_features, corner_position_cleaned, critical_turn[2], radius)\n",
    "alonso_corner_telemetry"
   ]
  },
  {
   "cell_type": "markdown",
   "id": "dae5425a",
   "metadata": {},
   "source": [
    "Exploratory Data Analysis - Fernando Alonso"
   ]
  },
  {
   "cell_type": "code",
   "execution_count": null,
   "id": "d63dca0c",
   "metadata": {},
   "outputs": [],
   "source": [
    "alonso_turn_dfs = [(turn, telemetry_cleaning.filter_corner_telemetry(alonso_sector3_telemetry_features, corner_position_cleaned, turn, radius)) for turn in critical_turn]\n",
    "alonso_eda_summary = f1_pandas_helpers.get_driver_eda_multiple_turns(alonso, alonso_turn_dfs)\n",
    "alonso_eda_summary"
   ]
  },
  {
   "cell_type": "markdown",
   "id": "6dd5b6c3",
   "metadata": {},
   "source": [
    "Q2 data for Lance Stroll, Aston Martin"
   ]
  },
  {
   "cell_type": "code",
   "execution_count": null,
   "id": "a93b9cc4",
   "metadata": {},
   "outputs": [],
   "source": [
    "q1, q2, q3 = session.get_laps(stroll).split_qualifying_sessions()\n",
    "stroll_q2_telemetry = session.get_telemetry(q2)\n",
    "\n",
    "sector_1_start = \"0 days 00:56:38.573000\"\n",
    "sector_1_end = \"0 days 00:56:55.483000\"\n",
    "sector_2_end = \"0 days 00:57:31.468000\"\n",
    "sector_3_end = \"0 days 00:58:02.147000\"\n",
    "\n",
    "# stroll_sector1_telemetry = f1_pandas_helpers.filter_timestamp_range(stroll_q2_telemetry, start=sector_1_start, end=sector_1_end)\n",
    "# stroll_sector1_telemetry_cleaned = telemetry_cleaning.clean_driver_sector_telemetry(stroll_sector1_telemetry, stroll)\n",
    "# stroll_sector1_telemetry_cleaned\n",
    "\n",
    "# stroll_sector2_telemetry = f1_pandas_helpers.filter_timestamp_range(stroll_q2_telemetry, start=sector_1_end, end=sector_2_end)\n",
    "# stroll_sector2_telemetry_cleaned = telemetry_cleaning.clean_driver_sector_telemetry(stroll_sector2_telemetry, stroll)\n",
    "# stroll_sector2_telemetry_cleaned\n",
    "\n",
    "stroll_sector3_telemetry = f1_pandas_helpers.filter_timestamp_range(stroll_q2_telemetry, start=sector_2_end, end=sector_3_end)\n",
    "stroll_sector3_telemetry_cleaned = telemetry_cleaning.clean_driver_sector_telemetry(stroll_sector3_telemetry, stroll)\n",
    "stroll_sector3_telemetry_features = feature_engineering.TelemetryFeatures(stroll_sector3_telemetry_cleaned).acceleration().jerk().g_force().get_features_df()\n",
    "\n",
    "stroll_corner_telemetry = telemetry_cleaning.filter_corner_telemetry(stroll_sector3_telemetry_features, corner_position_cleaned, critical_turn[0], radius)\n",
    "stroll_corner_telemetry"
   ]
  },
  {
   "cell_type": "markdown",
   "id": "bdeb83c1",
   "metadata": {},
   "source": [
    "Exploratory Data Analysis - Lance Stroll"
   ]
  },
  {
   "cell_type": "code",
   "execution_count": null,
   "id": "97c9ae6a",
   "metadata": {},
   "outputs": [],
   "source": [
    "stroll_turn_dfs = [(turn, telemetry_cleaning.filter_corner_telemetry(stroll_sector3_telemetry_features, corner_position_cleaned, turn, radius)) for turn in critical_turn]\n",
    "stroll_eda_summary = f1_pandas_helpers.get_driver_eda_multiple_turns(stroll, stroll_turn_dfs)\n",
    "stroll_eda_summary"
   ]
  },
  {
   "cell_type": "markdown",
   "id": "e37f4964",
   "metadata": {},
   "source": [
    "Q3 data for Pierre Gasly, Alpine"
   ]
  },
  {
   "cell_type": "code",
   "execution_count": null,
   "id": "8fab997d",
   "metadata": {},
   "outputs": [],
   "source": [
    "q1, q2, q3 = session.get_laps(gasly).split_qualifying_sessions()\n",
    "gasly_q3_telemetry = session.get_telemetry(q3)\n",
    "\n",
    "sector_1_start = \"0 days 01:16:18.040000\"\n",
    "sector_1_end = \"0 days 01:16:34.989000\"\n",
    "sector_2_end = \"0 days 01:17:10.860000\"\n",
    "sector_3_end = \"0 days 01:17:40.892000\"\n",
    "\n",
    "# gasly_sector1_telemetry = f1_pandas_helpers.filter_timestamp_range(gasly_q3_telemetry, start=sector_1_start, end=sector_1_end)\n",
    "# gasly_sector1_telemetry_cleaned = telemetry_cleaning.clean_driver_sector_telemetry(gasly_sector1_telemetry, gasly)\n",
    "# gasly_sector1_telemetry_cleaned\n",
    "\n",
    "# gasly_sector2_telemetry = f1_pandas_helpers.filter_timestamp_range(gasly_q3_telemetry, start=sector_1_end, end=sector_2_end)\n",
    "# gasly_sector2_telemetry_cleaned = telemetry_cleaning.clean_driver_sector_telemetry(gasly_sector2_telemetry, gasly)\n",
    "# gasly_sector2_telemetry_cleaned\n",
    "\n",
    "gasly_sector3_telemetry = f1_pandas_helpers.filter_timestamp_range(gasly_q3_telemetry, start=sector_2_end, end=sector_3_end)\n",
    "gasly_sector3_telemetry_cleaned = telemetry_cleaning.clean_driver_sector_telemetry(gasly_sector3_telemetry, gasly)\n",
    "gasly_sector3_telemetry_features = feature_engineering.TelemetryFeatures(gasly_sector3_telemetry_cleaned).acceleration().jerk().g_force().get_features_df()\n",
    "\n",
    "stroll_corner_telemetry = telemetry_cleaning.filter_corner_telemetry(gasly_sector3_telemetry_features, corner_position_cleaned, critical_turn[0], radius)\n",
    "stroll_corner_telemetry"
   ]
  },
  {
   "cell_type": "markdown",
   "id": "0cf663f5",
   "metadata": {},
   "source": [
    "Exploratory Data Analysis - Pierre Gasly"
   ]
  },
  {
   "cell_type": "code",
   "execution_count": null,
   "id": "f513938e",
   "metadata": {},
   "outputs": [],
   "source": [
    "gasly_turn_dfs = [(turn, telemetry_cleaning.filter_corner_telemetry(gasly_sector3_telemetry_features, corner_position_cleaned, turn, radius)) for turn in critical_turn]\n",
    "gasly_eda_summary = f1_pandas_helpers.get_driver_eda_multiple_turns(gasly, gasly_turn_dfs)\n",
    "gasly_eda_summary"
   ]
  },
  {
   "cell_type": "markdown",
   "id": "294ab1ca",
   "metadata": {},
   "source": [
    "Q3 data for Nico Hulkenberg, Haas"
   ]
  },
  {
   "cell_type": "code",
   "execution_count": null,
   "id": "a39ad74a",
   "metadata": {},
   "outputs": [],
   "source": [
    "q1, q2, q3 = session.get_laps(hulkenberg).split_qualifying_sessions()\n",
    "hulkenberg_q3_telemetry = session.get_telemetry(q3)\n",
    "\n",
    "sector_1_start = \"0 days 01:16:03.696000\"\n",
    "sector_1_end = \"0 days 01:16:20.651000\"\n",
    "sector_2_end = \"0 days 01:16:56.369000\"\n",
    "sector_3_end = \"0 days 01:17:26.431000\"\n",
    "\n",
    "# hulkenberg_sector1_telemetry = f1_pandas_helpers.filter_timestamp_range(hulkenberg_q3_telemetry, start=sector_1_start, end=sector_1_end)\n",
    "# hulkenberg_sector1_telemetry_cleaned = telemetry_cleaning.clean_driver_sector_telemetry(hulkenberg_sector1_telemetry, hulkenberg)\n",
    "# hulkenberg_sector1_telemetry_cleaned\n",
    "\n",
    "# hulkenberg_sector2_telemetry = f1_pandas_helpers.filter_timestamp_range(hulkenberg_q3_telemetry, start=sector_1_end, end=sector_2_end)\n",
    "# hulkenberg_sector2_telemetry_cleaned = telemetry_cleaning.clean_driver_sector_telemetry(hulkenberg_sector2_telemetry, hulkenberg)\n",
    "# hulkenberg_sector2_telemetry_cleaned\n",
    "\n",
    "hulkenberg_sector3_telemetry = f1_pandas_helpers.filter_timestamp_range(hulkenberg_q3_telemetry, start=sector_2_end, end=sector_3_end)\n",
    "hulkenberg_sector3_telemetry_cleaned = telemetry_cleaning.clean_driver_sector_telemetry(hulkenberg_sector3_telemetry, hulkenberg)\n",
    "hulkenberg_sector3_telemetry_features = feature_engineering.TelemetryFeatures(hulkenberg_sector3_telemetry_cleaned).acceleration().jerk().g_force().get_features_df()\n",
    "\n",
    "hulkenberg_corner_telemetry = telemetry_cleaning.filter_corner_telemetry(hulkenberg_sector3_telemetry_features, corner_position_cleaned, critical_turn[0], radius)\n",
    "hulkenberg_corner_telemetry"
   ]
  },
  {
   "cell_type": "markdown",
   "id": "d1808692",
   "metadata": {},
   "source": [
    "Exploratory Data Analysis - Nico Hulkenberg"
   ]
  },
  {
   "cell_type": "code",
   "execution_count": null,
   "id": "a444cc45",
   "metadata": {},
   "outputs": [],
   "source": [
    "hulkenberg_turn_dfs = [(turn, telemetry_cleaning.filter_corner_telemetry(hulkenberg_sector3_telemetry_features, corner_position_cleaned, turn, radius)) for turn in critical_turn]\n",
    "hulkenberg_eda_summary = f1_pandas_helpers.get_driver_eda_multiple_turns(hulkenberg, hulkenberg_turn_dfs)\n",
    "hulkenberg_eda_summary"
   ]
  },
  {
   "cell_type": "markdown",
   "id": "ec91949e",
   "metadata": {},
   "source": [
    "Q2 data for Kevin Magnussen, Haas"
   ]
  },
  {
   "cell_type": "code",
   "execution_count": null,
   "id": "c6e0bd74",
   "metadata": {},
   "outputs": [],
   "source": [
    "q1, q2, q3 = session.get_laps(magnussen).split_qualifying_sessions()\n",
    "magnussen_q2_telemetry = session.get_telemetry(q2)\n",
    "\n",
    "sector_1_start = \"0 days 00:55:34.175000\"\n",
    "sector_1_end = \"0 days 00:55:51.220000\"\n",
    "sector_2_end = \"0 days 00:56:27.265000\"\n",
    "sector_3_end = \"0 days 00:56:57.907000\"\n",
    "\n",
    "# magnussen_sector1_telemetry = f1_pandas_helpers.filter_timestamp_range(magnussen_q2_telemetry, start=sector_1_start, end=sector_1_end)\n",
    "# magnussen_sector1_telemetry_cleaned = telemetry_cleaning.clean_driver_sector_telemetry(magnussen_sector1_telemetry, magnussen)\n",
    "# magnussen_sector1_telemetry_cleaned\n",
    "\n",
    "# magnussen_sector2_telemetry = f1_pandas_helpers.filter_timestamp_range(magnussen_q2_telemetry, start=sector_1_end, end=sector_2_end)\n",
    "# magnussen_sector2_telemetry_cleaned = telemetry_cleaning.clean_driver_sector_telemetry(magnussen_sector2_telemetry, magnussen)\n",
    "# magnussen_sector2_telemetry_cleaned\n",
    "\n",
    "magnussen_sector3_telemetry = f1_pandas_helpers.filter_timestamp_range(magnussen_q2_telemetry, start=sector_2_end, end=sector_3_end)\n",
    "magnussen_sector3_telemetry_cleaned = telemetry_cleaning.clean_driver_sector_telemetry(magnussen_sector3_telemetry, magnussen)\n",
    "magnussen_sector3_telemetry_features = feature_engineering.TelemetryFeatures(magnussen_sector3_telemetry_cleaned).acceleration().jerk().g_force().get_features_df()\n",
    "\n",
    "magnussen_corner_telemetry = telemetry_cleaning.filter_corner_telemetry(magnussen_sector3_telemetry_features, corner_position_cleaned, critical_turn[0], radius)\n",
    "magnussen_corner_telemetry"
   ]
  },
  {
   "cell_type": "markdown",
   "id": "97d330d5",
   "metadata": {},
   "source": [
    "Exploratory Data Analysis - Kevin Magnussen"
   ]
  },
  {
   "cell_type": "code",
   "execution_count": null,
   "id": "a8725ea6",
   "metadata": {},
   "outputs": [],
   "source": [
    "magnussen_turn_dfs = [(turn, telemetry_cleaning.filter_corner_telemetry(magnussen_sector3_telemetry_features, corner_position_cleaned, turn, radius)) for turn in critical_turn]\n",
    "magnussen_eda_summary = f1_pandas_helpers.get_driver_eda_multiple_turns(magnussen, magnussen_turn_dfs)\n",
    "magnussen_eda_summary"
   ]
  },
  {
   "cell_type": "markdown",
   "id": "b5b3b5b8",
   "metadata": {},
   "source": [
    "Q2 data for Liam Lawson, Visa CashApp"
   ]
  },
  {
   "cell_type": "code",
   "execution_count": null,
   "id": "2d23d359",
   "metadata": {},
   "outputs": [],
   "source": [
    "q1, q2, q3 = session.get_laps(lawson).split_qualifying_sessions()\n",
    "lawson_q2_telemetry = session.get_telemetry(q2)\n",
    "\n",
    "sector_1_start = \"0 days 00:57:38.695000\"\n",
    "sector_1_end = \"0 days 00:57:55.568000\"\n",
    "sector_2_end = \"0 days 00:58:31.626000\"\n",
    "sector_3_end = \"0 days 00:59:01.907000\"\n",
    "\n",
    "# lawson_sector1_telemetry = f1_pandas_helpers.filter_timestamp_range(lawson_q2_telemetry, start=sector_1_start, end=sector_1_end)\n",
    "# lawson_sector1_telemetry_cleaned = telemetry_cleaning.clean_driver_sector_telemetry(lawson_sector1_telemetry, lawson)\n",
    "# lawson_sector1_telemetry_cleaned\n",
    "\n",
    "# lawson_sector2_telemetry = f1_pandas_helpers.filter_timestamp_range(lawson_q2_telemetry, start=sector_1_end, end=sector_2_end)\n",
    "# lawson_sector2_telemetry_cleaned = telemetry_cleaning.clean_driver_sector_telemetry(lawson_sector2_telemetry, lawson)\n",
    "# lawson_sector2_telemetry_cleaned\n",
    "\n",
    "lawson_sector3_telemetry = f1_pandas_helpers.filter_timestamp_range(lawson_q2_telemetry, start=sector_2_end, end=sector_3_end)\n",
    "lawson_sector3_telemetry_cleaned = telemetry_cleaning.clean_driver_sector_telemetry(lawson_sector3_telemetry, lawson)\n",
    "lawson_sector3_telemetry_features = feature_engineering.TelemetryFeatures(lawson_sector3_telemetry_cleaned).acceleration().jerk().g_force().get_features_df()\n",
    "\n",
    "lawson_corner_telemetry = telemetry_cleaning.filter_corner_telemetry(lawson_sector3_telemetry_features, corner_position_cleaned, critical_turn[0], radius)\n",
    "lawson_corner_telemetry"
   ]
  },
  {
   "cell_type": "markdown",
   "id": "ec95066d",
   "metadata": {},
   "source": [
    "Exploratory Data Analysis - Liam Lawson"
   ]
  },
  {
   "cell_type": "code",
   "execution_count": null,
   "id": "1410910e",
   "metadata": {},
   "outputs": [],
   "source": [
    "lawson_turn_dfs = [(turn, telemetry_cleaning.filter_corner_telemetry(lawson_sector3_telemetry_features, corner_position_cleaned, turn, radius)) for turn in critical_turn]\n",
    "lawson_eda_summary = f1_pandas_helpers.get_driver_eda_multiple_turns(lawson, lawson_turn_dfs)\n",
    "lawson_eda_summary"
   ]
  },
  {
   "cell_type": "markdown",
   "id": "3722c76e",
   "metadata": {},
   "source": [
    "Q2 data for Yuki Tsunoda, Visa CashApp"
   ]
  },
  {
   "cell_type": "code",
   "execution_count": null,
   "id": "826b8750",
   "metadata": {},
   "outputs": [],
   "source": [
    "q1, q2, q3 = session.get_laps(tsunoda).split_qualifying_sessions()\n",
    "tsunoda_q2_telemetry = session.get_telemetry(q2)\n",
    "\n",
    "sector_1_start = \"0 days 00:57:26.587000\"\n",
    "sector_1_end = \"0 days 00:57:43.456000\"\n",
    "sector_2_end = \"0 days 00:58:19.489000\"\n",
    "sector_3_end = \"0 days 00:58:49.753000\"\n",
    "\n",
    "# tsunoda_sector1_telemetry = f1_pandas_helpers.filter_timestamp_range(tsunoda_q2_telemetry, start=sector_1_start, end=sector_1_end)\n",
    "# tsunoda_sector1_telemetry_cleaned = telemetry_cleaning.clean_driver_sector_telemetry(tsunoda_sector1_telemetry, tsunoda)\n",
    "# tsunoda_sector1_telemetry_cleaned\n",
    "\n",
    "# tsunoda_sector2_telemetry = f1_pandas_helpers.filter_timestamp_range(tsunoda_q2_telemetry, start=sector_1_end, end=sector_2_end)\n",
    "# tsunoda_sector2_telemetry_cleaned = telemetry_cleaning.clean_driver_sector_telemetry(tsunoda_sector2_telemetry, tsunoda)\n",
    "# tsunoda_sector2_telemetry_cleaned\n",
    "\n",
    "tsunoda_sector3_telemetry = f1_pandas_helpers.filter_timestamp_range(tsunoda_q2_telemetry, start=sector_2_end, end=sector_3_end)\n",
    "tsunoda_sector3_telemetry_cleaned = telemetry_cleaning.clean_driver_sector_telemetry(tsunoda_sector3_telemetry, tsunoda)\n",
    "tsunoda_sector3_telemetry_features = feature_engineering.TelemetryFeatures(tsunoda_sector3_telemetry_cleaned).acceleration().jerk().g_force().get_features_df()\n",
    "\n",
    "tsunoda_corner_telemetry = telemetry_cleaning.filter_corner_telemetry(tsunoda_sector3_telemetry_features, corner_position_cleaned, critical_turn[0], radius)\n",
    "tsunoda_corner_telemetry"
   ]
  },
  {
   "cell_type": "markdown",
   "id": "f3716b46",
   "metadata": {},
   "source": [
    "Exploratory Data Analysis - Yuki Tsunoda"
   ]
  },
  {
   "cell_type": "code",
   "execution_count": null,
   "id": "bf560083",
   "metadata": {},
   "outputs": [],
   "source": [
    "tsunoda_turn_dfs = [(turn, telemetry_cleaning.filter_corner_telemetry(tsunoda_sector3_telemetry_features, corner_position_cleaned, turn, radius)) for turn in critical_turn]\n",
    "tsunoda_eda_summary = f1_pandas_helpers.get_driver_eda_multiple_turns(tsunoda, tsunoda_turn_dfs)\n",
    "tsunoda_eda_summary"
   ]
  },
  {
   "cell_type": "markdown",
   "id": "e789a3d9",
   "metadata": {},
   "source": [
    "Q3 data for George Russell, Mercedes"
   ]
  },
  {
   "cell_type": "code",
   "execution_count": null,
   "id": "90bf1fe1",
   "metadata": {},
   "outputs": [],
   "source": [
    "q1, q2, q3 = session.get_laps(russell).split_qualifying_sessions()\n",
    "russell_q3_telemetry = session.get_telemetry(q3)\n",
    "\n",
    "sector_1_start = \"0 days 01:17:14.677000\"\n",
    "sector_1_end = \"0 days 01:17:31.522000\"\n",
    "sector_2_end = \"0 days 01:18:07.527000\"\n",
    "sector_3_end = \"0 days 01:18:37.566000\"\n",
    "\n",
    "# russell_sector1_telemetry = f1_pandas_helpers.filter_timestamp_range(russell_q3_telemetry, start=sector_1_start, end=sector_1_end)\n",
    "# russell_sector1_telemetry_cleaned = telemetry_cleaning.clean_driver_sector_telemetry(russell_sector1_telemetry, russell)\n",
    "# russell_sector1_telemetry_cleaned\n",
    "\n",
    "# russell_sector2_telemetry = f1_pandas_helpers.filter_timestamp_range(russell_q3_telemetry, start=sector_1_end, end=sector_2_end)\n",
    "# russell_sector2_telemetry_cleaned = telemetry_cleaning.clean_driver_sector_telemetry(russell_sector2_telemetry, russell)\n",
    "# russell_sector2_telemetry_cleaned\n",
    "\n",
    "russell_sector3_telemetry = f1_pandas_helpers.filter_timestamp_range(russell_q3_telemetry, start=sector_2_end, end=sector_3_end)\n",
    "russell_sector3_telemetry_cleaned = telemetry_cleaning.clean_driver_sector_telemetry(russell_sector3_telemetry, russell)\n",
    "russell_sector3_telemetry_features = feature_engineering.TelemetryFeatures(russell_sector3_telemetry_cleaned).acceleration().jerk().g_force().get_features_df()\n",
    "\n",
    "russell_corner_telemetry = telemetry_cleaning.filter_corner_telemetry(russell_sector3_telemetry_features, corner_position_cleaned, critical_turn[0], radius)\n",
    "russell_corner_telemetry"
   ]
  },
  {
   "cell_type": "markdown",
   "id": "2a613e5d",
   "metadata": {},
   "source": [
    "Exploratory Data Analysis - George Russell"
   ]
  },
  {
   "cell_type": "code",
   "execution_count": null,
   "id": "7363e326",
   "metadata": {},
   "outputs": [],
   "source": [
    "russell_turn_dfs = [(turn, telemetry_cleaning.filter_corner_telemetry(russell_sector3_telemetry_features, corner_position_cleaned, turn, radius)) for turn in critical_turn]\n",
    "russell_eda_summary = f1_pandas_helpers.get_driver_eda_multiple_turns(russell, russell_turn_dfs)\n",
    "russell_eda_summary"
   ]
  }
 ],
 "metadata": {
  "kernelspec": {
   "display_name": "Python 3 (ipykernel)",
   "language": "python",
   "name": "python3"
  },
  "language_info": {
   "codemirror_mode": {
    "name": "ipython",
    "version": 3
   },
   "file_extension": ".py",
   "mimetype": "text/x-python",
   "name": "python",
   "nbconvert_exporter": "python",
   "pygments_lexer": "ipython3",
   "version": "3.13.5"
  }
 },
 "nbformat": 4,
 "nbformat_minor": 5
}
