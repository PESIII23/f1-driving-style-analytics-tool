{
 "cells": [
  {
   "cell_type": "markdown",
   "id": "752128ae",
   "metadata": {},
   "source": [
    "Single Race Exploratory Data Analysis -\n",
    "\n",
    "The purpose of this notebook is to explore and wrangle data from the Fast-F1 API for a single race. This serves as a starting point to establish a clean workflow for data acquisition, preparation, and early exploration before scaling to a multi-race analysis. I will focus on building a data dictionary, assessing data quality, generating descriptive statistics, and creating preliminary visualizations to understand the structure and sufficiency of the data. The outcome of this notebook will be a reproducible workflow for future feature engineering and multi-race EDA."
   ]
  },
  {
   "cell_type": "markdown",
   "id": "3e20a0c0",
   "metadata": {},
   "source": [
    "The code below adds the parent directory to Python’s module search path and configures logging to suppress all FastF1 logs below the warning level. This will enable subsequent code blocks that use imports to work seamlessly and keep my resulting code compilations clean and easy to read."
   ]
  },
  {
   "cell_type": "code",
   "execution_count": 39,
   "id": "706a7d6d",
   "metadata": {},
   "outputs": [],
   "source": [
    "import sys\n",
    "import os\n",
    "import logging\n",
    "\n",
    "# Add the root directory to sys.path\n",
    "root = os.path.abspath(\"..\")\n",
    "sys.path.append(root)\n",
    "\n",
    "# Suppress FastF1 info logs globally\n",
    "logging.getLogger('fastf1').setLevel(logging.WARNING)"
   ]
  },
  {
   "cell_type": "markdown",
   "id": "67fb729b",
   "metadata": {},
   "source": [
    "In this section, I import Python libraries for data visualization, numerical analysis, and working with Pandas dataframes that the FastF1 API is primarily structured with. I also import custom modules for accessing preprocessed F1 data and constants. To support full visibility into the datasets without truncation, I configure Pandas display options to show all rows and columns."
   ]
  },
  {
   "cell_type": "code",
   "execution_count": 52,
   "id": "33c3b78c",
   "metadata": {},
   "outputs": [],
   "source": [
    "from src.data import f1data\n",
    "from src.utils import f1constants\n",
    "\n",
    "from matplotlib.collections import LineCollection\n",
    "import matplotlib.pyplot as plt\n",
    "import pandas as pd\n",
    "import numpy as np\n",
    "\n",
    "# Set pandas display options\n",
    "pd.set_option('display.max_rows', None)  # show all rows\n",
    "pd.set_option('display.max_columns', None)  # show all columns\n"
   ]
  },
  {
   "cell_type": "markdown",
   "id": "b78f67a9",
   "metadata": {},
   "source": [
    "The following code initializes a single F1 race session by defining parameters such as year, location, and session type. These values are passed into the custom F1Session class (from f1data.py), which creates a session object built on top of FastF1. This object provides access to key race data as well as custom functions I’ve implemented.\n",
    "\n",
    "The session parameters were chosen to best match Tier 1 control qualities:\n",
    "\n",
    "- Weather: Abu Dhabi (dry conditions)\n",
    "- Max Speed: C5 Ultra Soft Tires\n",
    "- Minimize Outliers: Top 3 valid laps from Q3\n",
    "- Traffic: Remove tow laps to avoid slipstream bias"
   ]
  },
  {
   "cell_type": "code",
   "execution_count": 53,
   "id": "087da416",
   "metadata": {},
   "outputs": [],
   "source": [
    "# Define session parameters\n",
    "year = 2024\n",
    "grand_prix = f1constants.F1Constants.LOCATIONS[\"Abu Dhabi\"]\n",
    "session_type = f1constants.F1Constants.SESSIONS[\"Q\"]\n",
    "\n",
    "# Call session object\n",
    "session = f1data.F1Session(year, grand_prix, session_type)"
   ]
  },
  {
   "cell_type": "markdown",
   "id": "b18ca600",
   "metadata": {},
   "source": [
    "All drivers who participated in the Q2 and Q3 sessions will be analyzed. Drivers will be assigned variables and identified by their three-letter codes for further analysis. Q3 data will be prioritized over Q2 if available for that driver."
   ]
  },
  {
   "cell_type": "code",
   "execution_count": 54,
   "id": "d96e96e8",
   "metadata": {},
   "outputs": [],
   "source": [
    "# Drivers from each team that participated in Q2 and Q3 accessed by their three-letter code\n",
    "\n",
    "norris_mcLaren = 'NOR'\n",
    "piastri_mcLaren = 'PIA'\n",
    "\n",
    "verstappen_redBull = 'VER'\n",
    "perez_redBull = 'PER'\n",
    "\n",
    "sainz_ferrari = 'SAI' \n",
    "leclerc_ferrari = 'LEC'\n",
    "\n",
    "gasly_alpine = 'GAS' \n",
    "ocon_alpine = 'OCO'\n",
    "\n",
    "bottas_alfaRomeo = 'BOT' \n",
    "tsunoda_alfaRomeo = 'TSU'\n",
    "\n",
    "alonso_astonMartin = 'ALO' \n",
    "stroll_astonMartin = 'STR'\n",
    "\n",
    "russell_mercedes = 'RUS'\n",
    "\n",
    "hulkenberg_haas = 'HUL'\n"
   ]
  },
  {
   "cell_type": "code",
   "execution_count": null,
   "id": "ff591efe",
   "metadata": {},
   "outputs": [],
   "source": [
    "# Q3 telemetry data for Lando Norris, McLaren\n",
    "q1, q2, q3 = session.get_laps(norris_mcLaren).split_qualifying_sessions()\n",
    "\n",
    "norris_q3_telemetry = session.get_telemetry(q3)\n",
    "\n",
    "norris_q3_telemetry"
   ]
  },
  {
   "cell_type": "code",
   "execution_count": null,
   "id": "80e2ab9e",
   "metadata": {},
   "outputs": [],
   "source": [
    "# Q3 telemetry data for Oscar Piastri, McLaren\n",
    "q1, q2, q3 = session.get_laps(piastri_mcLaren).split_qualifying_sessions()\n",
    "\n",
    "piastri_q3_telemetry = session.get_telemetry(q3)\n",
    "\n",
    "piastri_q3_telemetry"
   ]
  },
  {
   "cell_type": "code",
   "execution_count": null,
   "id": "a97aaa65",
   "metadata": {},
   "outputs": [],
   "source": [
    "# Q3 telemetry data for Max Verstappen, Red Bull\n",
    "q1, q2, q3 = session.get_laps(verstappen_redBull).split_qualifying_sessions()\n",
    "\n",
    "verstappen_q3_telemetry = session.get_telemetry(q3)\n",
    "\n",
    "verstappen_q3_telemetry"
   ]
  },
  {
   "cell_type": "code",
   "execution_count": null,
   "id": "2dece56f",
   "metadata": {},
   "outputs": [],
   "source": [
    "# Q3 telemetry data for Sergio Perez, Red Bull\n",
    "q1, q2, q3 = session.get_laps(perez_redBull).split_qualifying_sessions()\n",
    "\n",
    "perez_q3_telemetry = session.get_telemetry(q3)\n",
    "\n",
    "perez_q3_telemetry"
   ]
  },
  {
   "cell_type": "code",
   "execution_count": null,
   "id": "42e9f037",
   "metadata": {},
   "outputs": [],
   "source": [
    "# Q3 telemetry data for Carlos Sainz, Ferrari\n",
    "q1, q2, q3 = session.get_laps(sainz_ferrari).split_qualifying_sessions()\n",
    "\n",
    "sainz_q3_telemetry = session.get_telemetry(q3)\n",
    "\n",
    "sainz_q3_telemetry"
   ]
  },
  {
   "cell_type": "code",
   "execution_count": null,
   "id": "4cb92159",
   "metadata": {},
   "outputs": [],
   "source": [
    "# Q2 telemetry data for Charles Leclerc, Ferrari\n",
    "q1, q2, q3 = session.get_laps(leclerc_ferrari).split_qualifying_sessions()\n",
    "\n",
    "leclerc_q2_telemetry = session.get_telemetry(q2)\n",
    "\n",
    "leclerc_q2_telemetry"
   ]
  },
  {
   "cell_type": "code",
   "execution_count": null,
   "id": "8fab997d",
   "metadata": {},
   "outputs": [],
   "source": [
    "# Q3 telemetry data for Pierre Gasly, Alpine\n",
    "q1, q2, q3 = session.get_laps(gasly_alpine).split_qualifying_sessions()\n",
    "\n",
    "gasly_q3_telemetry = session.get_telemetry(q3)\n",
    "\n",
    "gasly_q3_telemetry"
   ]
  },
  {
   "cell_type": "code",
   "execution_count": null,
   "id": "ed399efd",
   "metadata": {},
   "outputs": [],
   "source": [
    "# Q2 telemetry data for Esteban Ocon, Alpine\n",
    "q1, q2, q3 = session.get_laps(ocon_alpine).split_qualifying_sessions()\n",
    "\n",
    "ocon_q2_telemetry = session.get_telemetry(q2)\n",
    "\n",
    "ocon_q2_telemetry"
   ]
  },
  {
   "cell_type": "code",
   "execution_count": null,
   "id": "6c7e58d6",
   "metadata": {},
   "outputs": [],
   "source": [
    "# Q3 telemetry data for Valtteri Bottas, Alfa Romeo\n",
    "q1, q2, q3 = session.get_laps(bottas_alfaRomeo).split_qualifying_sessions()\n",
    "\n",
    "bottas_q3_telemetry = session.get_telemetry(q3)\n",
    "\n",
    "bottas_q3_telemetry"
   ]
  },
  {
   "cell_type": "code",
   "execution_count": null,
   "id": "a39ad74a",
   "metadata": {},
   "outputs": [],
   "source": [
    "# Q2 telemetry data for Yuki Tsunoda, Alfa Romeo\n",
    "q1, q2, q3 = session.get_laps(tsunoda_alfaRomeo).split_qualifying_sessions()\n",
    "\n",
    "tsunoda_q2_telemetry = session.get_telemetry(q2)\n",
    "\n",
    "tsunoda_q2_telemetry"
   ]
  },
  {
   "cell_type": "code",
   "execution_count": null,
   "id": "3187006b",
   "metadata": {},
   "outputs": [],
   "source": [
    "# Q3 telemetry data for Fernando Alonso, Aston Martin\n",
    "q1, q2, q3 = session.get_laps(alonso_astonMartin).split_qualifying_sessions()\n",
    "\n",
    "alonso_q3_telemetry = session.get_telemetry(q3)\n",
    "\n",
    "alonso_q3_telemetry"
   ]
  },
  {
   "cell_type": "code",
   "execution_count": null,
   "id": "7fcd3d17",
   "metadata": {},
   "outputs": [],
   "source": [
    "# Q2 telemetry data for Lance Stroll, Aston Martin\n",
    "q1, q2, q3 = session.get_laps(stroll_astonMartin).split_qualifying_sessions()\n",
    "\n",
    "stroll_q2_telemetry = session.get_telemetry(q2)\n",
    "\n",
    "stroll_q2_telemetry"
   ]
  },
  {
   "cell_type": "code",
   "execution_count": null,
   "id": "c6e0bd74",
   "metadata": {},
   "outputs": [],
   "source": [
    "# Q3 telemetry data for George Russell, Mercedes\n",
    "q1, q2, q3 = session.get_laps(russell_mercedes).split_qualifying_sessions()\n",
    "\n",
    "russell_q3_telemetry = session.get_telemetry(q3)\n",
    "\n",
    "russell_q3_telemetry"
   ]
  },
  {
   "cell_type": "code",
   "execution_count": null,
   "id": "c9c6c72f",
   "metadata": {},
   "outputs": [],
   "source": [
    "# Q3 telemetry data for Nico Hulkenberg, Haas\n",
    "q1, q2, q3 = session.get_laps(hulkenberg_haas).split_qualifying_sessions()\n",
    "\n",
    "hulkenberg_q3_telemetry = session.get_telemetry(q3)\n",
    "\n",
    "hulkenberg_q3_telemetry"
   ]
  }
 ],
 "metadata": {
  "kernelspec": {
   "display_name": "gmms_dsat_fastf1",
   "language": "python",
   "name": "python3"
  },
  "language_info": {
   "codemirror_mode": {
    "name": "ipython",
    "version": 3
   },
   "file_extension": ".py",
   "mimetype": "text/x-python",
   "name": "python",
   "nbconvert_exporter": "python",
   "pygments_lexer": "ipython3",
   "version": "3.13.5"
  }
 },
 "nbformat": 4,
 "nbformat_minor": 5
}
